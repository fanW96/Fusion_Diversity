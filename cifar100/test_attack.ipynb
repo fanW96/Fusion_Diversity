{
 "cells": [
  {
   "cell_type": "code",
   "execution_count": 1,
   "metadata": {},
   "outputs": [
    {
     "name": "stderr",
     "output_type": "stream",
     "text": [
      "Using TensorFlow backend.\n"
     ]
    }
   ],
   "source": [
    "import tensorflow as tf\n",
    "import keras as keras\n",
    "import keras.backend as K\n",
    "from resnet_keras_feature_fusion_v12 import ResNet_v12\n",
    "from resnet_keras_feature_fusion_v11 import ResNet_v11\n",
    "from resnet_keras_feature_fusion_v5 import ResNet_v5\n",
    "from resnet_keras_feature_fusion_v4 import ResNet_v4\n",
    "from resnet_keras_feature_fusion_v3 import ResNet_v3\n",
    "from resnet_keras_feature_fusion_v2 import ResNet_v2\n",
    "from resnet_keras import ResNet\n",
    "from test_cifar_iterative import attack_iterative\n",
    "from test_cifar_jsma import attack_jsma\n",
    "from test_cifar_optimization import attack_optimization\n",
    "import cifar100\n",
    "import time"
   ]
  },
  {
   "cell_type": "code",
   "execution_count": 2,
   "metadata": {},
   "outputs": [],
   "source": [
    "x_train, y_train, x_test, y_test = cifar100.get_data()"
   ]
  },
  {
   "cell_type": "code",
   "execution_count": 3,
   "metadata": {},
   "outputs": [],
   "source": [
    "sess = tf.Session()\n",
    "# for jsma\n",
    "# sess = tf.Session(config=tf.ConfigProto(allow_soft_placement=True))\n",
    "K.set_session(sess)"
   ]
  },
  {
   "cell_type": "markdown",
   "metadata": {},
   "source": [
    "# baseline"
   ]
  },
  {
   "cell_type": "code",
   "execution_count": 4,
   "metadata": {},
   "outputs": [],
   "source": [
    "resnet_baseline = ResNet(x_train=x_train, y_train=y_train, x_val=x_test, y_val=y_test, load_weights=False)\n",
    "resnet_baseline.construct()\n",
    "model_baseline = resnet_baseline._model"
   ]
  },
  {
   "cell_type": "code",
   "execution_count": 5,
   "metadata": {},
   "outputs": [],
   "source": [
    "model_baseline.load_weights('models/resnet_32_baseline_weight_best.h5')"
   ]
  },
  {
   "cell_type": "code",
   "execution_count": 7,
   "metadata": {
    "scrolled": true
   },
   "outputs": [
    {
     "data": {
      "text/plain": [
       "0.2166"
      ]
     },
     "execution_count": 7,
     "metadata": {},
     "output_type": "execute_result"
    }
   ],
   "source": [
    "# fgsm 0.02\n",
    "attack_iterative(sess, model_baseline, dataset='cifar100', num_classes=100, attack_method='FastGradientMethod', eps_=0.005, nb_iter_=10)"
   ]
  },
  {
   "cell_type": "code",
   "execution_count": 8,
   "metadata": {},
   "outputs": [
    {
     "data": {
      "text/plain": [
       "0.1576"
      ]
     },
     "execution_count": 8,
     "metadata": {},
     "output_type": "execute_result"
    }
   ],
   "source": [
    "# fgsm 0.04\n",
    "attack_iterative(sess, model_baseline, dataset='cifar100', num_classes=100, attack_method='FastGradientMethod', eps_=0.01, nb_iter_=10)"
   ]
  },
  {
   "cell_type": "code",
   "execution_count": 9,
   "metadata": {
    "scrolled": true
   },
   "outputs": [
    {
     "data": {
      "text/plain": [
       "0.134"
      ]
     },
     "execution_count": 9,
     "metadata": {},
     "output_type": "execute_result"
    }
   ],
   "source": [
    "# bim 0.02\n",
    "attack_iterative(sess, model_baseline, dataset='cifar100', num_classes=100, attack_method='BasicIterativeMethod', eps_=0.005, nb_iter_=10)"
   ]
  },
  {
   "cell_type": "code",
   "execution_count": 10,
   "metadata": {},
   "outputs": [
    {
     "name": "stdout",
     "output_type": "stream",
     "text": [
      "WARNING:tensorflow:From /home/mastlab/.conda/envs/tf1-12/lib/python3.6/site-packages/cleverhans/attacks.py:549: calling reduce_mean (from tensorflow.python.ops.math_ops) with keep_dims is deprecated and will be removed in a future version.\n",
      "Instructions for updating:\n",
      "keep_dims is deprecated, use keepdims instead\n"
     ]
    },
    {
     "data": {
      "text/plain": [
       "0.1429"
      ]
     },
     "execution_count": 10,
     "metadata": {},
     "output_type": "execute_result"
    }
   ],
   "source": [
    "# mim 0.02\n",
    "attack_iterative(sess, model_baseline, dataset='cifar100', num_classes=100, attack_method='MomentumIterativeMethod', eps_=0.005, nb_iter_=10)"
   ]
  },
  {
   "cell_type": "code",
   "execution_count": 11,
   "metadata": {},
   "outputs": [
    {
     "data": {
      "text/plain": [
       "0.1531"
      ]
     },
     "execution_count": 11,
     "metadata": {},
     "output_type": "execute_result"
    }
   ],
   "source": [
    "# pgd 0.02\n",
    "attack_iterative(sess, model_baseline, dataset='cifar100', num_classes=100, attack_method='MadryEtAl', eps_=0.005, nb_iter_=10)"
   ]
  },
  {
   "cell_type": "code",
   "execution_count": 5,
   "metadata": {},
   "outputs": [
    {
     "name": "stderr",
     "output_type": "stream",
     "text": [
      "/home/mastlab/.conda/envs/tf1-12/lib/python3.6/site-packages/cleverhans/attacks_tf.py:389: UserWarning: jsma_batch is deprecated and will be removed on 2018-06-10. Use jsma_symbolic instead.\n",
      "  warnings.warn(\"jsma_batch is deprecated and will be removed on \"\n"
     ]
    },
    {
     "data": {
      "text/plain": [
       "(0.928, 0.111)"
      ]
     },
     "execution_count": 5,
     "metadata": {},
     "output_type": "execute_result"
    }
   ],
   "source": [
    "# jsma confidence 0.05 theta 0.1\n",
    "# start_time = time.time()\n",
    "attack_jsma(sess, False, model_baseline, dataset='cifar100', num_classes=100, attack_method='JSMA', theta_=0.1, gamma_=0.05)\n",
    "# print(time.time()-start_time)"
   ]
  },
  {
   "cell_type": "code",
   "execution_count": 6,
   "metadata": {},
   "outputs": [
    {
     "name": "stdout",
     "output_type": "stream",
     "text": [
      "WARNING:tensorflow:From /home/mastlab/.conda/envs/tf1-12/lib/python3.6/site-packages/cleverhans/attacks.py:216: calling reduce_max (from tensorflow.python.ops.math_ops) with keep_dims is deprecated and will be removed in a future version.\n",
      "Instructions for updating:\n",
      "keep_dims is deprecated, use keepdims instead\n"
     ]
    },
    {
     "data": {
      "text/plain": [
       "(0.65, 0.124)"
      ]
     },
     "execution_count": 6,
     "metadata": {},
     "output_type": "execute_result"
    }
   ],
   "source": [
    "# cw2 0.01\n",
    "attack_optimization(sess, False, model_baseline, dataset='cifar100', num_classes=100, attack_method='CarliniWagnerL2')"
   ]
  },
  {
   "cell_type": "code",
   "execution_count": 7,
   "metadata": {},
   "outputs": [
    {
     "data": {
      "text/plain": [
       "(0.65, 0.103)"
      ]
     },
     "execution_count": 7,
     "metadata": {},
     "output_type": "execute_result"
    }
   ],
   "source": [
    "# EAM 1\n",
    "attack_optimization(sess, False, model_baseline, dataset='cifar100', num_classes=100, attack_method='ElasticNetMethod')"
   ]
  },
  {
   "cell_type": "markdown",
   "metadata": {},
   "source": [
    "# fusion_diversity_avg"
   ]
  },
  {
   "cell_type": "code",
   "execution_count": 4,
   "metadata": {},
   "outputs": [],
   "source": [
    "resnet_fusion = ResNet_v2(x_train=x_train, y_train=y_train, x_val=x_test, y_val=y_test, load_weights=False)\n",
    "resnet_fusion.construct()\n",
    "model_fusion = resnet_fusion._model"
   ]
  },
  {
   "cell_type": "code",
   "execution_count": 5,
   "metadata": {},
   "outputs": [],
   "source": [
    "model_fusion.load_weights('models/resnet_32_fusion_diversity_avg_weight_best.h5')"
   ]
  },
  {
   "cell_type": "code",
   "execution_count": 6,
   "metadata": {
    "scrolled": true
   },
   "outputs": [
    {
     "name": "stdout",
     "output_type": "stream",
     "text": [
      "WARNING:tensorflow:From /home/mastlab/.conda/envs/tf1-12/lib/python3.6/site-packages/cleverhans/attacks.py:216: calling reduce_max (from tensorflow.python.ops.math_ops) with keep_dims is deprecated and will be removed in a future version.\n",
      "Instructions for updating:\n",
      "keep_dims is deprecated, use keepdims instead\n",
      "WARNING:tensorflow:From /home/mastlab/.conda/envs/tf1-12/lib/python3.6/site-packages/cleverhans/attacks_tf.py:62: calling reduce_sum (from tensorflow.python.ops.math_ops) with keep_dims is deprecated and will be removed in a future version.\n",
      "Instructions for updating:\n",
      "keep_dims is deprecated, use keepdims instead\n",
      "WARNING:tensorflow:From /home/mastlab/.conda/envs/tf1-12/lib/python3.6/site-packages/cleverhans/utils_tf.py:37: softmax_cross_entropy_with_logits (from tensorflow.python.ops.nn_ops) is deprecated and will be removed in a future version.\n",
      "Instructions for updating:\n",
      "\n",
      "Future major versions of TensorFlow will allow gradients to flow\n",
      "into the labels input on backprop by default.\n",
      "\n",
      "See `tf.nn.softmax_cross_entropy_with_logits_v2`.\n",
      "\n"
     ]
    },
    {
     "data": {
      "text/plain": [
       "0.1656"
      ]
     },
     "execution_count": 6,
     "metadata": {},
     "output_type": "execute_result"
    }
   ],
   "source": [
    "# fgsm 0.02\n",
    "attack_iterative(sess, model_fusion, dataset='cifar100', num_classes=100, attack_method='FastGradientMethod', eps_=0.01, nb_iter_=10)"
   ]
  },
  {
   "cell_type": "code",
   "execution_count": 7,
   "metadata": {},
   "outputs": [
    {
     "data": {
      "text/plain": [
       "0.1112"
      ]
     },
     "execution_count": 7,
     "metadata": {},
     "output_type": "execute_result"
    }
   ],
   "source": [
    "# fgsm 0.04\n",
    "attack_iterative(sess, model_fusion, dataset='cifar100', num_classes=100, attack_method='FastGradientMethod', eps_=0.02, nb_iter_=10)"
   ]
  },
  {
   "cell_type": "code",
   "execution_count": 8,
   "metadata": {
    "scrolled": true
   },
   "outputs": [
    {
     "data": {
      "text/plain": [
       "0.1067"
      ]
     },
     "execution_count": 8,
     "metadata": {},
     "output_type": "execute_result"
    }
   ],
   "source": [
    "# bim 0.02\n",
    "attack_iterative(sess, model_fusion, dataset='cifar100', num_classes=100, attack_method='BasicIterativeMethod', eps_=0.01, nb_iter_=10)"
   ]
  },
  {
   "cell_type": "code",
   "execution_count": 9,
   "metadata": {},
   "outputs": [
    {
     "name": "stdout",
     "output_type": "stream",
     "text": [
      "WARNING:tensorflow:From /home/mastlab/.conda/envs/tf1-12/lib/python3.6/site-packages/cleverhans/attacks.py:549: calling reduce_mean (from tensorflow.python.ops.math_ops) with keep_dims is deprecated and will be removed in a future version.\n",
      "Instructions for updating:\n",
      "keep_dims is deprecated, use keepdims instead\n"
     ]
    },
    {
     "data": {
      "text/plain": [
       "0.111"
      ]
     },
     "execution_count": 9,
     "metadata": {},
     "output_type": "execute_result"
    }
   ],
   "source": [
    "# mim 0.02\n",
    "attack_iterative(sess, model_fusion, dataset='cifar100', num_classes=100, attack_method='MomentumIterativeMethod', eps_=0.01, nb_iter_=10)"
   ]
  },
  {
   "cell_type": "code",
   "execution_count": 10,
   "metadata": {},
   "outputs": [
    {
     "data": {
      "text/plain": [
       "0.1082"
      ]
     },
     "execution_count": 10,
     "metadata": {},
     "output_type": "execute_result"
    }
   ],
   "source": [
    "# pgd 0.02\n",
    "attack_iterative(sess, model_fusion, dataset='cifar100', num_classes=100, attack_method='MadryEtAl', eps_=0.01, nb_iter_=10)"
   ]
  },
  {
   "cell_type": "code",
   "execution_count": 7,
   "metadata": {},
   "outputs": [
    {
     "name": "stderr",
     "output_type": "stream",
     "text": [
      "/home/mastlab/.conda/envs/tf1-12/lib/python3.6/site-packages/cleverhans/attacks_tf.py:389: UserWarning: jsma_batch is deprecated and will be removed on 2018-06-10. Use jsma_symbolic instead.\n",
      "  warnings.warn(\"jsma_batch is deprecated and will be removed on \"\n"
     ]
    },
    {
     "data": {
      "text/plain": [
       "(0.915, 0.397)"
      ]
     },
     "execution_count": 7,
     "metadata": {},
     "output_type": "execute_result"
    }
   ],
   "source": [
    "# jsma confidence 0.05 theta 0.1\n",
    "# start_time = time.time()\n",
    "attack_jsma(sess, False, model_fusion, dataset='cifar100', num_classes=100, attack_method='JSMA', theta_=0.1, gamma_=0.05)\n",
    "# print(time.time()-start_time)"
   ]
  },
  {
   "cell_type": "code",
   "execution_count": 6,
   "metadata": {},
   "outputs": [
    {
     "name": "stdout",
     "output_type": "stream",
     "text": [
      "WARNING:tensorflow:From /home/mastlab/.conda/envs/tf1-12/lib/python3.6/site-packages/cleverhans/attacks.py:216: calling reduce_max (from tensorflow.python.ops.math_ops) with keep_dims is deprecated and will be removed in a future version.\n",
      "Instructions for updating:\n",
      "keep_dims is deprecated, use keepdims instead\n"
     ]
    },
    {
     "data": {
      "text/plain": [
       "(0.915, 0.163)"
      ]
     },
     "execution_count": 6,
     "metadata": {},
     "output_type": "execute_result"
    }
   ],
   "source": [
    "# cw2 \n",
    "attack_optimization(sess, False, model_fusion, dataset='cifar100', num_classes=100, attack_method='CarliniWagnerL2')"
   ]
  },
  {
   "cell_type": "code",
   "execution_count": 7,
   "metadata": {},
   "outputs": [
    {
     "data": {
      "text/plain": [
       "(0.915, 0.104)"
      ]
     },
     "execution_count": 7,
     "metadata": {},
     "output_type": "execute_result"
    }
   ],
   "source": [
    "# EAM\n",
    "attack_optimization(sess, False, model_fusion, dataset='cifar100', num_classes=100, attack_method='ElasticNetMethod')"
   ]
  },
  {
   "cell_type": "markdown",
   "metadata": {},
   "source": [
    "# nofusion_diversity_avg"
   ]
  },
  {
   "cell_type": "code",
   "execution_count": 4,
   "metadata": {},
   "outputs": [],
   "source": [
    "resnet_nofusion = ResNet_v3(x_train=x_train, y_train=y_train, x_val=x_test, y_val=y_test, load_weights=False)\n",
    "resnet_nofusion.construct()\n",
    "model_nofusion = resnet_nofusion._model"
   ]
  },
  {
   "cell_type": "code",
   "execution_count": 5,
   "metadata": {},
   "outputs": [],
   "source": [
    "model_nofusion.load_weights('models/resnet_32_nofusion_diversity_avg_weight_best.h5')"
   ]
  },
  {
   "cell_type": "code",
   "execution_count": 6,
   "metadata": {
    "scrolled": true
   },
   "outputs": [
    {
     "name": "stdout",
     "output_type": "stream",
     "text": [
      "WARNING:tensorflow:From /home/mastlab/.conda/envs/tf1-12/lib/python3.6/site-packages/cleverhans/attacks.py:216: calling reduce_max (from tensorflow.python.ops.math_ops) with keep_dims is deprecated and will be removed in a future version.\n",
      "Instructions for updating:\n",
      "keep_dims is deprecated, use keepdims instead\n",
      "WARNING:tensorflow:From /home/mastlab/.conda/envs/tf1-12/lib/python3.6/site-packages/cleverhans/attacks_tf.py:62: calling reduce_sum (from tensorflow.python.ops.math_ops) with keep_dims is deprecated and will be removed in a future version.\n",
      "Instructions for updating:\n",
      "keep_dims is deprecated, use keepdims instead\n",
      "WARNING:tensorflow:From /home/mastlab/.conda/envs/tf1-12/lib/python3.6/site-packages/cleverhans/utils_tf.py:37: softmax_cross_entropy_with_logits (from tensorflow.python.ops.nn_ops) is deprecated and will be removed in a future version.\n",
      "Instructions for updating:\n",
      "\n",
      "Future major versions of TensorFlow will allow gradients to flow\n",
      "into the labels input on backprop by default.\n",
      "\n",
      "See `tf.nn.softmax_cross_entropy_with_logits_v2`.\n",
      "\n"
     ]
    },
    {
     "data": {
      "text/plain": [
       "(0.3252, 0.2618)"
      ]
     },
     "execution_count": 6,
     "metadata": {},
     "output_type": "execute_result"
    }
   ],
   "source": [
    "# fgsm 0.01\n",
    "attack_iterative(sess, model_nofusion, model_baseline, dataset='cifar100', num_classes=100, attack_method='FastGradientMethod', eps_=0.01, nb_iter_=10)"
   ]
  },
  {
   "cell_type": "code",
   "execution_count": 7,
   "metadata": {},
   "outputs": [
    {
     "data": {
      "text/plain": [
       "(0.1812, 0.2118)"
      ]
     },
     "execution_count": 7,
     "metadata": {},
     "output_type": "execute_result"
    }
   ],
   "source": [
    "# fgsm 0.04\n",
    "attack_iterative(sess, model_nofusion, model_baseline, dataset='cifar100', num_classes=100, attack_method='FastGradientMethod', eps_=0.02, nb_iter_=10)"
   ]
  },
  {
   "cell_type": "code",
   "execution_count": 8,
   "metadata": {},
   "outputs": [
    {
     "data": {
      "text/plain": [
       "(0.1046, 0.0499)"
      ]
     },
     "execution_count": 8,
     "metadata": {},
     "output_type": "execute_result"
    }
   ],
   "source": [
    "# bim 0.02\n",
    "attack_iterative(sess, model_nofusion, model_baseline, dataset='cifar100', num_classes=100, attack_method='BasicIterativeMethod', eps_=0.01, nb_iter_=10)"
   ]
  },
  {
   "cell_type": "code",
   "execution_count": 9,
   "metadata": {},
   "outputs": [
    {
     "name": "stdout",
     "output_type": "stream",
     "text": [
      "WARNING:tensorflow:From /home/mastlab/.conda/envs/tf1-12/lib/python3.6/site-packages/cleverhans/attacks.py:549: calling reduce_mean (from tensorflow.python.ops.math_ops) with keep_dims is deprecated and will be removed in a future version.\n",
      "Instructions for updating:\n",
      "keep_dims is deprecated, use keepdims instead\n"
     ]
    },
    {
     "data": {
      "text/plain": [
       "(0.1147, 0.0501)"
      ]
     },
     "execution_count": 9,
     "metadata": {},
     "output_type": "execute_result"
    }
   ],
   "source": [
    "# mim 0.02\n",
    "attack_iterative(sess, model_nofusion, model_baseline, dataset='cifar100', num_classes=100, attack_method='MomentumIterativeMethod', eps_=0.01, nb_iter_=10)"
   ]
  },
  {
   "cell_type": "code",
   "execution_count": 10,
   "metadata": {},
   "outputs": [
    {
     "data": {
      "text/plain": [
       "(0.1052, 0.0468)"
      ]
     },
     "execution_count": 10,
     "metadata": {},
     "output_type": "execute_result"
    }
   ],
   "source": [
    "# pgd 0.02\n",
    "attack_iterative(sess, model_nofusion, model_baseline, dataset='cifar100', num_classes=100, attack_method='MadryEtAl', eps_=0.01, nb_iter_=10)"
   ]
  },
  {
   "cell_type": "code",
   "execution_count": 6,
   "metadata": {},
   "outputs": [
    {
     "name": "stderr",
     "output_type": "stream",
     "text": [
      "/home/mastlab/.conda/envs/tf1-12/lib/python3.6/site-packages/cleverhans/attacks_tf.py:389: UserWarning: jsma_batch is deprecated and will be removed on 2018-06-10. Use jsma_symbolic instead.\n",
      "  warnings.warn(\"jsma_batch is deprecated and will be removed on \"\n"
     ]
    },
    {
     "data": {
      "text/plain": [
       "(0.89, 0.386)"
      ]
     },
     "execution_count": 6,
     "metadata": {},
     "output_type": "execute_result"
    }
   ],
   "source": [
    "# jsma confidence 0.05 theta 0.1\n",
    "# start_time = time.time()\n",
    "attack_jsma(sess, False, model_nofusion, dataset='cifar100', num_classes=100, attack_method='JSMA', theta_=0.1, gamma_=0.05)\n",
    "# print(time.time()-start_time)"
   ]
  },
  {
   "cell_type": "code",
   "execution_count": 6,
   "metadata": {},
   "outputs": [
    {
     "name": "stdout",
     "output_type": "stream",
     "text": [
      "WARNING:tensorflow:From /home/mastlab/.conda/envs/tf1-12/lib/python3.6/site-packages/cleverhans/attacks.py:216: calling reduce_max (from tensorflow.python.ops.math_ops) with keep_dims is deprecated and will be removed in a future version.\n",
      "Instructions for updating:\n",
      "keep_dims is deprecated, use keepdims instead\n"
     ]
    },
    {
     "data": {
      "text/plain": [
       "(0.89, 0.227)"
      ]
     },
     "execution_count": 6,
     "metadata": {},
     "output_type": "execute_result"
    }
   ],
   "source": [
    "# cw2 \n",
    "attack_optimization(sess, False, model_nofusion, dataset='cifar100', num_classes=100, attack_method='CarliniWagnerL2')"
   ]
  },
  {
   "cell_type": "code",
   "execution_count": 7,
   "metadata": {},
   "outputs": [
    {
     "data": {
      "text/plain": [
       "(0.89, 0.156)"
      ]
     },
     "execution_count": 7,
     "metadata": {},
     "output_type": "execute_result"
    }
   ],
   "source": [
    "# EAM\n",
    "attack_optimization(sess, False, model_nofusion, dataset='cifar100', num_classes=100, attack_method='ElasticNetMethod')"
   ]
  },
  {
   "cell_type": "markdown",
   "metadata": {},
   "source": [
    "# nofusion_nodiversity_avg"
   ]
  },
  {
   "cell_type": "code",
   "execution_count": 4,
   "metadata": {},
   "outputs": [],
   "source": [
    "resnet_nofusion_nodiversity = ResNet_v4(x_train=x_train, y_train=y_train, x_val=x_test, y_val=y_test, load_weights=False)\n",
    "resnet_nofusion_nodiversity.construct()\n",
    "model_nofusion_nodiversity = resnet_nofusion_nodiversity._model"
   ]
  },
  {
   "cell_type": "code",
   "execution_count": 5,
   "metadata": {},
   "outputs": [],
   "source": [
    "model_nofusion_nodiversity.load_weights('models/resnet_32_nofusion_nodiversity_avg_weight_best.h5')"
   ]
  },
  {
   "cell_type": "code",
   "execution_count": 7,
   "metadata": {
    "scrolled": true
   },
   "outputs": [
    {
     "name": "stdout",
     "output_type": "stream",
     "text": [
      "WARNING:tensorflow:From /home/mastlab/.conda/envs/tf1-12/lib/python3.6/site-packages/cleverhans/attacks.py:216: calling reduce_max (from tensorflow.python.ops.math_ops) with keep_dims is deprecated and will be removed in a future version.\n",
      "Instructions for updating:\n",
      "keep_dims is deprecated, use keepdims instead\n",
      "WARNING:tensorflow:From /home/mastlab/.conda/envs/tf1-12/lib/python3.6/site-packages/cleverhans/attacks_tf.py:62: calling reduce_sum (from tensorflow.python.ops.math_ops) with keep_dims is deprecated and will be removed in a future version.\n",
      "Instructions for updating:\n",
      "keep_dims is deprecated, use keepdims instead\n",
      "WARNING:tensorflow:From /home/mastlab/.conda/envs/tf1-12/lib/python3.6/site-packages/cleverhans/utils_tf.py:37: softmax_cross_entropy_with_logits (from tensorflow.python.ops.nn_ops) is deprecated and will be removed in a future version.\n",
      "Instructions for updating:\n",
      "\n",
      "Future major versions of TensorFlow will allow gradients to flow\n",
      "into the labels input on backprop by default.\n",
      "\n",
      "See `tf.nn.softmax_cross_entropy_with_logits_v2`.\n",
      "\n"
     ]
    },
    {
     "data": {
      "text/plain": [
       "(0.3551, 0.2618)"
      ]
     },
     "execution_count": 7,
     "metadata": {},
     "output_type": "execute_result"
    }
   ],
   "source": [
    "# fgsm 0.02\n",
    "attack_iterative(sess, model_nofusion_nodiversity, model_baseline, dataset='cifar100', num_classes=100, attack_method='FastGradientMethod', eps_=0.01, nb_iter_=10)"
   ]
  },
  {
   "cell_type": "code",
   "execution_count": 8,
   "metadata": {},
   "outputs": [
    {
     "data": {
      "text/plain": [
       "(0.222, 0.2118)"
      ]
     },
     "execution_count": 8,
     "metadata": {},
     "output_type": "execute_result"
    }
   ],
   "source": [
    "# fgsm 0.04\n",
    "attack_iterative(sess, model_nofusion_nodiversity, model_baseline, dataset='cifar100', num_classes=100, attack_method='FastGradientMethod', eps_=0.02, nb_iter_=10)"
   ]
  },
  {
   "cell_type": "code",
   "execution_count": 9,
   "metadata": {},
   "outputs": [
    {
     "data": {
      "text/plain": [
       "(0.098, 0.0499)"
      ]
     },
     "execution_count": 9,
     "metadata": {},
     "output_type": "execute_result"
    }
   ],
   "source": [
    "# bim 0.02\n",
    "attack_iterative(sess, model_nofusion_nodiversity, model_baseline, dataset='cifar100', num_classes=100, attack_method='BasicIterativeMethod', eps_=0.01, nb_iter_=10)"
   ]
  },
  {
   "cell_type": "code",
   "execution_count": 10,
   "metadata": {},
   "outputs": [
    {
     "name": "stdout",
     "output_type": "stream",
     "text": [
      "WARNING:tensorflow:From /home/mastlab/.conda/envs/tf1-12/lib/python3.6/site-packages/cleverhans/attacks.py:549: calling reduce_mean (from tensorflow.python.ops.math_ops) with keep_dims is deprecated and will be removed in a future version.\n",
      "Instructions for updating:\n",
      "keep_dims is deprecated, use keepdims instead\n"
     ]
    },
    {
     "data": {
      "text/plain": [
       "(0.1035, 0.0501)"
      ]
     },
     "execution_count": 10,
     "metadata": {},
     "output_type": "execute_result"
    }
   ],
   "source": [
    "# mim 0.02\n",
    "attack_iterative(sess, model_nofusion_nodiversity, model_baseline, dataset='cifar100', num_classes=100, attack_method='MomentumIterativeMethod', eps_=0.01, nb_iter_=10)"
   ]
  },
  {
   "cell_type": "code",
   "execution_count": 11,
   "metadata": {},
   "outputs": [
    {
     "data": {
      "text/plain": [
       "(0.0978, 0.0465)"
      ]
     },
     "execution_count": 11,
     "metadata": {},
     "output_type": "execute_result"
    }
   ],
   "source": [
    "# pgd 0.02\n",
    "attack_iterative(sess, model_nofusion_nodiversity, model_baseline, dataset='cifar100', num_classes=100, attack_method='MadryEtAl', eps_=0.01, nb_iter_=10)"
   ]
  },
  {
   "cell_type": "code",
   "execution_count": 6,
   "metadata": {},
   "outputs": [
    {
     "name": "stderr",
     "output_type": "stream",
     "text": [
      "/home/mastlab/.conda/envs/tf1-12/lib/python3.6/site-packages/cleverhans/attacks_tf.py:389: UserWarning: jsma_batch is deprecated and will be removed on 2018-06-10. Use jsma_symbolic instead.\n",
      "  warnings.warn(\"jsma_batch is deprecated and will be removed on \"\n"
     ]
    },
    {
     "data": {
      "text/plain": [
       "(0.83, 0.29)"
      ]
     },
     "execution_count": 6,
     "metadata": {},
     "output_type": "execute_result"
    }
   ],
   "source": [
    "# jsma confidence 0.05 theta 0.1\n",
    "# start_time = time.time()\n",
    "attack_jsma(sess, False, model_nofusion_nodiversity, dataset='cifar100', num_classes=100, attack_method='JSMA', theta_=0.1, gamma_=0.05)\n",
    "# print(time.time()-start_time)"
   ]
  },
  {
   "cell_type": "code",
   "execution_count": 6,
   "metadata": {},
   "outputs": [
    {
     "name": "stdout",
     "output_type": "stream",
     "text": [
      "WARNING:tensorflow:From /home/mastlab/.conda/envs/tf1-12/lib/python3.6/site-packages/cleverhans/attacks.py:216: calling reduce_max (from tensorflow.python.ops.math_ops) with keep_dims is deprecated and will be removed in a future version.\n",
      "Instructions for updating:\n",
      "keep_dims is deprecated, use keepdims instead\n"
     ]
    },
    {
     "data": {
      "text/plain": [
       "(0.878, 0.295)"
      ]
     },
     "execution_count": 6,
     "metadata": {},
     "output_type": "execute_result"
    }
   ],
   "source": [
    "# cw2 \n",
    "attack_optimization(sess, False, model_nofusion_nodiversity, dataset='cifar100', num_classes=100, attack_method='CarliniWagnerL2')"
   ]
  },
  {
   "cell_type": "code",
   "execution_count": 7,
   "metadata": {},
   "outputs": [
    {
     "data": {
      "text/plain": [
       "(0.878, 0.12)"
      ]
     },
     "execution_count": 7,
     "metadata": {},
     "output_type": "execute_result"
    }
   ],
   "source": [
    "# EAM\n",
    "attack_optimization(sess, False, model_nofusion_nodiversity, dataset='cifar100', num_classes=100, attack_method='ElasticNetMethod')"
   ]
  },
  {
   "cell_type": "markdown",
   "metadata": {},
   "source": [
    "# fusion_nodiversity_avg"
   ]
  },
  {
   "cell_type": "code",
   "execution_count": 8,
   "metadata": {},
   "outputs": [],
   "source": [
    "resnet_fusion_nodiversity = ResNet_v5(x_train=x_train, y_train=y_train, x_val=x_test, y_val=y_test, load_weights=False)\n",
    "resnet_fusion_nodiversity.construct()\n",
    "model_fusion_nodiversity = resnet_fusion_nodiversity._model"
   ]
  },
  {
   "cell_type": "code",
   "execution_count": 9,
   "metadata": {},
   "outputs": [],
   "source": [
    "model_fusion_nodiversity.load_weights('models/resnet_32_fusion_nodiversity_avg_weight_best.h5')"
   ]
  },
  {
   "cell_type": "code",
   "execution_count": 7,
   "metadata": {
    "scrolled": true
   },
   "outputs": [
    {
     "name": "stdout",
     "output_type": "stream",
     "text": [
      "WARNING:tensorflow:From /home/mastlab/.conda/envs/tf1-12/lib/python3.6/site-packages/cleverhans/attacks.py:216: calling reduce_max (from tensorflow.python.ops.math_ops) with keep_dims is deprecated and will be removed in a future version.\n",
      "Instructions for updating:\n",
      "keep_dims is deprecated, use keepdims instead\n",
      "WARNING:tensorflow:From /home/mastlab/.conda/envs/tf1-12/lib/python3.6/site-packages/cleverhans/attacks_tf.py:62: calling reduce_sum (from tensorflow.python.ops.math_ops) with keep_dims is deprecated and will be removed in a future version.\n",
      "Instructions for updating:\n",
      "keep_dims is deprecated, use keepdims instead\n",
      "WARNING:tensorflow:From /home/mastlab/.conda/envs/tf1-12/lib/python3.6/site-packages/cleverhans/utils_tf.py:37: softmax_cross_entropy_with_logits (from tensorflow.python.ops.nn_ops) is deprecated and will be removed in a future version.\n",
      "Instructions for updating:\n",
      "\n",
      "Future major versions of TensorFlow will allow gradients to flow\n",
      "into the labels input on backprop by default.\n",
      "\n",
      "See `tf.nn.softmax_cross_entropy_with_logits_v2`.\n",
      "\n"
     ]
    },
    {
     "data": {
      "text/plain": [
       "(0.2421, 0.2618)"
      ]
     },
     "execution_count": 7,
     "metadata": {},
     "output_type": "execute_result"
    }
   ],
   "source": [
    "# fgsm 0.02\n",
    "attack_iterative(sess, model_fusion_nodiversity, model_baseline, dataset='cifar100', num_classes=100, attack_method='FastGradientMethod', eps_=0.01, nb_iter_=10)"
   ]
  },
  {
   "cell_type": "code",
   "execution_count": 8,
   "metadata": {},
   "outputs": [
    {
     "data": {
      "text/plain": [
       "(0.1926, 0.2118)"
      ]
     },
     "execution_count": 8,
     "metadata": {},
     "output_type": "execute_result"
    }
   ],
   "source": [
    "# fgsm 0.04\n",
    "attack_iterative(sess, model_fusion_nodiversity, model_baseline, dataset='cifar100', num_classes=100, attack_method='FastGradientMethod', eps_=0.02, nb_iter_=10)"
   ]
  },
  {
   "cell_type": "code",
   "execution_count": 9,
   "metadata": {},
   "outputs": [
    {
     "data": {
      "text/plain": [
       "(0.0574, 0.0499)"
      ]
     },
     "execution_count": 9,
     "metadata": {},
     "output_type": "execute_result"
    }
   ],
   "source": [
    "# bim 0.02\n",
    "attack_iterative(sess, model_fusion_nodiversity, model_baseline, dataset='cifar100', num_classes=100, attack_method='BasicIterativeMethod', eps_=0.01, nb_iter_=10)"
   ]
  },
  {
   "cell_type": "code",
   "execution_count": 10,
   "metadata": {},
   "outputs": [
    {
     "name": "stdout",
     "output_type": "stream",
     "text": [
      "WARNING:tensorflow:From /home/mastlab/.conda/envs/tf1-12/lib/python3.6/site-packages/cleverhans/attacks.py:549: calling reduce_mean (from tensorflow.python.ops.math_ops) with keep_dims is deprecated and will be removed in a future version.\n",
      "Instructions for updating:\n",
      "keep_dims is deprecated, use keepdims instead\n"
     ]
    },
    {
     "data": {
      "text/plain": [
       "(0.0584, 0.0501)"
      ]
     },
     "execution_count": 10,
     "metadata": {},
     "output_type": "execute_result"
    }
   ],
   "source": [
    "# mim 0.02\n",
    "attack_iterative(sess, model_fusion_nodiversity, model_baseline, dataset='cifar100', num_classes=100, attack_method='MomentumIterativeMethod', eps_=0.01, nb_iter_=10)"
   ]
  },
  {
   "cell_type": "code",
   "execution_count": 11,
   "metadata": {},
   "outputs": [
    {
     "data": {
      "text/plain": [
       "(0.0572, 0.0477)"
      ]
     },
     "execution_count": 11,
     "metadata": {},
     "output_type": "execute_result"
    }
   ],
   "source": [
    "# pgd 0.02\n",
    "attack_iterative(sess, model_fusion_nodiversity, model_baseline, dataset='cifar100', num_classes=100, attack_method='MadryEtAl', eps_=0.01, nb_iter_=10)"
   ]
  },
  {
   "cell_type": "code",
   "execution_count": 6,
   "metadata": {},
   "outputs": [
    {
     "name": "stderr",
     "output_type": "stream",
     "text": [
      "/home/mastlab/.conda/envs/tf1-12/lib/python3.6/site-packages/cleverhans/attacks_tf.py:389: UserWarning: jsma_batch is deprecated and will be removed on 2018-06-10. Use jsma_symbolic instead.\n",
      "  warnings.warn(\"jsma_batch is deprecated and will be removed on \"\n"
     ]
    },
    {
     "data": {
      "text/plain": [
       "(0.93, 0.18)"
      ]
     },
     "execution_count": 6,
     "metadata": {},
     "output_type": "execute_result"
    }
   ],
   "source": [
    "# jsma confidence 0.05 theta 0.1\n",
    "# start_time = time.time()\n",
    "attack_jsma(sess, False, model_fusion_nodiversity, dataset='cifar100', num_classes=100, attack_method='JSMA', theta_=0.1, gamma_=0.05)\n",
    "# print(time.time()-start_time)"
   ]
  },
  {
   "cell_type": "code",
   "execution_count": 10,
   "metadata": {},
   "outputs": [
    {
     "data": {
      "text/plain": [
       "(0.922, 0.054)"
      ]
     },
     "execution_count": 10,
     "metadata": {},
     "output_type": "execute_result"
    }
   ],
   "source": [
    "# cw2 \n",
    "attack_optimization(sess, False, model_fusion_nodiversity, dataset='cifar100', num_classes=100, attack_method='CarliniWagnerL2')"
   ]
  },
  {
   "cell_type": "code",
   "execution_count": 11,
   "metadata": {},
   "outputs": [
    {
     "data": {
      "text/plain": [
       "(0.922, 0.026)"
      ]
     },
     "execution_count": 11,
     "metadata": {},
     "output_type": "execute_result"
    }
   ],
   "source": [
    "# EAM\n",
    "attack_optimization(sess, False, model_fusion_nodiversity, dataset='cifar100', num_classes=100, attack_method='ElasticNetMethod')"
   ]
  },
  {
   "cell_type": "markdown",
   "metadata": {},
   "source": [
    "# lessdiv"
   ]
  },
  {
   "cell_type": "code",
   "execution_count": 4,
   "metadata": {},
   "outputs": [],
   "source": [
    "resnet_lessdiv = ResNet_v11(x_train=x_train, y_train=y_train, x_val=x_test, y_val=y_test, load_weights=False)\n",
    "resnet_lessdiv.construct()\n",
    "model_lessdiv = resnet_lessdiv._model"
   ]
  },
  {
   "cell_type": "code",
   "execution_count": 5,
   "metadata": {},
   "outputs": [],
   "source": [
    "model_lessdiv.load_weights('models/resnet_32_fusion_diversity_lessdiv_avg_weight_best.h5')"
   ]
  },
  {
   "cell_type": "code",
   "execution_count": 7,
   "metadata": {
    "scrolled": true
   },
   "outputs": [
    {
     "name": "stdout",
     "output_type": "stream",
     "text": [
      "WARNING:tensorflow:From /home/mastlab/.conda/envs/tf1-12/lib/python3.6/site-packages/cleverhans/attacks.py:216: calling reduce_max (from tensorflow.python.ops.math_ops) with keep_dims is deprecated and will be removed in a future version.\n",
      "Instructions for updating:\n",
      "keep_dims is deprecated, use keepdims instead\n",
      "WARNING:tensorflow:From /home/mastlab/.conda/envs/tf1-12/lib/python3.6/site-packages/cleverhans/attacks_tf.py:62: calling reduce_sum (from tensorflow.python.ops.math_ops) with keep_dims is deprecated and will be removed in a future version.\n",
      "Instructions for updating:\n",
      "keep_dims is deprecated, use keepdims instead\n",
      "WARNING:tensorflow:From /home/mastlab/.conda/envs/tf1-12/lib/python3.6/site-packages/cleverhans/utils_tf.py:37: softmax_cross_entropy_with_logits (from tensorflow.python.ops.nn_ops) is deprecated and will be removed in a future version.\n",
      "Instructions for updating:\n",
      "\n",
      "Future major versions of TensorFlow will allow gradients to flow\n",
      "into the labels input on backprop by default.\n",
      "\n",
      "See `tf.nn.softmax_cross_entropy_with_logits_v2`.\n",
      "\n"
     ]
    },
    {
     "data": {
      "text/plain": [
       "(0.6028, 0.2618)"
      ]
     },
     "execution_count": 7,
     "metadata": {},
     "output_type": "execute_result"
    }
   ],
   "source": [
    "# fgsm 0.02\n",
    "attack_iterative(sess, model_lessdiv, model_baseline, dataset='cifar100', num_classes=100, attack_method='FastGradientMethod', eps_=0.01, nb_iter_=10)"
   ]
  },
  {
   "cell_type": "code",
   "execution_count": 8,
   "metadata": {},
   "outputs": [
    {
     "data": {
      "text/plain": [
       "(0.4944, 0.2118)"
      ]
     },
     "execution_count": 8,
     "metadata": {},
     "output_type": "execute_result"
    }
   ],
   "source": [
    "# fgsm 0.04\n",
    "attack_iterative(sess, model_lessdiv, model_baseline, dataset='cifar100', num_classes=100, attack_method='FastGradientMethod', eps_=0.02, nb_iter_=10)"
   ]
  },
  {
   "cell_type": "code",
   "execution_count": 9,
   "metadata": {},
   "outputs": [
    {
     "data": {
      "text/plain": [
       "(0.3242, 0.0499)"
      ]
     },
     "execution_count": 9,
     "metadata": {},
     "output_type": "execute_result"
    }
   ],
   "source": [
    "# bim 0.02\n",
    "attack_iterative(sess, model_lessdiv, model_baseline, dataset='cifar100', num_classes=100, attack_method='BasicIterativeMethod', eps_=0.01, nb_iter_=10)"
   ]
  },
  {
   "cell_type": "code",
   "execution_count": 9,
   "metadata": {},
   "outputs": [
    {
     "name": "stdout",
     "output_type": "stream",
     "text": [
      "WARNING:tensorflow:From /home/mastlab/.conda/envs/tf1-12/lib/python3.6/site-packages/cleverhans/attacks.py:216: calling reduce_max (from tensorflow.python.ops.math_ops) with keep_dims is deprecated and will be removed in a future version.\n",
      "Instructions for updating:\n",
      "keep_dims is deprecated, use keepdims instead\n",
      "WARNING:tensorflow:From /home/mastlab/.conda/envs/tf1-12/lib/python3.6/site-packages/cleverhans/attacks.py:529: calling reduce_sum (from tensorflow.python.ops.math_ops) with keep_dims is deprecated and will be removed in a future version.\n",
      "Instructions for updating:\n",
      "keep_dims is deprecated, use keepdims instead\n",
      "WARNING:tensorflow:From /home/mastlab/.conda/envs/tf1-12/lib/python3.6/site-packages/cleverhans/utils_tf.py:37: softmax_cross_entropy_with_logits (from tensorflow.python.ops.nn_ops) is deprecated and will be removed in a future version.\n",
      "Instructions for updating:\n",
      "\n",
      "Future major versions of TensorFlow will allow gradients to flow\n",
      "into the labels input on backprop by default.\n",
      "\n",
      "See `tf.nn.softmax_cross_entropy_with_logits_v2`.\n",
      "\n",
      "WARNING:tensorflow:From /home/mastlab/.conda/envs/tf1-12/lib/python3.6/site-packages/cleverhans/attacks.py:549: calling reduce_mean (from tensorflow.python.ops.math_ops) with keep_dims is deprecated and will be removed in a future version.\n",
      "Instructions for updating:\n",
      "keep_dims is deprecated, use keepdims instead\n"
     ]
    },
    {
     "data": {
      "text/plain": [
       "(0.3807, 0.0501)"
      ]
     },
     "execution_count": 9,
     "metadata": {},
     "output_type": "execute_result"
    }
   ],
   "source": [
    "# mim 0.02\n",
    "attack_iterative(sess, model_lessdiv, model_baseline, dataset='cifar100', num_classes=100, attack_method='MomentumIterativeMethod', eps_=0.01, nb_iter_=10)"
   ]
  },
  {
   "cell_type": "code",
   "execution_count": 10,
   "metadata": {},
   "outputs": [
    {
     "data": {
      "text/plain": [
       "(0.3193, 0.0463)"
      ]
     },
     "execution_count": 10,
     "metadata": {},
     "output_type": "execute_result"
    }
   ],
   "source": [
    "# pgd 0.02\n",
    "attack_iterative(sess, model_lessdiv, model_baseline, dataset='cifar100', num_classes=100, attack_method='MadryEtAl', eps_=0.01, nb_iter_=10)"
   ]
  },
  {
   "cell_type": "code",
   "execution_count": 6,
   "metadata": {},
   "outputs": [
    {
     "name": "stdout",
     "output_type": "stream",
     "text": [
      "num_samples: 2000\n"
     ]
    },
    {
     "name": "stderr",
     "output_type": "stream",
     "text": [
      "/home/mastlab/.conda/envs/tf1-12/lib/python3.6/site-packages/cleverhans/attacks_tf.py:389: UserWarning: jsma_batch is deprecated and will be removed on 2018-06-10. Use jsma_symbolic instead.\n",
      "  warnings.warn(\"jsma_batch is deprecated and will be removed on \"\n"
     ]
    },
    {
     "data": {
      "text/plain": [
       "(0.9115, 0.453)"
      ]
     },
     "execution_count": 6,
     "metadata": {},
     "output_type": "execute_result"
    }
   ],
   "source": [
    "# jsma confidence 0.05 theta 0.1\n",
    "# start_time = time.time()\n",
    "attack_jsma(sess, False, model_lessdiv, dataset='cifar100', num_classes=100, attack_method='JSMA', theta_=0.1, gamma_=0.05)\n",
    "# print(time.time()-start_time)"
   ]
  },
  {
   "cell_type": "code",
   "execution_count": 6,
   "metadata": {},
   "outputs": [
    {
     "name": "stdout",
     "output_type": "stream",
     "text": [
      "WARNING:tensorflow:From /home/mastlab/.conda/envs/tf1-12/lib/python3.6/site-packages/cleverhans/attacks.py:216: calling reduce_max (from tensorflow.python.ops.math_ops) with keep_dims is deprecated and will be removed in a future version.\n",
      "Instructions for updating:\n",
      "keep_dims is deprecated, use keepdims instead\n"
     ]
    },
    {
     "data": {
      "text/plain": [
       "(0.9105, 0.3082)"
      ]
     },
     "execution_count": 6,
     "metadata": {},
     "output_type": "execute_result"
    }
   ],
   "source": [
    "# cw2 0.1\n",
    "attack_optimization(sess, False, model_lessdiv, dataset='cifar100', num_classes=100, attack_method='CarliniWagnerL2')"
   ]
  },
  {
   "cell_type": "code",
   "execution_count": 7,
   "metadata": {},
   "outputs": [
    {
     "data": {
      "text/plain": [
       "(0.9105, 0.3669)"
      ]
     },
     "execution_count": 7,
     "metadata": {},
     "output_type": "execute_result"
    }
   ],
   "source": [
    "# EAM 5\n",
    "attack_optimization(sess, False, model_lessdiv, dataset='cifar100', num_classes=100, attack_method='ElasticNetMethod')"
   ]
  },
  {
   "cell_type": "markdown",
   "metadata": {},
   "source": [
    "# lessdiv_strongforhigher"
   ]
  },
  {
   "cell_type": "code",
   "execution_count": 4,
   "metadata": {},
   "outputs": [],
   "source": [
    "resnet_lessdiv_strongforhigher = ResNet_v12(x_train=x_train, y_train=y_train, x_val=x_test, y_val=y_test, load_weights=False)\n",
    "resnet_lessdiv_strongforhigher.construct()\n",
    "model_lessdiv_strongforhigher = resnet_lessdiv_strongforhigher._model"
   ]
  },
  {
   "cell_type": "code",
   "execution_count": 5,
   "metadata": {},
   "outputs": [],
   "source": [
    "model_lessdiv_strongforhigher.load_weights('models/resnet_32_fusion_diversity_lessdiv_strongforhigher321v2_avg_weight_best.h5')"
   ]
  },
  {
   "cell_type": "code",
   "execution_count": 6,
   "metadata": {
    "scrolled": true
   },
   "outputs": [
    {
     "name": "stdout",
     "output_type": "stream",
     "text": [
      "WARNING:tensorflow:From /home/mastlab/.conda/envs/tf1-12/lib/python3.6/site-packages/cleverhans/attacks.py:216: calling reduce_max (from tensorflow.python.ops.math_ops) with keep_dims is deprecated and will be removed in a future version.\n",
      "Instructions for updating:\n",
      "keep_dims is deprecated, use keepdims instead\n",
      "WARNING:tensorflow:From /home/mastlab/.conda/envs/tf1-12/lib/python3.6/site-packages/cleverhans/attacks_tf.py:62: calling reduce_sum (from tensorflow.python.ops.math_ops) with keep_dims is deprecated and will be removed in a future version.\n",
      "Instructions for updating:\n",
      "keep_dims is deprecated, use keepdims instead\n",
      "WARNING:tensorflow:From /home/mastlab/.conda/envs/tf1-12/lib/python3.6/site-packages/cleverhans/utils_tf.py:37: softmax_cross_entropy_with_logits (from tensorflow.python.ops.nn_ops) is deprecated and will be removed in a future version.\n",
      "Instructions for updating:\n",
      "\n",
      "Future major versions of TensorFlow will allow gradients to flow\n",
      "into the labels input on backprop by default.\n",
      "\n",
      "See `tf.nn.softmax_cross_entropy_with_logits_v2`.\n",
      "\n"
     ]
    },
    {
     "data": {
      "text/plain": [
       "0.2637"
      ]
     },
     "execution_count": 6,
     "metadata": {},
     "output_type": "execute_result"
    }
   ],
   "source": [
    "# fgsm 0.02\n",
    "attack_iterative(sess, model_lessdiv_strongforhigher, dataset='cifar100', num_classes=100, attack_method='FastGradientMethod', eps_=0.005, nb_iter_=10)"
   ]
  },
  {
   "cell_type": "code",
   "execution_count": 7,
   "metadata": {},
   "outputs": [
    {
     "data": {
      "text/plain": [
       "0.1848"
      ]
     },
     "execution_count": 7,
     "metadata": {},
     "output_type": "execute_result"
    }
   ],
   "source": [
    "# fgsm 0.04\n",
    "attack_iterative(sess, model_lessdiv_strongforhigher, dataset='cifar100', num_classes=100, attack_method='FastGradientMethod', eps_=0.01, nb_iter_=10)"
   ]
  },
  {
   "cell_type": "code",
   "execution_count": 8,
   "metadata": {},
   "outputs": [
    {
     "data": {
      "text/plain": [
       "0.1565"
      ]
     },
     "execution_count": 8,
     "metadata": {},
     "output_type": "execute_result"
    }
   ],
   "source": [
    "# bim 0.02\n",
    "attack_iterative(sess, model_lessdiv_strongforhigher, dataset='cifar100', num_classes=100, attack_method='BasicIterativeMethod', eps_=0.005, nb_iter_=10)"
   ]
  },
  {
   "cell_type": "code",
   "execution_count": 9,
   "metadata": {},
   "outputs": [
    {
     "name": "stdout",
     "output_type": "stream",
     "text": [
      "WARNING:tensorflow:From /home/mastlab/.conda/envs/tf1-12/lib/python3.6/site-packages/cleverhans/attacks.py:549: calling reduce_mean (from tensorflow.python.ops.math_ops) with keep_dims is deprecated and will be removed in a future version.\n",
      "Instructions for updating:\n",
      "keep_dims is deprecated, use keepdims instead\n"
     ]
    },
    {
     "data": {
      "text/plain": [
       "0.177"
      ]
     },
     "execution_count": 9,
     "metadata": {},
     "output_type": "execute_result"
    }
   ],
   "source": [
    "# mim 0.02\n",
    "attack_iterative(sess, model_lessdiv_strongforhigher, dataset='cifar100', num_classes=100, attack_method='MomentumIterativeMethod', eps_=0.005, nb_iter_=10)"
   ]
  },
  {
   "cell_type": "code",
   "execution_count": 10,
   "metadata": {},
   "outputs": [
    {
     "data": {
      "text/plain": [
       "0.1887"
      ]
     },
     "execution_count": 10,
     "metadata": {},
     "output_type": "execute_result"
    }
   ],
   "source": [
    "# pgd 0.02\n",
    "attack_iterative(sess, model_lessdiv_strongforhigher, dataset='cifar100', num_classes=100, attack_method='MadryEtAl', eps_=0.005, nb_iter_=10)"
   ]
  },
  {
   "cell_type": "code",
   "execution_count": 6,
   "metadata": {},
   "outputs": [
    {
     "name": "stdout",
     "output_type": "stream",
     "text": [
      "num_samples: 100\n"
     ]
    },
    {
     "name": "stderr",
     "output_type": "stream",
     "text": [
      "/home/mastlab/.conda/envs/tf1-12/lib/python3.6/site-packages/cleverhans/attacks_tf.py:389: UserWarning: jsma_batch is deprecated and will be removed on 2018-06-10. Use jsma_symbolic instead.\n",
      "  warnings.warn(\"jsma_batch is deprecated and will be removed on \"\n"
     ]
    },
    {
     "data": {
      "text/plain": [
       "(0.9, 0.24)"
      ]
     },
     "execution_count": 6,
     "metadata": {},
     "output_type": "execute_result"
    }
   ],
   "source": [
    "# jsma confidence 0.05 theta 0.1\n",
    "# start_time = time.time()\n",
    "attack_jsma(sess, False, model_lessdiv_strongforhigher, dataset='cifar100', num_classes=100, attack_method='JSMA', theta_=0.1, gamma_=0.05)\n",
    "# print(time.time()-start_time)"
   ]
  },
  {
   "cell_type": "code",
   "execution_count": 6,
   "metadata": {},
   "outputs": [
    {
     "name": "stdout",
     "output_type": "stream",
     "text": [
      "WARNING:tensorflow:From /home/mastlab/.conda/envs/tf1-12/lib/python3.6/site-packages/cleverhans/attacks.py:216: calling reduce_max (from tensorflow.python.ops.math_ops) with keep_dims is deprecated and will be removed in a future version.\n",
      "Instructions for updating:\n",
      "keep_dims is deprecated, use keepdims instead\n"
     ]
    },
    {
     "data": {
      "text/plain": [
       "(0.641, 0.167)"
      ]
     },
     "execution_count": 6,
     "metadata": {},
     "output_type": "execute_result"
    }
   ],
   "source": [
    "# cw2 0.1\n",
    "attack_optimization(sess, False, model_lessdiv_strongforhigher, dataset='cifar100', num_classes=100, attack_method='CarliniWagnerL2')"
   ]
  },
  {
   "cell_type": "code",
   "execution_count": 7,
   "metadata": {},
   "outputs": [
    {
     "data": {
      "text/plain": [
       "(0.641, 0.164)"
      ]
     },
     "execution_count": 7,
     "metadata": {},
     "output_type": "execute_result"
    }
   ],
   "source": [
    "# EAM 5\n",
    "attack_optimization(sess, False, model_lessdiv_strongforhigher, dataset='cifar100', num_classes=100, attack_method='ElasticNetMethod')"
   ]
  },
  {
   "cell_type": "code",
   "execution_count": null,
   "metadata": {},
   "outputs": [],
   "source": []
  }
 ],
 "metadata": {
  "kernelspec": {
   "display_name": "Python 3",
   "language": "python",
   "name": "python3"
  },
  "language_info": {
   "codemirror_mode": {
    "name": "ipython",
    "version": 3
   },
   "file_extension": ".py",
   "mimetype": "text/x-python",
   "name": "python",
   "nbconvert_exporter": "python",
   "pygments_lexer": "ipython3",
   "version": "3.6.8"
  }
 },
 "nbformat": 4,
 "nbformat_minor": 2
}
