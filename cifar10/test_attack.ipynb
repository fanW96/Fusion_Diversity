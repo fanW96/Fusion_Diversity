{
 "cells": [
  {
   "cell_type": "code",
   "execution_count": 1,
   "metadata": {},
   "outputs": [
    {
     "name": "stderr",
     "output_type": "stream",
     "text": [
      "Using TensorFlow backend.\n"
     ]
    }
   ],
   "source": [
    "import tensorflow as tf\n",
    "import keras as keras\n",
    "import keras.backend as K\n",
    "from resnet_keras_feature_fusion_v13 import ResNet_v13\n",
    "from resnet_keras_feature_fusion_v12 import ResNet_v12\n",
    "from resnet_keras_feature_fusion_v9 import ResNet_v9\n",
    "from resnet_keras_feature_fusion_v8 import ResNet_v8\n",
    "from resnet_keras_feature_fusion_v7 import ResNet_v7\n",
    "from resnet_keras_feature_fusion_v6 import ResNet_v6\n",
    "from resnet_keras_feature_fusion_v5 import ResNet_v5\n",
    "from resnet_keras_feature_fusion_v4 import ResNet_v4\n",
    "from resnet_keras_feature_fusion_v3 import ResNet_v3\n",
    "from resnet_keras_feature_fusion_v2 import ResNet_v2\n",
    "from resnet_keras import ResNet\n",
    "from test_cifar_iterative import attack_iterative\n",
    "from test_cifar_jsma import attack_jsma\n",
    "from test_cifar_optimization import attack_optimization\n",
    "import cifar10\n",
    "import time"
   ]
  },
  {
   "cell_type": "code",
   "execution_count": 2,
   "metadata": {},
   "outputs": [],
   "source": [
    "x_train, y_train, x_test, y_test = cifar10.get_data()"
   ]
  },
  {
   "cell_type": "code",
   "execution_count": 3,
   "metadata": {},
   "outputs": [],
   "source": [
    "# sess = tf.Session()\n",
    "# for jsma\n",
    "sess = tf.Session(config=tf.ConfigProto(allow_soft_placement=True))\n",
    "K.set_session(sess)"
   ]
  },
  {
   "cell_type": "markdown",
   "metadata": {},
   "source": [
    "# baseline"
   ]
  },
  {
   "cell_type": "code",
   "execution_count": 4,
   "metadata": {},
   "outputs": [],
   "source": [
    "model_baseline = keras.models.load_model('models/resnet_32_baseline_best_adam.h5')"
   ]
  },
  {
   "cell_type": "code",
   "execution_count": 5,
   "metadata": {},
   "outputs": [
    {
     "name": "stdout",
     "output_type": "stream",
     "text": [
      "num_samples: 1000\n"
     ]
    },
    {
     "name": "stderr",
     "output_type": "stream",
     "text": [
      "/home/mastlab/.conda/envs/tf1-12/lib/python3.6/site-packages/cleverhans/attacks_tf.py:389: UserWarning: jsma_batch is deprecated and will be removed on 2018-06-10. Use jsma_symbolic instead.\n",
      "  warnings.warn(\"jsma_batch is deprecated and will be removed on \"\n"
     ]
    },
    {
     "data": {
      "text/plain": [
       "(0.911, 0.105)"
      ]
     },
     "execution_count": 5,
     "metadata": {},
     "output_type": "execute_result"
    }
   ],
   "source": [
    "# jsma confidence 0.05 theta 0.1\n",
    "# start_time = time.time()\n",
    "attack_jsma(sess, False, model_baseline, dataset='cifar10', num_classes=10, attack_method='JSMA', theta_=0.1, gamma_=0.05)\n",
    "# print(time.time()-start_time)"
   ]
  },
  {
   "cell_type": "code",
   "execution_count": 5,
   "metadata": {},
   "outputs": [
    {
     "name": "stdout",
     "output_type": "stream",
     "text": [
      "WARNING:tensorflow:From /home/mastlab/.conda/envs/tf1-12/lib/python3.6/site-packages/cleverhans/attacks.py:216: calling reduce_max (from tensorflow.python.ops.math_ops) with keep_dims is deprecated and will be removed in a future version.\n",
      "Instructions for updating:\n",
      "keep_dims is deprecated, use keepdims instead\n"
     ]
    },
    {
     "data": {
      "text/plain": [
       "(0.9095, 0.055)"
      ]
     },
     "execution_count": 5,
     "metadata": {},
     "output_type": "execute_result"
    }
   ],
   "source": [
    "# cw2 \n",
    "attack_optimization(sess, False, model_baseline, dataset='cifar10', num_classes=10, attack_method='CarliniWagnerL2')"
   ]
  },
  {
   "cell_type": "code",
   "execution_count": 6,
   "metadata": {},
   "outputs": [
    {
     "data": {
      "text/plain": [
       "(0.9095, 0.0235)"
      ]
     },
     "execution_count": 6,
     "metadata": {},
     "output_type": "execute_result"
    }
   ],
   "source": [
    "# EAM\n",
    "attack_optimization(sess, False, model_baseline, dataset='cifar10', num_classes=10, attack_method='ElasticNetMethod')"
   ]
  },
  {
   "cell_type": "markdown",
   "metadata": {},
   "source": [
    "# LIGHT321"
   ]
  },
  {
   "cell_type": "code",
   "execution_count": 4,
   "metadata": {},
   "outputs": [],
   "source": [
    "light_321 = ResNet_v13(x_train=x_train, y_train=y_train, x_val=x_test, y_val=y_test, load_weights=False)\n",
    "light_321.construct()\n",
    "model_light_321 = light_321._model"
   ]
  },
  {
   "cell_type": "code",
   "execution_count": 5,
   "metadata": {},
   "outputs": [],
   "source": [
    "model_light_321.load_weights('models/resnet_32_light_fusion_diversity_lessdiv_strongforhigher321v2_avg_weight_best.h5')"
   ]
  },
  {
   "cell_type": "code",
   "execution_count": 7,
   "metadata": {},
   "outputs": [
    {
     "name": "stdout",
     "output_type": "stream",
     "text": [
      "WARNING:tensorflow:From /home/mastlab/.conda/envs/tf1-12/lib/python3.6/site-packages/cleverhans/attacks.py:216: calling reduce_max (from tensorflow.python.ops.math_ops) with keep_dims is deprecated and will be removed in a future version.\n",
      "Instructions for updating:\n",
      "keep_dims is deprecated, use keepdims instead\n",
      "WARNING:tensorflow:From /home/mastlab/.conda/envs/tf1-12/lib/python3.6/site-packages/cleverhans/attacks_tf.py:62: calling reduce_sum (from tensorflow.python.ops.math_ops) with keep_dims is deprecated and will be removed in a future version.\n",
      "Instructions for updating:\n",
      "keep_dims is deprecated, use keepdims instead\n",
      "WARNING:tensorflow:From /home/mastlab/.conda/envs/tf1-12/lib/python3.6/site-packages/cleverhans/utils_tf.py:37: softmax_cross_entropy_with_logits (from tensorflow.python.ops.nn_ops) is deprecated and will be removed in a future version.\n",
      "Instructions for updating:\n",
      "\n",
      "Future major versions of TensorFlow will allow gradients to flow\n",
      "into the labels input on backprop by default.\n",
      "\n",
      "See `tf.nn.softmax_cross_entropy_with_logits_v2`.\n",
      "\n"
     ]
    },
    {
     "data": {
      "text/plain": [
       "(0.4853, 0.0984)"
      ]
     },
     "execution_count": 7,
     "metadata": {},
     "output_type": "execute_result"
    }
   ],
   "source": [
    "# fgsm 0.04\n",
    "attack_iterative(sess, model_light_321, model_baseline, dataset='cifar10', num_classes=10, attack_method='FastGradientMethod', eps_=0.04, nb_iter_=10)"
   ]
  },
  {
   "cell_type": "code",
   "execution_count": 8,
   "metadata": {
    "scrolled": true
   },
   "outputs": [
    {
     "data": {
      "text/plain": [
       "(0.284, 0.0576)"
      ]
     },
     "execution_count": 8,
     "metadata": {},
     "output_type": "execute_result"
    }
   ],
   "source": [
    "# bim 0.02\n",
    "attack_iterative(sess, model_light_321, model_baseline, dataset='cifar10', num_classes=10, attack_method='BasicIterativeMethod', eps_=0.02, nb_iter_=10)"
   ]
  },
  {
   "cell_type": "code",
   "execution_count": 9,
   "metadata": {},
   "outputs": [
    {
     "name": "stdout",
     "output_type": "stream",
     "text": [
      "WARNING:tensorflow:From /home/mastlab/.conda/envs/tf1-12/lib/python3.6/site-packages/cleverhans/attacks.py:549: calling reduce_mean (from tensorflow.python.ops.math_ops) with keep_dims is deprecated and will be removed in a future version.\n",
      "Instructions for updating:\n",
      "keep_dims is deprecated, use keepdims instead\n"
     ]
    },
    {
     "data": {
      "text/plain": [
       "(0.3412, 0.058)"
      ]
     },
     "execution_count": 9,
     "metadata": {},
     "output_type": "execute_result"
    }
   ],
   "source": [
    "# mim 0.02\n",
    "attack_iterative(sess, model_light_321, model_baseline, dataset='cifar10', num_classes=10, attack_method='MomentumIterativeMethod', eps_=0.02, nb_iter_=10)"
   ]
  },
  {
   "cell_type": "code",
   "execution_count": 10,
   "metadata": {},
   "outputs": [
    {
     "data": {
      "text/plain": [
       "(0.2784, 0.0526)"
      ]
     },
     "execution_count": 10,
     "metadata": {},
     "output_type": "execute_result"
    }
   ],
   "source": [
    "# pgd 0.02\n",
    "attack_iterative(sess, model_light_321, model_baseline, dataset='cifar10', num_classes=10, attack_method='MadryEtAl', eps_=0.02, nb_iter_=10)"
   ]
  },
  {
   "cell_type": "code",
   "execution_count": 7,
   "metadata": {},
   "outputs": [
    {
     "name": "stderr",
     "output_type": "stream",
     "text": [
      "/home/mastlab/.conda/envs/tf1-12/lib/python3.6/site-packages/cleverhans/attacks_tf.py:389: UserWarning: jsma_batch is deprecated and will be removed on 2018-06-10. Use jsma_symbolic instead.\n",
      "  warnings.warn(\"jsma_batch is deprecated and will be removed on \"\n"
     ]
    },
    {
     "data": {
      "text/plain": [
       "(0.915, 0.397)"
      ]
     },
     "execution_count": 7,
     "metadata": {},
     "output_type": "execute_result"
    }
   ],
   "source": [
    "# jsma confidence 0.05 theta 0.1\n",
    "# start_time = time.time()\n",
    "attack_jsma(sess, False, model_light_321, dataset='cifar10', num_classes=10, attack_method='JSMA', theta_=0.1, gamma_=0.05)\n",
    "# print(time.time()-start_time)"
   ]
  },
  {
   "cell_type": "code",
   "execution_count": 6,
   "metadata": {},
   "outputs": [
    {
     "name": "stdout",
     "output_type": "stream",
     "text": [
      "WARNING:tensorflow:From /home/mastlab/.conda/envs/tf1-12/lib/python3.6/site-packages/cleverhans/attacks.py:216: calling reduce_max (from tensorflow.python.ops.math_ops) with keep_dims is deprecated and will be removed in a future version.\n",
      "Instructions for updating:\n",
      "keep_dims is deprecated, use keepdims instead\n"
     ]
    },
    {
     "data": {
      "text/plain": [
       "(0.9181, 0.2535)"
      ]
     },
     "execution_count": 6,
     "metadata": {},
     "output_type": "execute_result"
    }
   ],
   "source": [
    "# cw2 \n",
    "attack_optimization(sess, False, model_light_321, dataset='cifar10', num_classes=10, attack_method='CarliniWagnerL2')"
   ]
  },
  {
   "cell_type": "code",
   "execution_count": null,
   "metadata": {},
   "outputs": [],
   "source": [
    "# EAM\n",
    "attack_optimization(sess, False, model_light_321, dataset='cifar10', num_classes=10, attack_method='ElasticNetMethod')"
   ]
  },
  {
   "cell_type": "code",
   "execution_count": null,
   "metadata": {},
   "outputs": [],
   "source": []
  },
  {
   "cell_type": "markdown",
   "metadata": {},
   "source": [
    "# fusion_diversity_avg"
   ]
  },
  {
   "cell_type": "code",
   "execution_count": 4,
   "metadata": {},
   "outputs": [],
   "source": [
    "resnet_fusion = ResNet_v2(x_train=x_train, y_train=y_train, x_val=x_test, y_val=y_test, load_weights=False)\n",
    "resnet_fusion.construct()\n",
    "model_fusion = resnet_fusion._model"
   ]
  },
  {
   "cell_type": "code",
   "execution_count": 5,
   "metadata": {},
   "outputs": [],
   "source": [
    "model_fusion.load_weights('models/resnet_32_fusion_diversity_avg_weight_best.h5')"
   ]
  },
  {
   "cell_type": "code",
   "execution_count": 6,
   "metadata": {
    "scrolled": true
   },
   "outputs": [
    {
     "name": "stdout",
     "output_type": "stream",
     "text": [
      "WARNING:tensorflow:From /home/mastlab/.conda/envs/tf1-12/lib/python3.6/site-packages/cleverhans/attacks.py:216: calling reduce_max (from tensorflow.python.ops.math_ops) with keep_dims is deprecated and will be removed in a future version.\n",
      "Instructions for updating:\n",
      "keep_dims is deprecated, use keepdims instead\n",
      "WARNING:tensorflow:From /home/mastlab/.conda/envs/tf1-12/lib/python3.6/site-packages/cleverhans/attacks_tf.py:62: calling reduce_sum (from tensorflow.python.ops.math_ops) with keep_dims is deprecated and will be removed in a future version.\n",
      "Instructions for updating:\n",
      "keep_dims is deprecated, use keepdims instead\n",
      "WARNING:tensorflow:From /home/mastlab/.conda/envs/tf1-12/lib/python3.6/site-packages/cleverhans/utils_tf.py:37: softmax_cross_entropy_with_logits (from tensorflow.python.ops.nn_ops) is deprecated and will be removed in a future version.\n",
      "Instructions for updating:\n",
      "\n",
      "Future major versions of TensorFlow will allow gradients to flow\n",
      "into the labels input on backprop by default.\n",
      "\n",
      "See `tf.nn.softmax_cross_entropy_with_logits_v2`.\n",
      "\n"
     ]
    },
    {
     "data": {
      "text/plain": [
       "(0.5576, 0.2618)"
      ]
     },
     "execution_count": 6,
     "metadata": {},
     "output_type": "execute_result"
    }
   ],
   "source": [
    "# fgsm 0.02\n",
    "attack_iterative(sess, model_fusion, model_baseline, dataset='cifar10', num_classes=10, attack_method='FastGradientMethod', eps_=0.02, nb_iter_=10)"
   ]
  },
  {
   "cell_type": "code",
   "execution_count": 7,
   "metadata": {},
   "outputs": [
    {
     "data": {
      "text/plain": [
       "(0.4571, 0.2118)"
      ]
     },
     "execution_count": 7,
     "metadata": {},
     "output_type": "execute_result"
    }
   ],
   "source": [
    "# fgsm 0.04\n",
    "attack_iterative(sess, model_fusion, model_baseline, dataset='cifar10', num_classes=10, attack_method='FastGradientMethod', eps_=0.04, nb_iter_=10)"
   ]
  },
  {
   "cell_type": "code",
   "execution_count": 8,
   "metadata": {
    "scrolled": true
   },
   "outputs": [
    {
     "data": {
      "text/plain": [
       "(0.2546, 0.0499)"
      ]
     },
     "execution_count": 8,
     "metadata": {},
     "output_type": "execute_result"
    }
   ],
   "source": [
    "# bim 0.02\n",
    "attack_iterative(sess, model_fusion, model_baseline, dataset='cifar10', num_classes=10, attack_method='BasicIterativeMethod', eps_=0.02, nb_iter_=10)"
   ]
  },
  {
   "cell_type": "code",
   "execution_count": 9,
   "metadata": {},
   "outputs": [
    {
     "name": "stdout",
     "output_type": "stream",
     "text": [
      "WARNING:tensorflow:From /home/mastlab/.conda/envs/tf1-12/lib/python3.6/site-packages/cleverhans/attacks.py:549: calling reduce_mean (from tensorflow.python.ops.math_ops) with keep_dims is deprecated and will be removed in a future version.\n",
      "Instructions for updating:\n",
      "keep_dims is deprecated, use keepdims instead\n"
     ]
    },
    {
     "data": {
      "text/plain": [
       "(0.3077, 0.0501)"
      ]
     },
     "execution_count": 9,
     "metadata": {},
     "output_type": "execute_result"
    }
   ],
   "source": [
    "# mim 0.02\n",
    "attack_iterative(sess, model_fusion, model_baseline, dataset='cifar10', num_classes=10, attack_method='MomentumIterativeMethod', eps_=0.02, nb_iter_=10)"
   ]
  },
  {
   "cell_type": "code",
   "execution_count": 10,
   "metadata": {},
   "outputs": [
    {
     "data": {
      "text/plain": [
       "(0.2699, 0.0478)"
      ]
     },
     "execution_count": 10,
     "metadata": {},
     "output_type": "execute_result"
    }
   ],
   "source": [
    "# pgd 0.02\n",
    "attack_iterative(sess, model_fusion, model_baseline, dataset='cifar10', num_classes=10, attack_method='MadryEtAl', eps_=0.02, nb_iter_=10)"
   ]
  },
  {
   "cell_type": "code",
   "execution_count": 7,
   "metadata": {},
   "outputs": [
    {
     "name": "stderr",
     "output_type": "stream",
     "text": [
      "/home/mastlab/.conda/envs/tf1-12/lib/python3.6/site-packages/cleverhans/attacks_tf.py:389: UserWarning: jsma_batch is deprecated and will be removed on 2018-06-10. Use jsma_symbolic instead.\n",
      "  warnings.warn(\"jsma_batch is deprecated and will be removed on \"\n"
     ]
    },
    {
     "data": {
      "text/plain": [
       "(0.915, 0.397)"
      ]
     },
     "execution_count": 7,
     "metadata": {},
     "output_type": "execute_result"
    }
   ],
   "source": [
    "# jsma confidence 0.05 theta 0.1\n",
    "# start_time = time.time()\n",
    "attack_jsma(sess, False, model_fusion, dataset='cifar10', num_classes=10, attack_method='JSMA', theta_=0.1, gamma_=0.05)\n",
    "# print(time.time()-start_time)"
   ]
  },
  {
   "cell_type": "code",
   "execution_count": 6,
   "metadata": {},
   "outputs": [
    {
     "name": "stdout",
     "output_type": "stream",
     "text": [
      "WARNING:tensorflow:From /home/mastlab/.conda/envs/tf1-12/lib/python3.6/site-packages/cleverhans/attacks.py:216: calling reduce_max (from tensorflow.python.ops.math_ops) with keep_dims is deprecated and will be removed in a future version.\n",
      "Instructions for updating:\n",
      "keep_dims is deprecated, use keepdims instead\n"
     ]
    },
    {
     "data": {
      "text/plain": [
       "(0.915, 0.163)"
      ]
     },
     "execution_count": 6,
     "metadata": {},
     "output_type": "execute_result"
    }
   ],
   "source": [
    "# cw2 \n",
    "attack_optimization(sess, False, model_fusion, dataset='cifar10', num_classes=10, attack_method='CarliniWagnerL2')"
   ]
  },
  {
   "cell_type": "code",
   "execution_count": 7,
   "metadata": {},
   "outputs": [
    {
     "data": {
      "text/plain": [
       "(0.915, 0.104)"
      ]
     },
     "execution_count": 7,
     "metadata": {},
     "output_type": "execute_result"
    }
   ],
   "source": [
    "# EAM\n",
    "attack_optimization(sess, False, model_fusion, dataset='cifar10', num_classes=10, attack_method='ElasticNetMethod')"
   ]
  },
  {
   "cell_type": "markdown",
   "metadata": {},
   "source": [
    "# nofusion_diversity_avg"
   ]
  },
  {
   "cell_type": "code",
   "execution_count": 4,
   "metadata": {},
   "outputs": [],
   "source": [
    "resnet_nofusion = ResNet_v3(x_train=x_train, y_train=y_train, x_val=x_test, y_val=y_test, load_weights=False)\n",
    "resnet_nofusion.construct()\n",
    "model_nofusion = resnet_nofusion._model"
   ]
  },
  {
   "cell_type": "code",
   "execution_count": 5,
   "metadata": {},
   "outputs": [],
   "source": [
    "model_nofusion.load_weights('models/resnet_32_nofusion_diversity_avg_weight_best.h5')"
   ]
  },
  {
   "cell_type": "code",
   "execution_count": 6,
   "metadata": {
    "scrolled": true
   },
   "outputs": [
    {
     "name": "stdout",
     "output_type": "stream",
     "text": [
      "WARNING:tensorflow:From /home/mastlab/.conda/envs/tf1-12/lib/python3.6/site-packages/cleverhans/attacks.py:216: calling reduce_max (from tensorflow.python.ops.math_ops) with keep_dims is deprecated and will be removed in a future version.\n",
      "Instructions for updating:\n",
      "keep_dims is deprecated, use keepdims instead\n",
      "WARNING:tensorflow:From /home/mastlab/.conda/envs/tf1-12/lib/python3.6/site-packages/cleverhans/attacks_tf.py:62: calling reduce_sum (from tensorflow.python.ops.math_ops) with keep_dims is deprecated and will be removed in a future version.\n",
      "Instructions for updating:\n",
      "keep_dims is deprecated, use keepdims instead\n",
      "WARNING:tensorflow:From /home/mastlab/.conda/envs/tf1-12/lib/python3.6/site-packages/cleverhans/utils_tf.py:37: softmax_cross_entropy_with_logits (from tensorflow.python.ops.nn_ops) is deprecated and will be removed in a future version.\n",
      "Instructions for updating:\n",
      "\n",
      "Future major versions of TensorFlow will allow gradients to flow\n",
      "into the labels input on backprop by default.\n",
      "\n",
      "See `tf.nn.softmax_cross_entropy_with_logits_v2`.\n",
      "\n"
     ]
    },
    {
     "data": {
      "text/plain": [
       "(0.3252, 0.2618)"
      ]
     },
     "execution_count": 6,
     "metadata": {},
     "output_type": "execute_result"
    }
   ],
   "source": [
    "# fgsm 0.02\n",
    "attack_iterative(sess, model_nofusion, model_baseline, dataset='cifar10', num_classes=10, attack_method='FastGradientMethod', eps_=0.02, nb_iter_=10)"
   ]
  },
  {
   "cell_type": "code",
   "execution_count": 7,
   "metadata": {},
   "outputs": [
    {
     "data": {
      "text/plain": [
       "(0.1812, 0.2118)"
      ]
     },
     "execution_count": 7,
     "metadata": {},
     "output_type": "execute_result"
    }
   ],
   "source": [
    "# fgsm 0.04\n",
    "attack_iterative(sess, model_nofusion, model_baseline, dataset='cifar10', num_classes=10, attack_method='FastGradientMethod', eps_=0.04, nb_iter_=10)"
   ]
  },
  {
   "cell_type": "code",
   "execution_count": 8,
   "metadata": {},
   "outputs": [
    {
     "data": {
      "text/plain": [
       "(0.1046, 0.0499)"
      ]
     },
     "execution_count": 8,
     "metadata": {},
     "output_type": "execute_result"
    }
   ],
   "source": [
    "# bim 0.02\n",
    "attack_iterative(sess, model_nofusion, model_baseline, dataset='cifar10', num_classes=10, attack_method='BasicIterativeMethod', eps_=0.02, nb_iter_=10)"
   ]
  },
  {
   "cell_type": "code",
   "execution_count": 9,
   "metadata": {},
   "outputs": [
    {
     "name": "stdout",
     "output_type": "stream",
     "text": [
      "WARNING:tensorflow:From /home/mastlab/.conda/envs/tf1-12/lib/python3.6/site-packages/cleverhans/attacks.py:549: calling reduce_mean (from tensorflow.python.ops.math_ops) with keep_dims is deprecated and will be removed in a future version.\n",
      "Instructions for updating:\n",
      "keep_dims is deprecated, use keepdims instead\n"
     ]
    },
    {
     "data": {
      "text/plain": [
       "(0.1147, 0.0501)"
      ]
     },
     "execution_count": 9,
     "metadata": {},
     "output_type": "execute_result"
    }
   ],
   "source": [
    "# mim 0.02\n",
    "attack_iterative(sess, model_nofusion, model_baseline, dataset='cifar10', num_classes=10, attack_method='MomentumIterativeMethod', eps_=0.02, nb_iter_=10)"
   ]
  },
  {
   "cell_type": "code",
   "execution_count": 10,
   "metadata": {},
   "outputs": [
    {
     "data": {
      "text/plain": [
       "(0.1052, 0.0468)"
      ]
     },
     "execution_count": 10,
     "metadata": {},
     "output_type": "execute_result"
    }
   ],
   "source": [
    "# pgd 0.02\n",
    "attack_iterative(sess, model_nofusion, model_baseline, dataset='cifar10', num_classes=10, attack_method='MadryEtAl', eps_=0.02, nb_iter_=10)"
   ]
  },
  {
   "cell_type": "code",
   "execution_count": 6,
   "metadata": {},
   "outputs": [
    {
     "name": "stderr",
     "output_type": "stream",
     "text": [
      "/home/mastlab/.conda/envs/tf1-12/lib/python3.6/site-packages/cleverhans/attacks_tf.py:389: UserWarning: jsma_batch is deprecated and will be removed on 2018-06-10. Use jsma_symbolic instead.\n",
      "  warnings.warn(\"jsma_batch is deprecated and will be removed on \"\n"
     ]
    },
    {
     "data": {
      "text/plain": [
       "(0.89, 0.386)"
      ]
     },
     "execution_count": 6,
     "metadata": {},
     "output_type": "execute_result"
    }
   ],
   "source": [
    "# jsma confidence 0.05 theta 0.1\n",
    "# start_time = time.time()\n",
    "attack_jsma(sess, False, model_nofusion, dataset='cifar10', num_classes=10, attack_method='JSMA', theta_=0.1, gamma_=0.05)\n",
    "# print(time.time()-start_time)"
   ]
  },
  {
   "cell_type": "code",
   "execution_count": 6,
   "metadata": {},
   "outputs": [
    {
     "name": "stdout",
     "output_type": "stream",
     "text": [
      "WARNING:tensorflow:From /home/mastlab/.conda/envs/tf1-12/lib/python3.6/site-packages/cleverhans/attacks.py:216: calling reduce_max (from tensorflow.python.ops.math_ops) with keep_dims is deprecated and will be removed in a future version.\n",
      "Instructions for updating:\n",
      "keep_dims is deprecated, use keepdims instead\n"
     ]
    },
    {
     "data": {
      "text/plain": [
       "(0.89, 0.227)"
      ]
     },
     "execution_count": 6,
     "metadata": {},
     "output_type": "execute_result"
    }
   ],
   "source": [
    "# cw2 \n",
    "attack_optimization(sess, False, model_nofusion, dataset='cifar10', num_classes=10, attack_method='CarliniWagnerL2')"
   ]
  },
  {
   "cell_type": "code",
   "execution_count": 7,
   "metadata": {},
   "outputs": [
    {
     "data": {
      "text/plain": [
       "(0.89, 0.156)"
      ]
     },
     "execution_count": 7,
     "metadata": {},
     "output_type": "execute_result"
    }
   ],
   "source": [
    "# EAM\n",
    "attack_optimization(sess, False, model_nofusion, dataset='cifar10', num_classes=10, attack_method='ElasticNetMethod')"
   ]
  },
  {
   "cell_type": "markdown",
   "metadata": {},
   "source": [
    "# nofusion_nodiversity_avg"
   ]
  },
  {
   "cell_type": "code",
   "execution_count": 4,
   "metadata": {},
   "outputs": [],
   "source": [
    "resnet_nofusion_nodiversity = ResNet_v4(x_train=x_train, y_train=y_train, x_val=x_test, y_val=y_test, load_weights=False)\n",
    "resnet_nofusion_nodiversity.construct()\n",
    "model_nofusion_nodiversity = resnet_nofusion_nodiversity._model"
   ]
  },
  {
   "cell_type": "code",
   "execution_count": 5,
   "metadata": {},
   "outputs": [],
   "source": [
    "model_nofusion_nodiversity.load_weights('models/resnet_32_nofusion_nodiversity_avg_weight_best.h5')"
   ]
  },
  {
   "cell_type": "code",
   "execution_count": 7,
   "metadata": {
    "scrolled": true
   },
   "outputs": [
    {
     "name": "stdout",
     "output_type": "stream",
     "text": [
      "WARNING:tensorflow:From /home/mastlab/.conda/envs/tf1-12/lib/python3.6/site-packages/cleverhans/attacks.py:216: calling reduce_max (from tensorflow.python.ops.math_ops) with keep_dims is deprecated and will be removed in a future version.\n",
      "Instructions for updating:\n",
      "keep_dims is deprecated, use keepdims instead\n",
      "WARNING:tensorflow:From /home/mastlab/.conda/envs/tf1-12/lib/python3.6/site-packages/cleverhans/attacks_tf.py:62: calling reduce_sum (from tensorflow.python.ops.math_ops) with keep_dims is deprecated and will be removed in a future version.\n",
      "Instructions for updating:\n",
      "keep_dims is deprecated, use keepdims instead\n",
      "WARNING:tensorflow:From /home/mastlab/.conda/envs/tf1-12/lib/python3.6/site-packages/cleverhans/utils_tf.py:37: softmax_cross_entropy_with_logits (from tensorflow.python.ops.nn_ops) is deprecated and will be removed in a future version.\n",
      "Instructions for updating:\n",
      "\n",
      "Future major versions of TensorFlow will allow gradients to flow\n",
      "into the labels input on backprop by default.\n",
      "\n",
      "See `tf.nn.softmax_cross_entropy_with_logits_v2`.\n",
      "\n"
     ]
    },
    {
     "data": {
      "text/plain": [
       "(0.3551, 0.2618)"
      ]
     },
     "execution_count": 7,
     "metadata": {},
     "output_type": "execute_result"
    }
   ],
   "source": [
    "# fgsm 0.02\n",
    "attack_iterative(sess, model_nofusion_nodiversity, model_baseline, dataset='cifar10', num_classes=10, attack_method='FastGradientMethod', eps_=0.02, nb_iter_=10)"
   ]
  },
  {
   "cell_type": "code",
   "execution_count": 8,
   "metadata": {},
   "outputs": [
    {
     "data": {
      "text/plain": [
       "(0.222, 0.2118)"
      ]
     },
     "execution_count": 8,
     "metadata": {},
     "output_type": "execute_result"
    }
   ],
   "source": [
    "# fgsm 0.04\n",
    "attack_iterative(sess, model_nofusion_nodiversity, model_baseline, dataset='cifar10', num_classes=10, attack_method='FastGradientMethod', eps_=0.04, nb_iter_=10)"
   ]
  },
  {
   "cell_type": "code",
   "execution_count": 9,
   "metadata": {},
   "outputs": [
    {
     "data": {
      "text/plain": [
       "(0.098, 0.0499)"
      ]
     },
     "execution_count": 9,
     "metadata": {},
     "output_type": "execute_result"
    }
   ],
   "source": [
    "# bim 0.02\n",
    "attack_iterative(sess, model_nofusion_nodiversity, model_baseline, dataset='cifar10', num_classes=10, attack_method='BasicIterativeMethod', eps_=0.02, nb_iter_=10)"
   ]
  },
  {
   "cell_type": "code",
   "execution_count": 10,
   "metadata": {},
   "outputs": [
    {
     "name": "stdout",
     "output_type": "stream",
     "text": [
      "WARNING:tensorflow:From /home/mastlab/.conda/envs/tf1-12/lib/python3.6/site-packages/cleverhans/attacks.py:549: calling reduce_mean (from tensorflow.python.ops.math_ops) with keep_dims is deprecated and will be removed in a future version.\n",
      "Instructions for updating:\n",
      "keep_dims is deprecated, use keepdims instead\n"
     ]
    },
    {
     "data": {
      "text/plain": [
       "(0.1035, 0.0501)"
      ]
     },
     "execution_count": 10,
     "metadata": {},
     "output_type": "execute_result"
    }
   ],
   "source": [
    "# mim 0.02\n",
    "attack_iterative(sess, model_nofusion_nodiversity, model_baseline, dataset='cifar10', num_classes=10, attack_method='MomentumIterativeMethod', eps_=0.02, nb_iter_=10)"
   ]
  },
  {
   "cell_type": "code",
   "execution_count": 11,
   "metadata": {},
   "outputs": [
    {
     "data": {
      "text/plain": [
       "(0.0978, 0.0465)"
      ]
     },
     "execution_count": 11,
     "metadata": {},
     "output_type": "execute_result"
    }
   ],
   "source": [
    "# pgd 0.02\n",
    "attack_iterative(sess, model_nofusion_nodiversity, model_baseline, dataset='cifar10', num_classes=10, attack_method='MadryEtAl', eps_=0.02, nb_iter_=10)"
   ]
  },
  {
   "cell_type": "code",
   "execution_count": 6,
   "metadata": {},
   "outputs": [
    {
     "name": "stderr",
     "output_type": "stream",
     "text": [
      "/home/mastlab/.conda/envs/tf1-12/lib/python3.6/site-packages/cleverhans/attacks_tf.py:389: UserWarning: jsma_batch is deprecated and will be removed on 2018-06-10. Use jsma_symbolic instead.\n",
      "  warnings.warn(\"jsma_batch is deprecated and will be removed on \"\n"
     ]
    },
    {
     "data": {
      "text/plain": [
       "(0.83, 0.29)"
      ]
     },
     "execution_count": 6,
     "metadata": {},
     "output_type": "execute_result"
    }
   ],
   "source": [
    "# jsma confidence 0.05 theta 0.1\n",
    "# start_time = time.time()\n",
    "attack_jsma(sess, False, model_nofusion_nodiversity, dataset='cifar10', num_classes=10, attack_method='JSMA', theta_=0.1, gamma_=0.05)\n",
    "# print(time.time()-start_time)"
   ]
  },
  {
   "cell_type": "code",
   "execution_count": 6,
   "metadata": {},
   "outputs": [
    {
     "name": "stdout",
     "output_type": "stream",
     "text": [
      "WARNING:tensorflow:From /home/mastlab/.conda/envs/tf1-12/lib/python3.6/site-packages/cleverhans/attacks.py:216: calling reduce_max (from tensorflow.python.ops.math_ops) with keep_dims is deprecated and will be removed in a future version.\n",
      "Instructions for updating:\n",
      "keep_dims is deprecated, use keepdims instead\n"
     ]
    },
    {
     "data": {
      "text/plain": [
       "(0.878, 0.295)"
      ]
     },
     "execution_count": 6,
     "metadata": {},
     "output_type": "execute_result"
    }
   ],
   "source": [
    "# cw2 \n",
    "attack_optimization(sess, False, model_nofusion_nodiversity, dataset='cifar10', num_classes=10, attack_method='CarliniWagnerL2')"
   ]
  },
  {
   "cell_type": "code",
   "execution_count": 7,
   "metadata": {},
   "outputs": [
    {
     "data": {
      "text/plain": [
       "(0.878, 0.12)"
      ]
     },
     "execution_count": 7,
     "metadata": {},
     "output_type": "execute_result"
    }
   ],
   "source": [
    "# EAM\n",
    "attack_optimization(sess, False, model_nofusion_nodiversity, dataset='cifar10', num_classes=10, attack_method='ElasticNetMethod')"
   ]
  },
  {
   "cell_type": "markdown",
   "metadata": {},
   "source": [
    "# fusion_nodiversity_avg"
   ]
  },
  {
   "cell_type": "code",
   "execution_count": 4,
   "metadata": {},
   "outputs": [],
   "source": [
    "resnet_fusion_nodiversity = ResNet_v5(x_train=x_train, y_train=y_train, x_val=x_test, y_val=y_test, load_weights=False)\n",
    "resnet_fusion_nodiversity.construct()\n",
    "model_fusion_nodiversity = resnet_fusion_nodiversity._model"
   ]
  },
  {
   "cell_type": "code",
   "execution_count": 5,
   "metadata": {},
   "outputs": [],
   "source": [
    "model_fusion_nodiversity.load_weights('models/resnet_32_fusion_nodiversity_avg_weight_best.h5')"
   ]
  },
  {
   "cell_type": "code",
   "execution_count": 7,
   "metadata": {
    "scrolled": true
   },
   "outputs": [
    {
     "name": "stdout",
     "output_type": "stream",
     "text": [
      "WARNING:tensorflow:From /home/mastlab/.conda/envs/tf1-12/lib/python3.6/site-packages/cleverhans/attacks.py:216: calling reduce_max (from tensorflow.python.ops.math_ops) with keep_dims is deprecated and will be removed in a future version.\n",
      "Instructions for updating:\n",
      "keep_dims is deprecated, use keepdims instead\n",
      "WARNING:tensorflow:From /home/mastlab/.conda/envs/tf1-12/lib/python3.6/site-packages/cleverhans/attacks_tf.py:62: calling reduce_sum (from tensorflow.python.ops.math_ops) with keep_dims is deprecated and will be removed in a future version.\n",
      "Instructions for updating:\n",
      "keep_dims is deprecated, use keepdims instead\n",
      "WARNING:tensorflow:From /home/mastlab/.conda/envs/tf1-12/lib/python3.6/site-packages/cleverhans/utils_tf.py:37: softmax_cross_entropy_with_logits (from tensorflow.python.ops.nn_ops) is deprecated and will be removed in a future version.\n",
      "Instructions for updating:\n",
      "\n",
      "Future major versions of TensorFlow will allow gradients to flow\n",
      "into the labels input on backprop by default.\n",
      "\n",
      "See `tf.nn.softmax_cross_entropy_with_logits_v2`.\n",
      "\n"
     ]
    },
    {
     "data": {
      "text/plain": [
       "(0.2421, 0.2618)"
      ]
     },
     "execution_count": 7,
     "metadata": {},
     "output_type": "execute_result"
    }
   ],
   "source": [
    "# fgsm 0.02\n",
    "attack_iterative(sess, model_fusion_nodiversity, model_baseline, dataset='cifar10', num_classes=10, attack_method='FastGradientMethod', eps_=0.02, nb_iter_=10)"
   ]
  },
  {
   "cell_type": "code",
   "execution_count": 8,
   "metadata": {},
   "outputs": [
    {
     "data": {
      "text/plain": [
       "(0.1926, 0.2118)"
      ]
     },
     "execution_count": 8,
     "metadata": {},
     "output_type": "execute_result"
    }
   ],
   "source": [
    "# fgsm 0.04\n",
    "attack_iterative(sess, model_fusion_nodiversity, model_baseline, dataset='cifar10', num_classes=10, attack_method='FastGradientMethod', eps_=0.04, nb_iter_=10)"
   ]
  },
  {
   "cell_type": "code",
   "execution_count": 9,
   "metadata": {},
   "outputs": [
    {
     "data": {
      "text/plain": [
       "(0.0574, 0.0499)"
      ]
     },
     "execution_count": 9,
     "metadata": {},
     "output_type": "execute_result"
    }
   ],
   "source": [
    "# bim 0.02\n",
    "attack_iterative(sess, model_fusion_nodiversity, model_baseline, dataset='cifar10', num_classes=10, attack_method='BasicIterativeMethod', eps_=0.02, nb_iter_=10)"
   ]
  },
  {
   "cell_type": "code",
   "execution_count": 10,
   "metadata": {},
   "outputs": [
    {
     "name": "stdout",
     "output_type": "stream",
     "text": [
      "WARNING:tensorflow:From /home/mastlab/.conda/envs/tf1-12/lib/python3.6/site-packages/cleverhans/attacks.py:549: calling reduce_mean (from tensorflow.python.ops.math_ops) with keep_dims is deprecated and will be removed in a future version.\n",
      "Instructions for updating:\n",
      "keep_dims is deprecated, use keepdims instead\n"
     ]
    },
    {
     "data": {
      "text/plain": [
       "(0.0584, 0.0501)"
      ]
     },
     "execution_count": 10,
     "metadata": {},
     "output_type": "execute_result"
    }
   ],
   "source": [
    "# mim 0.02\n",
    "attack_iterative(sess, model_fusion_nodiversity, model_baseline, dataset='cifar10', num_classes=10, attack_method='MomentumIterativeMethod', eps_=0.02, nb_iter_=10)"
   ]
  },
  {
   "cell_type": "code",
   "execution_count": 11,
   "metadata": {},
   "outputs": [
    {
     "data": {
      "text/plain": [
       "(0.0572, 0.0477)"
      ]
     },
     "execution_count": 11,
     "metadata": {},
     "output_type": "execute_result"
    }
   ],
   "source": [
    "# pgd 0.02\n",
    "attack_iterative(sess, model_fusion_nodiversity, model_baseline, dataset='cifar10', num_classes=10, attack_method='MadryEtAl', eps_=0.02, nb_iter_=10)"
   ]
  },
  {
   "cell_type": "code",
   "execution_count": 6,
   "metadata": {},
   "outputs": [
    {
     "name": "stdout",
     "output_type": "stream",
     "text": [
      "num_samples: 200\n"
     ]
    },
    {
     "name": "stderr",
     "output_type": "stream",
     "text": [
      "/home/mastlab/.conda/envs/tf1-12/lib/python3.6/site-packages/cleverhans/attacks_tf.py:389: UserWarning: jsma_batch is deprecated and will be removed on 2018-06-10. Use jsma_symbolic instead.\n",
      "  warnings.warn(\"jsma_batch is deprecated and will be removed on \"\n"
     ]
    },
    {
     "data": {
      "text/plain": [
       "(0.925, 0.17)"
      ]
     },
     "execution_count": 6,
     "metadata": {},
     "output_type": "execute_result"
    }
   ],
   "source": [
    "# jsma confidence 0.05 theta 0.1\n",
    "# start_time = time.time()\n",
    "attack_jsma(sess, False, model_fusion_nodiversity, dataset='cifar10', num_classes=10, attack_method='JSMA', theta_=0.1, gamma_=0.05)\n",
    "# print(time.time()-start_time)"
   ]
  },
  {
   "cell_type": "code",
   "execution_count": 10,
   "metadata": {},
   "outputs": [
    {
     "data": {
      "text/plain": [
       "(0.922, 0.054)"
      ]
     },
     "execution_count": 10,
     "metadata": {},
     "output_type": "execute_result"
    }
   ],
   "source": [
    "# cw2 \n",
    "attack_optimization(sess, False, model_fusion_nodiversity, dataset='cifar10', num_classes=10, attack_method='CarliniWagnerL2')"
   ]
  },
  {
   "cell_type": "code",
   "execution_count": 11,
   "metadata": {},
   "outputs": [
    {
     "data": {
      "text/plain": [
       "(0.922, 0.026)"
      ]
     },
     "execution_count": 11,
     "metadata": {},
     "output_type": "execute_result"
    }
   ],
   "source": [
    "# EAM\n",
    "attack_optimization(sess, False, model_fusion_nodiversity, dataset='cifar10', num_classes=10, attack_method='ElasticNetMethod')"
   ]
  },
  {
   "cell_type": "markdown",
   "metadata": {},
   "source": [
    "# strongforhigher"
   ]
  },
  {
   "cell_type": "code",
   "execution_count": 4,
   "metadata": {},
   "outputs": [],
   "source": [
    "resnet_strongforhigher = ResNet_v6(x_train=x_train, y_train=y_train, x_val=x_test, y_val=y_test, load_weights=False)\n",
    "resnet_strongforhigher.construct()\n",
    "model_strongforhigher = resnet_strongforhigher._model"
   ]
  },
  {
   "cell_type": "code",
   "execution_count": 5,
   "metadata": {},
   "outputs": [],
   "source": [
    "model_strongforhigher.load_weights('models/resnet_32_fusion_diversity_strongforhigher_avg_weight_best.h5')"
   ]
  },
  {
   "cell_type": "code",
   "execution_count": 7,
   "metadata": {
    "scrolled": true
   },
   "outputs": [
    {
     "name": "stdout",
     "output_type": "stream",
     "text": [
      "WARNING:tensorflow:From /home/mastlab/.conda/envs/tf1-12/lib/python3.6/site-packages/cleverhans/attacks.py:216: calling reduce_max (from tensorflow.python.ops.math_ops) with keep_dims is deprecated and will be removed in a future version.\n",
      "Instructions for updating:\n",
      "keep_dims is deprecated, use keepdims instead\n",
      "WARNING:tensorflow:From /home/mastlab/.conda/envs/tf1-12/lib/python3.6/site-packages/cleverhans/attacks_tf.py:62: calling reduce_sum (from tensorflow.python.ops.math_ops) with keep_dims is deprecated and will be removed in a future version.\n",
      "Instructions for updating:\n",
      "keep_dims is deprecated, use keepdims instead\n",
      "WARNING:tensorflow:From /home/mastlab/.conda/envs/tf1-12/lib/python3.6/site-packages/cleverhans/utils_tf.py:37: softmax_cross_entropy_with_logits (from tensorflow.python.ops.nn_ops) is deprecated and will be removed in a future version.\n",
      "Instructions for updating:\n",
      "\n",
      "Future major versions of TensorFlow will allow gradients to flow\n",
      "into the labels input on backprop by default.\n",
      "\n",
      "See `tf.nn.softmax_cross_entropy_with_logits_v2`.\n",
      "\n"
     ]
    },
    {
     "data": {
      "text/plain": [
       "(0.6845, 0.2618)"
      ]
     },
     "execution_count": 7,
     "metadata": {},
     "output_type": "execute_result"
    }
   ],
   "source": [
    "# fgsm 0.02\n",
    "attack_iterative(sess, model_strongforhigher, model_baseline, dataset='cifar10', num_classes=10, attack_method='FastGradientMethod', eps_=0.02, nb_iter_=10)"
   ]
  },
  {
   "cell_type": "code",
   "execution_count": 8,
   "metadata": {},
   "outputs": [
    {
     "data": {
      "text/plain": [
       "(0.5487, 0.2118)"
      ]
     },
     "execution_count": 8,
     "metadata": {},
     "output_type": "execute_result"
    }
   ],
   "source": [
    "# fgsm 0.04\n",
    "attack_iterative(sess, model_strongforhigher, model_baseline, dataset='cifar10', num_classes=10, attack_method='FastGradientMethod', eps_=0.04, nb_iter_=10)"
   ]
  },
  {
   "cell_type": "code",
   "execution_count": 9,
   "metadata": {},
   "outputs": [
    {
     "data": {
      "text/plain": [
       "(0.4767, 0.0499)"
      ]
     },
     "execution_count": 9,
     "metadata": {},
     "output_type": "execute_result"
    }
   ],
   "source": [
    "# bim 0.02\n",
    "attack_iterative(sess, model_strongforhigher, model_baseline, dataset='cifar10', num_classes=10, attack_method='BasicIterativeMethod', eps_=0.02, nb_iter_=10)"
   ]
  },
  {
   "cell_type": "code",
   "execution_count": 10,
   "metadata": {},
   "outputs": [
    {
     "name": "stdout",
     "output_type": "stream",
     "text": [
      "WARNING:tensorflow:From /home/mastlab/.conda/envs/tf1-12/lib/python3.6/site-packages/cleverhans/attacks.py:549: calling reduce_mean (from tensorflow.python.ops.math_ops) with keep_dims is deprecated and will be removed in a future version.\n",
      "Instructions for updating:\n",
      "keep_dims is deprecated, use keepdims instead\n"
     ]
    },
    {
     "data": {
      "text/plain": [
       "(0.5258, 0.0501)"
      ]
     },
     "execution_count": 10,
     "metadata": {},
     "output_type": "execute_result"
    }
   ],
   "source": [
    "# mim 0.02\n",
    "attack_iterative(sess, model_strongforhigher, model_baseline, dataset='cifar10', num_classes=10, attack_method='MomentumIterativeMethod', eps_=0.02, nb_iter_=10)"
   ]
  },
  {
   "cell_type": "code",
   "execution_count": 11,
   "metadata": {},
   "outputs": [
    {
     "data": {
      "text/plain": [
       "(0.4675, 0.0472)"
      ]
     },
     "execution_count": 11,
     "metadata": {},
     "output_type": "execute_result"
    }
   ],
   "source": [
    "# pgd 0.02\n",
    "attack_iterative(sess, model_strongforhigher, model_baseline, dataset='cifar10', num_classes=10, attack_method='MadryEtAl', eps_=0.02, nb_iter_=10)"
   ]
  },
  {
   "cell_type": "code",
   "execution_count": 6,
   "metadata": {},
   "outputs": [
    {
     "name": "stdout",
     "output_type": "stream",
     "text": [
      "num_samples: 4000\n"
     ]
    },
    {
     "name": "stderr",
     "output_type": "stream",
     "text": [
      "/home/mastlab/.conda/envs/tf1-12/lib/python3.6/site-packages/cleverhans/attacks_tf.py:389: UserWarning: jsma_batch is deprecated and will be removed on 2018-06-10. Use jsma_symbolic instead.\n",
      "  warnings.warn(\"jsma_batch is deprecated and will be removed on \"\n"
     ]
    },
    {
     "data": {
      "text/plain": [
       "(0.90525, 0.259)"
      ]
     },
     "execution_count": 6,
     "metadata": {},
     "output_type": "execute_result"
    }
   ],
   "source": [
    "# jsma confidence 0.05 theta 0.1\n",
    "# start_time = time.time()\n",
    "attack_jsma(sess, False, model_strongforhigher, dataset='cifar10', num_classes=10, attack_method='JSMA', theta_=0.1, gamma_=0.05)\n",
    "# print(time.time()-start_time)"
   ]
  },
  {
   "cell_type": "code",
   "execution_count": 6,
   "metadata": {},
   "outputs": [
    {
     "name": "stdout",
     "output_type": "stream",
     "text": [
      "WARNING:tensorflow:From /home/mastlab/.conda/envs/tf1-12/lib/python3.6/site-packages/cleverhans/attacks.py:216: calling reduce_max (from tensorflow.python.ops.math_ops) with keep_dims is deprecated and will be removed in a future version.\n",
      "Instructions for updating:\n",
      "keep_dims is deprecated, use keepdims instead\n"
     ]
    },
    {
     "data": {
      "text/plain": [
       "(0.913, 0.558)"
      ]
     },
     "execution_count": 6,
     "metadata": {},
     "output_type": "execute_result"
    }
   ],
   "source": [
    "# cw2 0.01\n",
    "attack_optimization(sess, False, model_strongforhigher, dataset='cifar10', num_classes=10, attack_method='CarliniWagnerL2')"
   ]
  },
  {
   "cell_type": "code",
   "execution_count": 12,
   "metadata": {},
   "outputs": [
    {
     "data": {
      "text/plain": [
       "(0.913, 0.458)"
      ]
     },
     "execution_count": 12,
     "metadata": {},
     "output_type": "execute_result"
    }
   ],
   "source": [
    "# cw2 0.1\n",
    "attack_optimization(sess, False, model_strongforhigher, dataset='cifar10', num_classes=10, attack_method='CarliniWagnerL2')"
   ]
  },
  {
   "cell_type": "code",
   "execution_count": 7,
   "metadata": {},
   "outputs": [
    {
     "data": {
      "text/plain": [
       "(0.913, 0.847)"
      ]
     },
     "execution_count": 7,
     "metadata": {},
     "output_type": "execute_result"
    }
   ],
   "source": [
    "# EAM 1\n",
    "attack_optimization(sess, False, model_strongforhigher, dataset='cifar10', num_classes=10, attack_method='ElasticNetMethod')"
   ]
  },
  {
   "cell_type": "code",
   "execution_count": 13,
   "metadata": {},
   "outputs": [
    {
     "data": {
      "text/plain": [
       "(0.913, 0.741)"
      ]
     },
     "execution_count": 13,
     "metadata": {},
     "output_type": "execute_result"
    }
   ],
   "source": [
    "# EAM 5\n",
    "attack_optimization(sess, False, model_strongforhigher, dataset='cifar10', num_classes=10, attack_method='ElasticNetMethod')"
   ]
  },
  {
   "cell_type": "markdown",
   "metadata": {},
   "source": [
    "# lessdiv"
   ]
  },
  {
   "cell_type": "code",
   "execution_count": 4,
   "metadata": {},
   "outputs": [],
   "source": [
    "resnet_lessdiv = ResNet_v12(x_train=x_train, y_train=y_train, x_val=x_test, y_val=y_test, load_weights=False)\n",
    "resnet_lessdiv.construct()\n",
    "model_lessdiv = resnet_lessdiv._model"
   ]
  },
  {
   "cell_type": "code",
   "execution_count": 5,
   "metadata": {},
   "outputs": [],
   "source": [
    "model_lessdiv.load_weights('models/resnet_32_fusion_diversity_lessdiv_strongforhigher321v2_avg_weight_best.h5')"
   ]
  },
  {
   "cell_type": "code",
   "execution_count": 7,
   "metadata": {
    "scrolled": true
   },
   "outputs": [
    {
     "name": "stdout",
     "output_type": "stream",
     "text": [
      "WARNING:tensorflow:From /home/mastlab/.conda/envs/tf1-12/lib/python3.6/site-packages/cleverhans/attacks.py:216: calling reduce_max (from tensorflow.python.ops.math_ops) with keep_dims is deprecated and will be removed in a future version.\n",
      "Instructions for updating:\n",
      "keep_dims is deprecated, use keepdims instead\n",
      "WARNING:tensorflow:From /home/mastlab/.conda/envs/tf1-12/lib/python3.6/site-packages/cleverhans/attacks_tf.py:62: calling reduce_sum (from tensorflow.python.ops.math_ops) with keep_dims is deprecated and will be removed in a future version.\n",
      "Instructions for updating:\n",
      "keep_dims is deprecated, use keepdims instead\n",
      "WARNING:tensorflow:From /home/mastlab/.conda/envs/tf1-12/lib/python3.6/site-packages/cleverhans/utils_tf.py:37: softmax_cross_entropy_with_logits (from tensorflow.python.ops.nn_ops) is deprecated and will be removed in a future version.\n",
      "Instructions for updating:\n",
      "\n",
      "Future major versions of TensorFlow will allow gradients to flow\n",
      "into the labels input on backprop by default.\n",
      "\n",
      "See `tf.nn.softmax_cross_entropy_with_logits_v2`.\n",
      "\n"
     ]
    },
    {
     "data": {
      "text/plain": [
       "(0.6028, 0.2618)"
      ]
     },
     "execution_count": 7,
     "metadata": {},
     "output_type": "execute_result"
    }
   ],
   "source": [
    "# fgsm 0.02\n",
    "attack_iterative(sess, model_lessdiv, model_baseline, dataset='cifar10', num_classes=10, attack_method='FastGradientMethod', eps_=0.02, nb_iter_=10)"
   ]
  },
  {
   "cell_type": "code",
   "execution_count": 8,
   "metadata": {},
   "outputs": [
    {
     "data": {
      "text/plain": [
       "(0.4944, 0.2118)"
      ]
     },
     "execution_count": 8,
     "metadata": {},
     "output_type": "execute_result"
    }
   ],
   "source": [
    "# fgsm 0.04\n",
    "attack_iterative(sess, model_lessdiv, model_baseline, dataset='cifar10', num_classes=10, attack_method='FastGradientMethod', eps_=0.04, nb_iter_=10)"
   ]
  },
  {
   "cell_type": "code",
   "execution_count": 9,
   "metadata": {},
   "outputs": [
    {
     "data": {
      "text/plain": [
       "(0.3242, 0.0499)"
      ]
     },
     "execution_count": 9,
     "metadata": {},
     "output_type": "execute_result"
    }
   ],
   "source": [
    "# bim 0.02\n",
    "attack_iterative(sess, model_lessdiv, model_baseline, dataset='cifar10', num_classes=10, attack_method='BasicIterativeMethod', eps_=0.02, nb_iter_=10)"
   ]
  },
  {
   "cell_type": "code",
   "execution_count": 9,
   "metadata": {},
   "outputs": [
    {
     "name": "stdout",
     "output_type": "stream",
     "text": [
      "WARNING:tensorflow:From /home/mastlab/.conda/envs/tf1-12/lib/python3.6/site-packages/cleverhans/attacks.py:216: calling reduce_max (from tensorflow.python.ops.math_ops) with keep_dims is deprecated and will be removed in a future version.\n",
      "Instructions for updating:\n",
      "keep_dims is deprecated, use keepdims instead\n",
      "WARNING:tensorflow:From /home/mastlab/.conda/envs/tf1-12/lib/python3.6/site-packages/cleverhans/attacks.py:529: calling reduce_sum (from tensorflow.python.ops.math_ops) with keep_dims is deprecated and will be removed in a future version.\n",
      "Instructions for updating:\n",
      "keep_dims is deprecated, use keepdims instead\n",
      "WARNING:tensorflow:From /home/mastlab/.conda/envs/tf1-12/lib/python3.6/site-packages/cleverhans/utils_tf.py:37: softmax_cross_entropy_with_logits (from tensorflow.python.ops.nn_ops) is deprecated and will be removed in a future version.\n",
      "Instructions for updating:\n",
      "\n",
      "Future major versions of TensorFlow will allow gradients to flow\n",
      "into the labels input on backprop by default.\n",
      "\n",
      "See `tf.nn.softmax_cross_entropy_with_logits_v2`.\n",
      "\n",
      "WARNING:tensorflow:From /home/mastlab/.conda/envs/tf1-12/lib/python3.6/site-packages/cleverhans/attacks.py:549: calling reduce_mean (from tensorflow.python.ops.math_ops) with keep_dims is deprecated and will be removed in a future version.\n",
      "Instructions for updating:\n",
      "keep_dims is deprecated, use keepdims instead\n"
     ]
    },
    {
     "data": {
      "text/plain": [
       "(0.3807, 0.0501)"
      ]
     },
     "execution_count": 9,
     "metadata": {},
     "output_type": "execute_result"
    }
   ],
   "source": [
    "# mim 0.02\n",
    "attack_iterative(sess, model_lessdiv, model_baseline, dataset='cifar10', num_classes=10, attack_method='MomentumIterativeMethod', eps_=0.02, nb_iter_=10)"
   ]
  },
  {
   "cell_type": "code",
   "execution_count": 10,
   "metadata": {},
   "outputs": [
    {
     "data": {
      "text/plain": [
       "(0.3193, 0.0463)"
      ]
     },
     "execution_count": 10,
     "metadata": {},
     "output_type": "execute_result"
    }
   ],
   "source": [
    "# pgd 0.02\n",
    "attack_iterative(sess, model_lessdiv, model_baseline, dataset='cifar10', num_classes=10, attack_method='MadryEtAl', eps_=0.02, nb_iter_=10)"
   ]
  },
  {
   "cell_type": "code",
   "execution_count": 6,
   "metadata": {},
   "outputs": [
    {
     "name": "stdout",
     "output_type": "stream",
     "text": [
      "num_samples: 2000\n"
     ]
    },
    {
     "name": "stderr",
     "output_type": "stream",
     "text": [
      "/home/mastlab/.conda/envs/tf1-12/lib/python3.6/site-packages/cleverhans/attacks_tf.py:389: UserWarning: jsma_batch is deprecated and will be removed on 2018-06-10. Use jsma_symbolic instead.\n",
      "  warnings.warn(\"jsma_batch is deprecated and will be removed on \"\n"
     ]
    },
    {
     "data": {
      "text/plain": [
       "(0.9115, 0.453)"
      ]
     },
     "execution_count": 6,
     "metadata": {},
     "output_type": "execute_result"
    }
   ],
   "source": [
    "# jsma confidence 0.05 theta 0.1\n",
    "# start_time = time.time()\n",
    "attack_jsma(sess, False, model_lessdiv, dataset='cifar10', num_classes=10, attack_method='JSMA', theta_=0.1, gamma_=0.05)\n",
    "# print(time.time()-start_time)"
   ]
  },
  {
   "cell_type": "code",
   "execution_count": 6,
   "metadata": {},
   "outputs": [
    {
     "name": "stdout",
     "output_type": "stream",
     "text": [
      "WARNING:tensorflow:From /home/mastlab/.conda/envs/tf1-12/lib/python3.6/site-packages/cleverhans/attacks.py:216: calling reduce_max (from tensorflow.python.ops.math_ops) with keep_dims is deprecated and will be removed in a future version.\n",
      "Instructions for updating:\n",
      "keep_dims is deprecated, use keepdims instead\n"
     ]
    },
    {
     "data": {
      "text/plain": [
       "(0.9105, 0.3082)"
      ]
     },
     "execution_count": 6,
     "metadata": {},
     "output_type": "execute_result"
    }
   ],
   "source": [
    "# cw2 0.1\n",
    "attack_optimization(sess, False, model_lessdiv, dataset='cifar10', num_classes=10, attack_method='CarliniWagnerL2')"
   ]
  },
  {
   "cell_type": "code",
   "execution_count": 7,
   "metadata": {},
   "outputs": [
    {
     "data": {
      "text/plain": [
       "(0.9105, 0.3669)"
      ]
     },
     "execution_count": 7,
     "metadata": {},
     "output_type": "execute_result"
    }
   ],
   "source": [
    "# EAM 5\n",
    "attack_optimization(sess, False, model_lessdiv, dataset='cifar10', num_classes=10, attack_method='ElasticNetMethod')"
   ]
  },
  {
   "cell_type": "markdown",
   "metadata": {},
   "source": [
    "# strongforhigher_light"
   ]
  },
  {
   "cell_type": "code",
   "execution_count": 4,
   "metadata": {},
   "outputs": [],
   "source": [
    "resnet_strongforhigher_light = ResNet_v9(x_train=x_train, y_train=y_train, x_val=x_test, y_val=y_test, load_weights=False)\n",
    "resnet_strongforhigher_light.construct()\n",
    "model_strongforhigher_light = resnet_strongforhigher_light._model"
   ]
  },
  {
   "cell_type": "code",
   "execution_count": 5,
   "metadata": {},
   "outputs": [],
   "source": [
    "model_strongforhigher_light.load_weights('models/resnet_32_fusion_diversity_strongforhigher_light_avg_weight_best.h5')"
   ]
  },
  {
   "cell_type": "code",
   "execution_count": 7,
   "metadata": {
    "scrolled": true
   },
   "outputs": [
    {
     "name": "stdout",
     "output_type": "stream",
     "text": [
      "WARNING:tensorflow:From /home/mastlab/.conda/envs/tf1-12/lib/python3.6/site-packages/cleverhans/attacks.py:216: calling reduce_max (from tensorflow.python.ops.math_ops) with keep_dims is deprecated and will be removed in a future version.\n",
      "Instructions for updating:\n",
      "keep_dims is deprecated, use keepdims instead\n",
      "WARNING:tensorflow:From /home/mastlab/.conda/envs/tf1-12/lib/python3.6/site-packages/cleverhans/attacks_tf.py:62: calling reduce_sum (from tensorflow.python.ops.math_ops) with keep_dims is deprecated and will be removed in a future version.\n",
      "Instructions for updating:\n",
      "keep_dims is deprecated, use keepdims instead\n",
      "WARNING:tensorflow:From /home/mastlab/.conda/envs/tf1-12/lib/python3.6/site-packages/cleverhans/utils_tf.py:37: softmax_cross_entropy_with_logits (from tensorflow.python.ops.nn_ops) is deprecated and will be removed in a future version.\n",
      "Instructions for updating:\n",
      "\n",
      "Future major versions of TensorFlow will allow gradients to flow\n",
      "into the labels input on backprop by default.\n",
      "\n",
      "See `tf.nn.softmax_cross_entropy_with_logits_v2`.\n",
      "\n"
     ]
    },
    {
     "data": {
      "text/plain": [
       "(0.6405, 0.2618)"
      ]
     },
     "execution_count": 7,
     "metadata": {},
     "output_type": "execute_result"
    }
   ],
   "source": [
    "# fgsm 0.02\n",
    "attack_iterative(sess, model_strongforhigher_light, model_baseline, dataset='cifar10', num_classes=10, attack_method='FastGradientMethod', eps_=0.02, nb_iter_=10)"
   ]
  },
  {
   "cell_type": "code",
   "execution_count": 8,
   "metadata": {},
   "outputs": [
    {
     "data": {
      "text/plain": [
       "(0.4423, 0.2118)"
      ]
     },
     "execution_count": 8,
     "metadata": {},
     "output_type": "execute_result"
    }
   ],
   "source": [
    "# fgsm 0.04\n",
    "attack_iterative(sess, model_strongforhigher_light, model_baseline, dataset='cifar10', num_classes=10, attack_method='FastGradientMethod', eps_=0.04, nb_iter_=10)"
   ]
  },
  {
   "cell_type": "code",
   "execution_count": 9,
   "metadata": {},
   "outputs": [
    {
     "data": {
      "text/plain": [
       "(0.4144, 0.0499)"
      ]
     },
     "execution_count": 9,
     "metadata": {},
     "output_type": "execute_result"
    }
   ],
   "source": [
    "# bim 0.02\n",
    "attack_iterative(sess, model_strongforhigher_light, model_baseline, dataset='cifar10', num_classes=10, attack_method='BasicIterativeMethod', eps_=0.02, nb_iter_=10)"
   ]
  },
  {
   "cell_type": "code",
   "execution_count": 10,
   "metadata": {},
   "outputs": [
    {
     "name": "stdout",
     "output_type": "stream",
     "text": [
      "WARNING:tensorflow:From /home/mastlab/.conda/envs/tf1-12/lib/python3.6/site-packages/cleverhans/attacks.py:549: calling reduce_mean (from tensorflow.python.ops.math_ops) with keep_dims is deprecated and will be removed in a future version.\n",
      "Instructions for updating:\n",
      "keep_dims is deprecated, use keepdims instead\n"
     ]
    },
    {
     "data": {
      "text/plain": [
       "(0.4747, 0.0501)"
      ]
     },
     "execution_count": 10,
     "metadata": {},
     "output_type": "execute_result"
    }
   ],
   "source": [
    "# mim 0.02\n",
    "attack_iterative(sess, model_strongforhigher_light, model_baseline, dataset='cifar10', num_classes=10, attack_method='MomentumIterativeMethod', eps_=0.02, nb_iter_=10)"
   ]
  },
  {
   "cell_type": "code",
   "execution_count": 11,
   "metadata": {},
   "outputs": [
    {
     "data": {
      "text/plain": [
       "(0.4253, 0.049)"
      ]
     },
     "execution_count": 11,
     "metadata": {},
     "output_type": "execute_result"
    }
   ],
   "source": [
    "# pgd 0.02\n",
    "attack_iterative(sess, model_strongforhigher_light, model_baseline, dataset='cifar10', num_classes=10, attack_method='MadryEtAl', eps_=0.02, nb_iter_=10)"
   ]
  },
  {
   "cell_type": "code",
   "execution_count": 6,
   "metadata": {},
   "outputs": [
    {
     "name": "stdout",
     "output_type": "stream",
     "text": [
      "num_samples: 100\n"
     ]
    },
    {
     "name": "stderr",
     "output_type": "stream",
     "text": [
      "/home/mastlab/.conda/envs/tf1-12/lib/python3.6/site-packages/cleverhans/attacks_tf.py:389: UserWarning: jsma_batch is deprecated and will be removed on 2018-06-10. Use jsma_symbolic instead.\n",
      "  warnings.warn(\"jsma_batch is deprecated and will be removed on \"\n"
     ]
    },
    {
     "data": {
      "text/plain": [
       "(0.9, 0.24)"
      ]
     },
     "execution_count": 6,
     "metadata": {},
     "output_type": "execute_result"
    }
   ],
   "source": [
    "# jsma confidence 0.05 theta 0.1\n",
    "# start_time = time.time()\n",
    "attack_jsma(sess, False, model_strongforhigher_light, dataset='cifar10', num_classes=10, attack_method='JSMA', theta_=0.1, gamma_=0.05)\n",
    "# print(time.time()-start_time)"
   ]
  },
  {
   "cell_type": "code",
   "execution_count": 6,
   "metadata": {},
   "outputs": [
    {
     "name": "stdout",
     "output_type": "stream",
     "text": [
      "WARNING:tensorflow:From /home/mastlab/.conda/envs/tf1-12/lib/python3.6/site-packages/cleverhans/attacks.py:216: calling reduce_max (from tensorflow.python.ops.math_ops) with keep_dims is deprecated and will be removed in a future version.\n",
      "Instructions for updating:\n",
      "keep_dims is deprecated, use keepdims instead\n"
     ]
    },
    {
     "data": {
      "text/plain": [
       "(0.916, 0.439)"
      ]
     },
     "execution_count": 6,
     "metadata": {},
     "output_type": "execute_result"
    }
   ],
   "source": [
    "# cw2 0.1\n",
    "attack_optimization(sess, False, model_strongforhigher_light, dataset='cifar10', num_classes=10, attack_method='CarliniWagnerL2')"
   ]
  },
  {
   "cell_type": "code",
   "execution_count": 7,
   "metadata": {},
   "outputs": [
    {
     "data": {
      "text/plain": [
       "(0.916, 0.734)"
      ]
     },
     "execution_count": 7,
     "metadata": {},
     "output_type": "execute_result"
    }
   ],
   "source": [
    "# EAM 5\n",
    "attack_optimization(sess, False, model_strongforhigher_light, dataset='cifar10', num_classes=10, attack_method='ElasticNetMethod')"
   ]
  },
  {
   "cell_type": "markdown",
   "metadata": {},
   "source": [
    "# strongforhigher_strongwithtran"
   ]
  },
  {
   "cell_type": "code",
   "execution_count": 4,
   "metadata": {},
   "outputs": [],
   "source": [
    "resnet_strongforhigher_strongwithtran = ResNet_v11(x_train=x_train, y_train=y_train, x_val=x_test, y_val=y_test, load_weights=False)\n",
    "resnet_strongforhigher_strongwithtran.construct()\n",
    "model_strongforhigher_strongwithtran = resnet_strongforhigher_strongwithtran._model"
   ]
  },
  {
   "cell_type": "code",
   "execution_count": 5,
   "metadata": {},
   "outputs": [],
   "source": [
    "model_strongforhigher_strongwithtran.load_weights('models/resnet_32_fusion_diversity_strongforhigher_strongwithtran_avg_weight_best.h5')"
   ]
  },
  {
   "cell_type": "code",
   "execution_count": 8,
   "metadata": {
    "scrolled": true
   },
   "outputs": [
    {
     "name": "stdout",
     "output_type": "stream",
     "text": [
      "WARNING:tensorflow:From /home/mastlab/.conda/envs/tf1-12/lib/python3.6/site-packages/cleverhans/attacks.py:216: calling reduce_max (from tensorflow.python.ops.math_ops) with keep_dims is deprecated and will be removed in a future version.\n",
      "Instructions for updating:\n",
      "keep_dims is deprecated, use keepdims instead\n",
      "WARNING:tensorflow:From /home/mastlab/.conda/envs/tf1-12/lib/python3.6/site-packages/cleverhans/attacks_tf.py:62: calling reduce_sum (from tensorflow.python.ops.math_ops) with keep_dims is deprecated and will be removed in a future version.\n",
      "Instructions for updating:\n",
      "keep_dims is deprecated, use keepdims instead\n",
      "WARNING:tensorflow:From /home/mastlab/.conda/envs/tf1-12/lib/python3.6/site-packages/cleverhans/utils_tf.py:37: softmax_cross_entropy_with_logits (from tensorflow.python.ops.nn_ops) is deprecated and will be removed in a future version.\n",
      "Instructions for updating:\n",
      "\n",
      "Future major versions of TensorFlow will allow gradients to flow\n",
      "into the labels input on backprop by default.\n",
      "\n",
      "See `tf.nn.softmax_cross_entropy_with_logits_v2`.\n",
      "\n"
     ]
    },
    {
     "data": {
      "text/plain": [
       "(0.6582, 0.2618)"
      ]
     },
     "execution_count": 8,
     "metadata": {},
     "output_type": "execute_result"
    }
   ],
   "source": [
    "# fgsm 0.02\n",
    "attack_iterative(sess, model_strongforhigher_strongwithtran, model_baseline, dataset='cifar10', num_classes=10, attack_method='FastGradientMethod', eps_=0.02, nb_iter_=10)"
   ]
  },
  {
   "cell_type": "code",
   "execution_count": 9,
   "metadata": {},
   "outputs": [
    {
     "data": {
      "text/plain": [
       "(0.5105, 0.2118)"
      ]
     },
     "execution_count": 9,
     "metadata": {},
     "output_type": "execute_result"
    }
   ],
   "source": [
    "# fgsm 0.04\n",
    "attack_iterative(sess, model_strongforhigher_strongwithtran, model_baseline, dataset='cifar10', num_classes=10, attack_method='FastGradientMethod', eps_=0.04, nb_iter_=10)"
   ]
  },
  {
   "cell_type": "code",
   "execution_count": 10,
   "metadata": {},
   "outputs": [
    {
     "data": {
      "text/plain": [
       "(0.4294, 0.0499)"
      ]
     },
     "execution_count": 10,
     "metadata": {},
     "output_type": "execute_result"
    }
   ],
   "source": [
    "# bim 0.02\n",
    "attack_iterative(sess, model_strongforhigher_strongwithtran, model_baseline, dataset='cifar10', num_classes=10, attack_method='BasicIterativeMethod', eps_=0.02, nb_iter_=10)"
   ]
  },
  {
   "cell_type": "code",
   "execution_count": 11,
   "metadata": {},
   "outputs": [
    {
     "name": "stdout",
     "output_type": "stream",
     "text": [
      "WARNING:tensorflow:From /home/mastlab/.conda/envs/tf1-12/lib/python3.6/site-packages/cleverhans/attacks.py:549: calling reduce_mean (from tensorflow.python.ops.math_ops) with keep_dims is deprecated and will be removed in a future version.\n",
      "Instructions for updating:\n",
      "keep_dims is deprecated, use keepdims instead\n"
     ]
    },
    {
     "data": {
      "text/plain": [
       "(0.4774, 0.0501)"
      ]
     },
     "execution_count": 11,
     "metadata": {},
     "output_type": "execute_result"
    }
   ],
   "source": [
    "# mim 0.02\n",
    "attack_iterative(sess, model_strongforhigher_strongwithtran, model_baseline, dataset='cifar10', num_classes=10, attack_method='MomentumIterativeMethod', eps_=0.02, nb_iter_=10)"
   ]
  },
  {
   "cell_type": "code",
   "execution_count": 12,
   "metadata": {},
   "outputs": [
    {
     "data": {
      "text/plain": [
       "(0.431, 0.0472)"
      ]
     },
     "execution_count": 12,
     "metadata": {},
     "output_type": "execute_result"
    }
   ],
   "source": [
    "# pgd 0.02\n",
    "attack_iterative(sess, model_strongforhigher_strongwithtran, model_baseline, dataset='cifar10', num_classes=10, attack_method='MadryEtAl', eps_=0.02, nb_iter_=10)"
   ]
  },
  {
   "cell_type": "code",
   "execution_count": 7,
   "metadata": {},
   "outputs": [
    {
     "name": "stdout",
     "output_type": "stream",
     "text": [
      "num_samples: 100\n"
     ]
    },
    {
     "name": "stderr",
     "output_type": "stream",
     "text": [
      "/home/mastlab/.conda/envs/tf1-12/lib/python3.6/site-packages/cleverhans/attacks_tf.py:389: UserWarning: jsma_batch is deprecated and will be removed on 2018-06-10. Use jsma_symbolic instead.\n",
      "  warnings.warn(\"jsma_batch is deprecated and will be removed on \"\n"
     ]
    },
    {
     "data": {
      "text/plain": [
       "(0.92, 0.23)"
      ]
     },
     "execution_count": 7,
     "metadata": {},
     "output_type": "execute_result"
    }
   ],
   "source": [
    "# jsma confidence 0.05 theta 0.1\n",
    "# start_time = time.time()\n",
    "attack_jsma(sess, False, model_strongforhigher_strongwithtran, dataset='cifar10', num_classes=10, attack_method='JSMA', theta_=0.1, gamma_=0.05)\n",
    "# print(time.time()-start_time)"
   ]
  },
  {
   "cell_type": "code",
   "execution_count": 6,
   "metadata": {},
   "outputs": [
    {
     "name": "stdout",
     "output_type": "stream",
     "text": [
      "WARNING:tensorflow:From /home/mastlab/.conda/envs/tf1-12/lib/python3.6/site-packages/cleverhans/attacks.py:216: calling reduce_max (from tensorflow.python.ops.math_ops) with keep_dims is deprecated and will be removed in a future version.\n",
      "Instructions for updating:\n",
      "keep_dims is deprecated, use keepdims instead\n"
     ]
    },
    {
     "data": {
      "text/plain": [
       "(0.92, 0.434)"
      ]
     },
     "execution_count": 6,
     "metadata": {},
     "output_type": "execute_result"
    }
   ],
   "source": [
    "# cw2 0.1\n",
    "attack_optimization(sess, False, model_strongforhigher_strongwithtran, dataset='cifar10', num_classes=10, attack_method='CarliniWagnerL2')"
   ]
  },
  {
   "cell_type": "code",
   "execution_count": 7,
   "metadata": {},
   "outputs": [
    {
     "data": {
      "text/plain": [
       "(0.92, 0.725)"
      ]
     },
     "execution_count": 7,
     "metadata": {},
     "output_type": "execute_result"
    }
   ],
   "source": [
    "# EAM 5\n",
    "attack_optimization(sess, False, model_strongforhigher_strongwithtran, dataset='cifar10', num_classes=10, attack_method='ElasticNetMethod')"
   ]
  },
  {
   "cell_type": "markdown",
   "metadata": {},
   "source": [
    "# strongwithnorm"
   ]
  },
  {
   "cell_type": "code",
   "execution_count": 4,
   "metadata": {},
   "outputs": [],
   "source": [
    "resnet_strongwithnorm = ResNet_v8(x_train=x_train, y_train=y_train, x_val=x_test, y_val=y_test, load_weights=False)\n",
    "resnet_strongwithnorm.construct()\n",
    "model_strongwithnorm = resnet_strongwithnorm._model"
   ]
  },
  {
   "cell_type": "code",
   "execution_count": 5,
   "metadata": {},
   "outputs": [],
   "source": [
    "model_strongwithnorm.load_weights('models/resnet_32_fusion_diversity_strongwithnorm_avg_weight_best.h5')"
   ]
  },
  {
   "cell_type": "code",
   "execution_count": 7,
   "metadata": {},
   "outputs": [
    {
     "name": "stdout",
     "output_type": "stream",
     "text": [
      "WARNING:tensorflow:From /home/mastlab/.conda/envs/tf1-12/lib/python3.6/site-packages/cleverhans/attacks.py:216: calling reduce_max (from tensorflow.python.ops.math_ops) with keep_dims is deprecated and will be removed in a future version.\n",
      "Instructions for updating:\n",
      "keep_dims is deprecated, use keepdims instead\n",
      "WARNING:tensorflow:From /home/mastlab/.conda/envs/tf1-12/lib/python3.6/site-packages/cleverhans/attacks_tf.py:62: calling reduce_sum (from tensorflow.python.ops.math_ops) with keep_dims is deprecated and will be removed in a future version.\n",
      "Instructions for updating:\n",
      "keep_dims is deprecated, use keepdims instead\n",
      "WARNING:tensorflow:From /home/mastlab/.conda/envs/tf1-12/lib/python3.6/site-packages/cleverhans/utils_tf.py:37: softmax_cross_entropy_with_logits (from tensorflow.python.ops.nn_ops) is deprecated and will be removed in a future version.\n",
      "Instructions for updating:\n",
      "\n",
      "Future major versions of TensorFlow will allow gradients to flow\n",
      "into the labels input on backprop by default.\n",
      "\n",
      "See `tf.nn.softmax_cross_entropy_with_logits_v2`.\n",
      "\n"
     ]
    },
    {
     "data": {
      "text/plain": [
       "(0.5375, 0.2618)"
      ]
     },
     "execution_count": 7,
     "metadata": {},
     "output_type": "execute_result"
    }
   ],
   "source": [
    "# fgsm 0.02\n",
    "attack_iterative(sess, model_strongwithnorm, model_baseline, dataset='cifar10', num_classes=10, attack_method='FastGradientMethod', eps_=0.02, nb_iter_=10)"
   ]
  },
  {
   "cell_type": "code",
   "execution_count": 8,
   "metadata": {},
   "outputs": [
    {
     "data": {
      "text/plain": [
       "(0.4557, 0.2118)"
      ]
     },
     "execution_count": 8,
     "metadata": {},
     "output_type": "execute_result"
    }
   ],
   "source": [
    "# fgsm 0.04\n",
    "attack_iterative(sess, model_strongwithnorm, model_baseline, dataset='cifar10', num_classes=10, attack_method='FastGradientMethod', eps_=0.04, nb_iter_=10)"
   ]
  },
  {
   "cell_type": "code",
   "execution_count": 9,
   "metadata": {},
   "outputs": [
    {
     "data": {
      "text/plain": [
       "(0.2234, 0.0499)"
      ]
     },
     "execution_count": 9,
     "metadata": {},
     "output_type": "execute_result"
    }
   ],
   "source": [
    "# bim 0.02\n",
    "attack_iterative(sess, model_strongwithnorm, model_baseline, dataset='cifar10', num_classes=10, attack_method='BasicIterativeMethod', eps_=0.02, nb_iter_=10)"
   ]
  },
  {
   "cell_type": "code",
   "execution_count": 10,
   "metadata": {},
   "outputs": [
    {
     "name": "stdout",
     "output_type": "stream",
     "text": [
      "WARNING:tensorflow:From /home/mastlab/.conda/envs/tf1-12/lib/python3.6/site-packages/cleverhans/attacks.py:549: calling reduce_mean (from tensorflow.python.ops.math_ops) with keep_dims is deprecated and will be removed in a future version.\n",
      "Instructions for updating:\n",
      "keep_dims is deprecated, use keepdims instead\n"
     ]
    },
    {
     "data": {
      "text/plain": [
       "(0.2721, 0.0501)"
      ]
     },
     "execution_count": 10,
     "metadata": {},
     "output_type": "execute_result"
    }
   ],
   "source": [
    "# mim 0.02\n",
    "attack_iterative(sess, model_strongwithnorm, model_baseline, dataset='cifar10', num_classes=10, attack_method='MomentumIterativeMethod', eps_=0.02, nb_iter_=10)"
   ]
  },
  {
   "cell_type": "code",
   "execution_count": 7,
   "metadata": {},
   "outputs": [
    {
     "name": "stdout",
     "output_type": "stream",
     "text": [
      "WARNING:tensorflow:From /home/mastlab/.conda/envs/tf1-12/lib/python3.6/site-packages/cleverhans/attacks.py:216: calling reduce_max (from tensorflow.python.ops.math_ops) with keep_dims is deprecated and will be removed in a future version.\n",
      "Instructions for updating:\n",
      "keep_dims is deprecated, use keepdims instead\n",
      "WARNING:tensorflow:From /home/mastlab/.conda/envs/tf1-12/lib/python3.6/site-packages/cleverhans/utils_tf.py:37: softmax_cross_entropy_with_logits (from tensorflow.python.ops.nn_ops) is deprecated and will be removed in a future version.\n",
      "Instructions for updating:\n",
      "\n",
      "Future major versions of TensorFlow will allow gradients to flow\n",
      "into the labels input on backprop by default.\n",
      "\n",
      "See `tf.nn.softmax_cross_entropy_with_logits_v2`.\n",
      "\n"
     ]
    },
    {
     "data": {
      "text/plain": [
       "(0.2402, 0.0472)"
      ]
     },
     "execution_count": 7,
     "metadata": {},
     "output_type": "execute_result"
    }
   ],
   "source": [
    "# pgd 0.02\n",
    "attack_iterative(sess, model_strongwithnorm, model_baseline, dataset='cifar10', num_classes=10, attack_method='MadryEtAl', eps_=0.02, nb_iter_=10)"
   ]
  },
  {
   "cell_type": "code",
   "execution_count": 6,
   "metadata": {},
   "outputs": [
    {
     "name": "stdout",
     "output_type": "stream",
     "text": [
      "num_samples: 100\n"
     ]
    },
    {
     "name": "stderr",
     "output_type": "stream",
     "text": [
      "/home/mastlab/.conda/envs/tf1-12/lib/python3.6/site-packages/cleverhans/attacks_tf.py:389: UserWarning: jsma_batch is deprecated and will be removed on 2018-06-10. Use jsma_symbolic instead.\n",
      "  warnings.warn(\"jsma_batch is deprecated and will be removed on \"\n"
     ]
    },
    {
     "data": {
      "text/plain": [
       "(0.89, 0.38)"
      ]
     },
     "execution_count": 6,
     "metadata": {},
     "output_type": "execute_result"
    }
   ],
   "source": [
    "# jsma confidence 0.05 theta 0.1\n",
    "# start_time = time.time()\n",
    "attack_jsma(sess, False, model_strongwithnorm, dataset='cifar10', num_classes=10, attack_method='JSMA', theta_=0.1, gamma_=0.05)\n",
    "# print(time.time()-start_time)"
   ]
  },
  {
   "cell_type": "code",
   "execution_count": 6,
   "metadata": {},
   "outputs": [
    {
     "name": "stdout",
     "output_type": "stream",
     "text": [
      "WARNING:tensorflow:From /home/mastlab/.conda/envs/tf1-12/lib/python3.6/site-packages/cleverhans/attacks.py:216: calling reduce_max (from tensorflow.python.ops.math_ops) with keep_dims is deprecated and will be removed in a future version.\n",
      "Instructions for updating:\n",
      "keep_dims is deprecated, use keepdims instead\n"
     ]
    },
    {
     "data": {
      "text/plain": [
       "(0.925, 0.125)"
      ]
     },
     "execution_count": 6,
     "metadata": {},
     "output_type": "execute_result"
    }
   ],
   "source": [
    "# cw2 0.1\n",
    "attack_optimization(sess, False, model_strongwithnorm, dataset='cifar10', num_classes=10, attack_method='CarliniWagnerL2')"
   ]
  },
  {
   "cell_type": "code",
   "execution_count": 7,
   "metadata": {},
   "outputs": [
    {
     "data": {
      "text/plain": [
       "(0.925, 0.09)"
      ]
     },
     "execution_count": 7,
     "metadata": {},
     "output_type": "execute_result"
    }
   ],
   "source": [
    "# EAM 5\n",
    "attack_optimization(sess, False, model_strongwithnorm, dataset='cifar10', num_classes=10, attack_method='ElasticNetMethod')"
   ]
  },
  {
   "cell_type": "markdown",
   "metadata": {},
   "source": [
    "# nofusion_strongforhigher"
   ]
  },
  {
   "cell_type": "code",
   "execution_count": 4,
   "metadata": {},
   "outputs": [],
   "source": [
    "resnet_nofusion_strongforhigher = ResNet_v7(x_train=x_train, y_train=y_train, x_val=x_test, y_val=y_test, load_weights=False)\n",
    "resnet_nofusion_strongforhigher.construct()\n",
    "model_nofusion_strongforhigher = resnet_nofusion_strongforhigher._model"
   ]
  },
  {
   "cell_type": "code",
   "execution_count": 5,
   "metadata": {},
   "outputs": [],
   "source": [
    "model_nofusion_strongforhigher.load_weights('models/resnet_32_nofusion_diversity_strongforhigher_avg_weight_best.h5')"
   ]
  },
  {
   "cell_type": "code",
   "execution_count": 7,
   "metadata": {
    "scrolled": true
   },
   "outputs": [
    {
     "name": "stdout",
     "output_type": "stream",
     "text": [
      "WARNING:tensorflow:From /home/mastlab/.conda/envs/tf1-12/lib/python3.6/site-packages/cleverhans/attacks.py:216: calling reduce_max (from tensorflow.python.ops.math_ops) with keep_dims is deprecated and will be removed in a future version.\n",
      "Instructions for updating:\n",
      "keep_dims is deprecated, use keepdims instead\n",
      "WARNING:tensorflow:From /home/mastlab/.conda/envs/tf1-12/lib/python3.6/site-packages/cleverhans/attacks_tf.py:62: calling reduce_sum (from tensorflow.python.ops.math_ops) with keep_dims is deprecated and will be removed in a future version.\n",
      "Instructions for updating:\n",
      "keep_dims is deprecated, use keepdims instead\n",
      "WARNING:tensorflow:From /home/mastlab/.conda/envs/tf1-12/lib/python3.6/site-packages/cleverhans/utils_tf.py:37: softmax_cross_entropy_with_logits (from tensorflow.python.ops.nn_ops) is deprecated and will be removed in a future version.\n",
      "Instructions for updating:\n",
      "\n",
      "Future major versions of TensorFlow will allow gradients to flow\n",
      "into the labels input on backprop by default.\n",
      "\n",
      "See `tf.nn.softmax_cross_entropy_with_logits_v2`.\n",
      "\n"
     ]
    },
    {
     "data": {
      "text/plain": [
       "(0.3409, 0.2618)"
      ]
     },
     "execution_count": 7,
     "metadata": {},
     "output_type": "execute_result"
    }
   ],
   "source": [
    "# fgsm 0.02\n",
    "attack_iterative(sess, model_nofusion_strongforhigher, model_baseline, dataset='cifar10', num_classes=10, attack_method='FastGradientMethod', eps_=0.02, nb_iter_=10)"
   ]
  },
  {
   "cell_type": "code",
   "execution_count": 8,
   "metadata": {},
   "outputs": [
    {
     "data": {
      "text/plain": [
       "(0.2087, 0.2118)"
      ]
     },
     "execution_count": 8,
     "metadata": {},
     "output_type": "execute_result"
    }
   ],
   "source": [
    "# fgsm 0.04\n",
    "attack_iterative(sess, model_nofusion_strongforhigher, model_baseline, dataset='cifar10', num_classes=10, attack_method='FastGradientMethod', eps_=0.04, nb_iter_=10)"
   ]
  },
  {
   "cell_type": "code",
   "execution_count": 9,
   "metadata": {},
   "outputs": [
    {
     "data": {
      "text/plain": [
       "(0.1134, 0.0499)"
      ]
     },
     "execution_count": 9,
     "metadata": {},
     "output_type": "execute_result"
    }
   ],
   "source": [
    "# bim 0.02\n",
    "attack_iterative(sess, model_nofusion_strongforhigher, model_baseline, dataset='cifar10', num_classes=10, attack_method='BasicIterativeMethod', eps_=0.02, nb_iter_=10)"
   ]
  },
  {
   "cell_type": "code",
   "execution_count": null,
   "metadata": {},
   "outputs": [
    {
     "name": "stdout",
     "output_type": "stream",
     "text": [
      "WARNING:tensorflow:From /home/mastlab/.conda/envs/tf1-12/lib/python3.6/site-packages/cleverhans/attacks.py:549: calling reduce_mean (from tensorflow.python.ops.math_ops) with keep_dims is deprecated and will be removed in a future version.\n",
      "Instructions for updating:\n",
      "keep_dims is deprecated, use keepdims instead\n"
     ]
    },
    {
     "data": {
      "text/plain": [
       "(0.1277, 0.0501)"
      ]
     },
     "execution_count": 10,
     "metadata": {},
     "output_type": "execute_result"
    }
   ],
   "source": [
    "# mim 0.02\n",
    "attack_iterative(sess, model_nofusion_strongforhigher, model_baseline, dataset='cifar10', num_classes=10, attack_method='MomentumIterativeMethod', eps_=0.02, nb_iter_=10)"
   ]
  },
  {
   "cell_type": "code",
   "execution_count": null,
   "metadata": {},
   "outputs": [
    {
     "data": {
      "text/plain": [
       "(0.1176, 0.0474)"
      ]
     },
     "execution_count": 11,
     "metadata": {},
     "output_type": "execute_result"
    }
   ],
   "source": [
    "# pgd 0.02\n",
    "attack_iterative(sess, model_nofusion_strongforhigher, model_baseline, dataset='cifar10', num_classes=10, attack_method='MadryEtAl', eps_=0.02, nb_iter_=10)"
   ]
  },
  {
   "cell_type": "code",
   "execution_count": 6,
   "metadata": {},
   "outputs": [
    {
     "name": "stderr",
     "output_type": "stream",
     "text": [
      "/home/mastlab/.conda/envs/tf1-12/lib/python3.6/site-packages/cleverhans/attacks_tf.py:389: UserWarning: jsma_batch is deprecated and will be removed on 2018-06-10. Use jsma_symbolic instead.\n",
      "  warnings.warn(\"jsma_batch is deprecated and will be removed on \"\n"
     ]
    },
    {
     "data": {
      "text/plain": [
       "(0.89, 0.39)"
      ]
     },
     "execution_count": 6,
     "metadata": {},
     "output_type": "execute_result"
    }
   ],
   "source": [
    "# jsma confidence 0.05 theta 0.1\n",
    "# start_time = time.time()\n",
    "attack_jsma(sess, False, model_nofusion_strongforhigher, dataset='cifar10', num_classes=10, attack_method='JSMA', theta_=0.1, gamma_=0.05)\n",
    "# print(time.time()-start_time)"
   ]
  },
  {
   "cell_type": "code",
   "execution_count": null,
   "metadata": {},
   "outputs": [
    {
     "data": {
      "text/plain": [
       "(0.878, 0.212)"
      ]
     },
     "execution_count": 12,
     "metadata": {},
     "output_type": "execute_result"
    }
   ],
   "source": [
    "# cw2 0.1\n",
    "attack_optimization(sess, False, model_nofusion_strongforhigher, dataset='cifar10', num_classes=10, attack_method='CarliniWagnerL2')"
   ]
  },
  {
   "cell_type": "code",
   "execution_count": 7,
   "metadata": {},
   "outputs": [
    {
     "name": "stdout",
     "output_type": "stream",
     "text": [
      "WARNING:tensorflow:From /home/mastlab/.conda/envs/tf1-12/lib/python3.6/site-packages/cleverhans/attacks.py:216: calling reduce_max (from tensorflow.python.ops.math_ops) with keep_dims is deprecated and will be removed in a future version.\n",
      "Instructions for updating:\n",
      "keep_dims is deprecated, use keepdims instead\n"
     ]
    },
    {
     "data": {
      "text/plain": [
       "(0.878, 0.332)"
      ]
     },
     "execution_count": 7,
     "metadata": {},
     "output_type": "execute_result"
    }
   ],
   "source": [
    "# EAM 5\n",
    "attack_optimization(sess, False, model_nofusion_strongforhigher, dataset='cifar10', num_classes=10, attack_method='ElasticNetMethod')"
   ]
  },
  {
   "cell_type": "code",
   "execution_count": null,
   "metadata": {},
   "outputs": [],
   "source": []
  }
 ],
 "metadata": {
  "kernelspec": {
   "display_name": "Python 3",
   "language": "python",
   "name": "python3"
  },
  "language_info": {
   "codemirror_mode": {
    "name": "ipython",
    "version": 3
   },
   "file_extension": ".py",
   "mimetype": "text/x-python",
   "name": "python",
   "nbconvert_exporter": "python",
   "pygments_lexer": "ipython3",
   "version": "3.6.8"
  }
 },
 "nbformat": 4,
 "nbformat_minor": 2
}
