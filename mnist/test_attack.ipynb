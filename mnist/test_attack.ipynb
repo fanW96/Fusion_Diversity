{
 "cells": [
  {
   "cell_type": "code",
   "execution_count": 1,
   "metadata": {},
   "outputs": [
    {
     "name": "stderr",
     "output_type": "stream",
     "text": [
      "Using TensorFlow backend.\n"
     ]
    }
   ],
   "source": [
    "import tensorflow as tf\n",
    "import keras as keras\n",
    "import keras.backend as K\n",
    "from resnet_keras_feature_fusion_v12 import ResNet_v12\n",
    "from resnet_keras_feature_fusion_v11 import ResNet_v11\n",
    "from resnet_keras_feature_fusion_v5 import ResNet_v5\n",
    "from resnet_keras_feature_fusion_v4 import ResNet_v4\n",
    "from resnet_keras_feature_fusion_v3 import ResNet_v3\n",
    "from resnet_keras_feature_fusion_v2 import ResNet_v2\n",
    "from resnet_keras import ResNet\n",
    "from test_cifar_iterative import attack_iterative\n",
    "from test_cifar_jsma import attack_jsma\n",
    "from test_cifar_optimization import attack_optimization\n",
    "import mnist\n",
    "import time"
   ]
  },
  {
   "cell_type": "code",
   "execution_count": 2,
   "metadata": {},
   "outputs": [],
   "source": [
    "x_train, y_train, x_test, y_test = mnist.get_data()"
   ]
  },
  {
   "cell_type": "code",
   "execution_count": 3,
   "metadata": {},
   "outputs": [],
   "source": [
    "# sess = tf.Session()\n",
    "# for jsma\n",
    "sess = tf.Session(config=tf.ConfigProto(allow_soft_placement=True))\n",
    "K.set_session(sess)"
   ]
  },
  {
   "cell_type": "markdown",
   "metadata": {},
   "source": [
    "# baseline"
   ]
  },
  {
   "cell_type": "code",
   "execution_count": 4,
   "metadata": {},
   "outputs": [],
   "source": [
    "model_baseline = keras.models.load_model('models/resnet_32_baseline_best.h5')"
   ]
  },
  {
   "cell_type": "code",
   "execution_count": 5,
   "metadata": {
    "scrolled": true
   },
   "outputs": [
    {
     "name": "stdout",
     "output_type": "stream",
     "text": [
      "WARNING:tensorflow:From /home/mastlab/.conda/envs/tf1-12/lib/python3.6/site-packages/cleverhans/attacks.py:216: calling reduce_max (from tensorflow.python.ops.math_ops) with keep_dims is deprecated and will be removed in a future version.\n",
      "Instructions for updating:\n",
      "keep_dims is deprecated, use keepdims instead\n",
      "WARNING:tensorflow:From /home/mastlab/.conda/envs/tf1-12/lib/python3.6/site-packages/cleverhans/attacks_tf.py:62: calling reduce_sum (from tensorflow.python.ops.math_ops) with keep_dims is deprecated and will be removed in a future version.\n",
      "Instructions for updating:\n",
      "keep_dims is deprecated, use keepdims instead\n",
      "WARNING:tensorflow:From /home/mastlab/.conda/envs/tf1-12/lib/python3.6/site-packages/cleverhans/utils_tf.py:37: softmax_cross_entropy_with_logits (from tensorflow.python.ops.nn_ops) is deprecated and will be removed in a future version.\n",
      "Instructions for updating:\n",
      "\n",
      "Future major versions of TensorFlow will allow gradients to flow\n",
      "into the labels input on backprop by default.\n",
      "\n",
      "See `tf.nn.softmax_cross_entropy_with_logits_v2`.\n",
      "\n"
     ]
    },
    {
     "data": {
      "text/plain": [
       "0.4969"
      ]
     },
     "execution_count": 5,
     "metadata": {},
     "output_type": "execute_result"
    }
   ],
   "source": [
    "# fgsm 0.02\n",
    "attack_iterative(sess, model_baseline, dataset='mnist', num_classes=10, attack_method='FastGradientMethod', eps_=0.1, nb_iter_=10)"
   ]
  },
  {
   "cell_type": "code",
   "execution_count": 6,
   "metadata": {
    "scrolled": true
   },
   "outputs": [
    {
     "data": {
      "text/plain": [
       "0.1321"
      ]
     },
     "execution_count": 6,
     "metadata": {},
     "output_type": "execute_result"
    }
   ],
   "source": [
    "# fgsm 0.02\n",
    "attack_iterative(sess, model_baseline, dataset='mnist', num_classes=10, attack_method='FastGradientMethod', eps_=0.2, nb_iter_=10)"
   ]
  },
  {
   "cell_type": "code",
   "execution_count": 7,
   "metadata": {},
   "outputs": [
    {
     "data": {
      "text/plain": [
       "0.0542"
      ]
     },
     "execution_count": 7,
     "metadata": {},
     "output_type": "execute_result"
    }
   ],
   "source": [
    "# fgsm 0.04\n",
    "attack_iterative(sess, model_baseline, dataset='mnist', num_classes=10, attack_method='FastGradientMethod', eps_=0.3, nb_iter_=10)"
   ]
  },
  {
   "cell_type": "code",
   "execution_count": 8,
   "metadata": {
    "scrolled": true
   },
   "outputs": [
    {
     "data": {
      "text/plain": [
       "0.914"
      ]
     },
     "execution_count": 8,
     "metadata": {},
     "output_type": "execute_result"
    }
   ],
   "source": [
    "# bim 0.02\n",
    "attack_iterative(sess, model_baseline, dataset='mnist', num_classes=10, attack_method='BasicIterativeMethod', eps_=0.05, nb_iter_=10)"
   ]
  },
  {
   "cell_type": "code",
   "execution_count": 9,
   "metadata": {
    "scrolled": true
   },
   "outputs": [
    {
     "data": {
      "text/plain": [
       "0.2199"
      ]
     },
     "execution_count": 9,
     "metadata": {},
     "output_type": "execute_result"
    }
   ],
   "source": [
    "# bim 0.02\n",
    "attack_iterative(sess, model_baseline, dataset='mnist', num_classes=10, attack_method='BasicIterativeMethod', eps_=0.1, nb_iter_=10)"
   ]
  },
  {
   "cell_type": "code",
   "execution_count": 10,
   "metadata": {
    "scrolled": true
   },
   "outputs": [
    {
     "data": {
      "text/plain": [
       "0.0128"
      ]
     },
     "execution_count": 10,
     "metadata": {},
     "output_type": "execute_result"
    }
   ],
   "source": [
    "# bim 0.02\n",
    "attack_iterative(sess, model_baseline, dataset='mnist', num_classes=10, attack_method='BasicIterativeMethod', eps_=0.15, nb_iter_=10)"
   ]
  },
  {
   "cell_type": "code",
   "execution_count": 5,
   "metadata": {},
   "outputs": [
    {
     "name": "stdout",
     "output_type": "stream",
     "text": [
      "WARNING:tensorflow:From /home/mastlab/.conda/envs/tf1-12/lib/python3.6/site-packages/cleverhans/attacks.py:216: calling reduce_max (from tensorflow.python.ops.math_ops) with keep_dims is deprecated and will be removed in a future version.\n",
      "Instructions for updating:\n",
      "keep_dims is deprecated, use keepdims instead\n",
      "WARNING:tensorflow:From /home/mastlab/.conda/envs/tf1-12/lib/python3.6/site-packages/cleverhans/attacks.py:529: calling reduce_sum (from tensorflow.python.ops.math_ops) with keep_dims is deprecated and will be removed in a future version.\n",
      "Instructions for updating:\n",
      "keep_dims is deprecated, use keepdims instead\n",
      "WARNING:tensorflow:From /home/mastlab/.conda/envs/tf1-12/lib/python3.6/site-packages/cleverhans/utils_tf.py:37: softmax_cross_entropy_with_logits (from tensorflow.python.ops.nn_ops) is deprecated and will be removed in a future version.\n",
      "Instructions for updating:\n",
      "\n",
      "Future major versions of TensorFlow will allow gradients to flow\n",
      "into the labels input on backprop by default.\n",
      "\n",
      "See `tf.nn.softmax_cross_entropy_with_logits_v2`.\n",
      "\n",
      "WARNING:tensorflow:From /home/mastlab/.conda/envs/tf1-12/lib/python3.6/site-packages/cleverhans/attacks.py:549: calling reduce_mean (from tensorflow.python.ops.math_ops) with keep_dims is deprecated and will be removed in a future version.\n",
      "Instructions for updating:\n",
      "keep_dims is deprecated, use keepdims instead\n"
     ]
    },
    {
     "data": {
      "text/plain": [
       "0.9246"
      ]
     },
     "execution_count": 5,
     "metadata": {},
     "output_type": "execute_result"
    }
   ],
   "source": [
    "# mim 0.02\n",
    "attack_iterative(sess, model_baseline, dataset='mnist', num_classes=10, attack_method='MomentumIterativeMethod', eps_=0.05, nb_iter_=10)"
   ]
  },
  {
   "cell_type": "code",
   "execution_count": 6,
   "metadata": {},
   "outputs": [
    {
     "data": {
      "text/plain": [
       "0.3284"
      ]
     },
     "execution_count": 6,
     "metadata": {},
     "output_type": "execute_result"
    }
   ],
   "source": [
    "# mim 0.02\n",
    "attack_iterative(sess, model_baseline, dataset='mnist', num_classes=10, attack_method='MomentumIterativeMethod', eps_=0.1, nb_iter_=10)"
   ]
  },
  {
   "cell_type": "code",
   "execution_count": 7,
   "metadata": {},
   "outputs": [
    {
     "data": {
      "text/plain": [
       "0.043"
      ]
     },
     "execution_count": 7,
     "metadata": {},
     "output_type": "execute_result"
    }
   ],
   "source": [
    "# mim 0.02\n",
    "attack_iterative(sess, model_baseline, dataset='mnist', num_classes=10, attack_method='MomentumIterativeMethod', eps_=0.15, nb_iter_=10)"
   ]
  },
  {
   "cell_type": "code",
   "execution_count": 8,
   "metadata": {},
   "outputs": [
    {
     "data": {
      "text/plain": [
       "0.9174"
      ]
     },
     "execution_count": 8,
     "metadata": {},
     "output_type": "execute_result"
    }
   ],
   "source": [
    "# pgd 0.02\n",
    "attack_iterative(sess, model_baseline, dataset='mnist', num_classes=10, attack_method='MadryEtAl', eps_=0.05, nb_iter_=10)"
   ]
  },
  {
   "cell_type": "code",
   "execution_count": 9,
   "metadata": {},
   "outputs": [
    {
     "data": {
      "text/plain": [
       "0.0731"
      ]
     },
     "execution_count": 9,
     "metadata": {},
     "output_type": "execute_result"
    }
   ],
   "source": [
    "# pgd 0.02\n",
    "attack_iterative(sess, model_baseline, dataset='mnist', num_classes=10, attack_method='MadryEtAl', eps_=0.1, nb_iter_=10)"
   ]
  },
  {
   "cell_type": "code",
   "execution_count": 10,
   "metadata": {},
   "outputs": [
    {
     "data": {
      "text/plain": [
       "0.0015"
      ]
     },
     "execution_count": 10,
     "metadata": {},
     "output_type": "execute_result"
    }
   ],
   "source": [
    "# pgd 0.02\n",
    "attack_iterative(sess, model_baseline, dataset='mnist', num_classes=10, attack_method='MadryEtAl', eps_=0.15, nb_iter_=10)"
   ]
  },
  {
   "cell_type": "code",
   "execution_count": 5,
   "metadata": {
    "scrolled": false
   },
   "outputs": [
    {
     "name": "stdout",
     "output_type": "stream",
     "text": [
      "num_samples: 500\n"
     ]
    },
    {
     "name": "stderr",
     "output_type": "stream",
     "text": [
      "/home/mastlab/.conda/envs/tf1-12/lib/python3.6/site-packages/cleverhans/attacks_tf.py:389: UserWarning: jsma_batch is deprecated and will be removed on 2018-06-10. Use jsma_symbolic instead.\n",
      "  warnings.warn(\"jsma_batch is deprecated and will be removed on \"\n"
     ]
    },
    {
     "name": "stdout",
     "output_type": "stream",
     "text": [
      "1296.2612898349762\n"
     ]
    },
    {
     "data": {
      "text/plain": [
       "(0.996, 0.714)"
      ]
     },
     "execution_count": 5,
     "metadata": {},
     "output_type": "execute_result"
    }
   ],
   "source": [
    "# jsma confidence 0.05 theta 0.1\n",
    "# start_time = time.time()\n",
    "attack_jsma(sess, False, model_baseline, dataset='mnist', num_classes=10, attack_method='JSMA', theta_=0.2, gamma_=0.1)\n",
    "# print(time.time()-start_time)"
   ]
  },
  {
   "cell_type": "code",
   "execution_count": 6,
   "metadata": {
    "scrolled": false
   },
   "outputs": [
    {
     "name": "stdout",
     "output_type": "stream",
     "text": [
      "num_samples: 500\n",
      "2013.1934521198273\n"
     ]
    },
    {
     "data": {
      "text/plain": [
       "(0.996, 0.306)"
      ]
     },
     "execution_count": 6,
     "metadata": {},
     "output_type": "execute_result"
    }
   ],
   "source": [
    "# jsma confidence 0.05 theta 0.1\n",
    "# start_time = time.time()\n",
    "attack_jsma(sess, False, model_baseline, dataset='mnist', num_classes=10, attack_method='JSMA', theta_=0.2, gamma_=0.2)\n",
    "# print(time.time()-start_time)"
   ]
  },
  {
   "cell_type": "code",
   "execution_count": 7,
   "metadata": {
    "scrolled": false
   },
   "outputs": [
    {
     "name": "stdout",
     "output_type": "stream",
     "text": [
      "num_samples: 500\n",
      "2843.386331319809\n"
     ]
    },
    {
     "data": {
      "text/plain": [
       "(0.996, 0.156)"
      ]
     },
     "execution_count": 7,
     "metadata": {},
     "output_type": "execute_result"
    }
   ],
   "source": [
    "# jsma confidence 0.05 theta 0.1\n",
    "# start_time = time.time()\n",
    "attack_jsma(sess, False, model_baseline, dataset='mnist', num_classes=10, attack_method='JSMA', theta_=0.2, gamma_=0.4)\n",
    "# print(time.time()-start_time)"
   ]
  },
  {
   "cell_type": "code",
   "execution_count": 5,
   "metadata": {},
   "outputs": [
    {
     "name": "stdout",
     "output_type": "stream",
     "text": [
      "WARNING:tensorflow:From /home/mastlab/.conda/envs/tf1-12/lib/python3.6/site-packages/cleverhans/attacks.py:216: calling reduce_max (from tensorflow.python.ops.math_ops) with keep_dims is deprecated and will be removed in a future version.\n",
      "Instructions for updating:\n",
      "keep_dims is deprecated, use keepdims instead\n"
     ]
    },
    {
     "data": {
      "text/plain": [
       "(0.9945, 0.609)"
      ]
     },
     "execution_count": 5,
     "metadata": {},
     "output_type": "execute_result"
    }
   ],
   "source": [
    "# cw2 0.01\n",
    "attack_optimization(sess, False, model_baseline, dataset='mnist', num_classes=10, attack_method='CarliniWagnerL2', iconst=0.1)"
   ]
  },
  {
   "cell_type": "code",
   "execution_count": 6,
   "metadata": {},
   "outputs": [
    {
     "data": {
      "text/plain": [
       "(0.9945, 0.0055)"
      ]
     },
     "execution_count": 6,
     "metadata": {},
     "output_type": "execute_result"
    }
   ],
   "source": [
    "# cw2 0.01\n",
    "attack_optimization(sess, False, model_baseline, dataset='mnist', num_classes=10, attack_method='CarliniWagnerL2', iconst=1)"
   ]
  },
  {
   "cell_type": "code",
   "execution_count": 7,
   "metadata": {},
   "outputs": [
    {
     "data": {
      "text/plain": [
       "(0.9945, 0.0055)"
      ]
     },
     "execution_count": 7,
     "metadata": {},
     "output_type": "execute_result"
    }
   ],
   "source": [
    "# cw2 0.01\n",
    "attack_optimization(sess, False, model_baseline, dataset='mnist', num_classes=10, attack_method='CarliniWagnerL2', iconst=5)"
   ]
  },
  {
   "cell_type": "code",
   "execution_count": 8,
   "metadata": {},
   "outputs": [
    {
     "data": {
      "text/plain": [
       "(0.9945, 0.771)"
      ]
     },
     "execution_count": 8,
     "metadata": {},
     "output_type": "execute_result"
    }
   ],
   "source": [
    "# EAM 1\n",
    "attack_optimization(sess, False, model_baseline, dataset='mnist', num_classes=10, attack_method='ElasticNetMethod', iconst=1)"
   ]
  },
  {
   "cell_type": "code",
   "execution_count": 9,
   "metadata": {},
   "outputs": [
    {
     "data": {
      "text/plain": [
       "(0.9945, 0.0065)"
      ]
     },
     "execution_count": 9,
     "metadata": {},
     "output_type": "execute_result"
    }
   ],
   "source": [
    "# EAM 1\n",
    "attack_optimization(sess, False, model_baseline, dataset='mnist', num_classes=10, attack_method='ElasticNetMethod', iconst=5)"
   ]
  },
  {
   "cell_type": "code",
   "execution_count": 10,
   "metadata": {},
   "outputs": [
    {
     "data": {
      "text/plain": [
       "(0.9945, 0.0055)"
      ]
     },
     "execution_count": 10,
     "metadata": {},
     "output_type": "execute_result"
    }
   ],
   "source": [
    "# EAM 1\n",
    "attack_optimization(sess, False, model_baseline, dataset='mnist', num_classes=10, attack_method='ElasticNetMethod', iconst=10)"
   ]
  },
  {
   "cell_type": "markdown",
   "metadata": {},
   "source": [
    "# nofusion_diversity_avg"
   ]
  },
  {
   "cell_type": "code",
   "execution_count": 4,
   "metadata": {},
   "outputs": [],
   "source": [
    "resnet_nofusion = ResNet_v3(x_train=x_train, y_train=y_train, x_val=x_test, y_val=y_test, load_weights=False)\n",
    "resnet_nofusion.construct()\n",
    "model_nofusion = resnet_nofusion._model"
   ]
  },
  {
   "cell_type": "code",
   "execution_count": 5,
   "metadata": {},
   "outputs": [],
   "source": [
    "model_nofusion.load_weights('models/resnet_32_nofusion_diversity_avg_weight_best.h5')"
   ]
  },
  {
   "cell_type": "code",
   "execution_count": 6,
   "metadata": {
    "scrolled": true
   },
   "outputs": [
    {
     "name": "stdout",
     "output_type": "stream",
     "text": [
      "WARNING:tensorflow:From /home/mastlab/.conda/envs/tf1-12/lib/python3.6/site-packages/cleverhans/attacks.py:216: calling reduce_max (from tensorflow.python.ops.math_ops) with keep_dims is deprecated and will be removed in a future version.\n",
      "Instructions for updating:\n",
      "keep_dims is deprecated, use keepdims instead\n",
      "WARNING:tensorflow:From /home/mastlab/.conda/envs/tf1-12/lib/python3.6/site-packages/cleverhans/attacks_tf.py:62: calling reduce_sum (from tensorflow.python.ops.math_ops) with keep_dims is deprecated and will be removed in a future version.\n",
      "Instructions for updating:\n",
      "keep_dims is deprecated, use keepdims instead\n",
      "WARNING:tensorflow:From /home/mastlab/.conda/envs/tf1-12/lib/python3.6/site-packages/cleverhans/utils_tf.py:37: softmax_cross_entropy_with_logits (from tensorflow.python.ops.nn_ops) is deprecated and will be removed in a future version.\n",
      "Instructions for updating:\n",
      "\n",
      "Future major versions of TensorFlow will allow gradients to flow\n",
      "into the labels input on backprop by default.\n",
      "\n",
      "See `tf.nn.softmax_cross_entropy_with_logits_v2`.\n",
      "\n"
     ]
    },
    {
     "data": {
      "text/plain": [
       "0.2611"
      ]
     },
     "execution_count": 6,
     "metadata": {},
     "output_type": "execute_result"
    }
   ],
   "source": [
    "# fgsm 0.01\n",
    "attack_iterative(sess, model_nofusion, dataset='mnist', num_classes=10, attack_method='FastGradientMethod', eps_=0.1, nb_iter_=10)"
   ]
  },
  {
   "cell_type": "code",
   "execution_count": null,
   "metadata": {
    "scrolled": true
   },
   "outputs": [
    {
     "data": {
      "text/plain": [
       "0.1103"
      ]
     },
     "execution_count": 7,
     "metadata": {},
     "output_type": "execute_result"
    }
   ],
   "source": [
    "# fgsm 0.01\n",
    "attack_iterative(sess, model_nofusion, dataset='mnist', num_classes=10, attack_method='FastGradientMethod', eps_=0.2, nb_iter_=10)"
   ]
  },
  {
   "cell_type": "code",
   "execution_count": null,
   "metadata": {},
   "outputs": [],
   "source": [
    "# fgsm 0.04\n",
    "attack_iterative(sess, model_nofusion, dataset='mnist', num_classes=10, attack_method='FastGradientMethod', eps_=0.3, nb_iter_=10)"
   ]
  },
  {
   "cell_type": "code",
   "execution_count": null,
   "metadata": {},
   "outputs": [],
   "source": [
    "# bim 0.02\n",
    "attack_iterative(sess, model_nofusion, dataset='mnist', num_classes=10, attack_method='BasicIterativeMethod', eps_=0.05, nb_iter_=10)"
   ]
  },
  {
   "cell_type": "code",
   "execution_count": null,
   "metadata": {},
   "outputs": [],
   "source": [
    "# bim 0.02\n",
    "attack_iterative(sess, model_nofusion, dataset='mnist', num_classes=10, attack_method='BasicIterativeMethod', eps_=0.1, nb_iter_=10)"
   ]
  },
  {
   "cell_type": "code",
   "execution_count": null,
   "metadata": {},
   "outputs": [],
   "source": [
    "# bim 0.02\n",
    "attack_iterative(sess, model_nofusion, dataset='mnist', num_classes=10, attack_method='BasicIterativeMethod', eps_=0.15, nb_iter_=10)"
   ]
  },
  {
   "cell_type": "code",
   "execution_count": 6,
   "metadata": {},
   "outputs": [
    {
     "name": "stdout",
     "output_type": "stream",
     "text": [
      "WARNING:tensorflow:From /home/mastlab/.conda/envs/tf1-12/lib/python3.6/site-packages/cleverhans/attacks.py:216: calling reduce_max (from tensorflow.python.ops.math_ops) with keep_dims is deprecated and will be removed in a future version.\n",
      "Instructions for updating:\n",
      "keep_dims is deprecated, use keepdims instead\n",
      "WARNING:tensorflow:From /home/mastlab/.conda/envs/tf1-12/lib/python3.6/site-packages/cleverhans/attacks.py:529: calling reduce_sum (from tensorflow.python.ops.math_ops) with keep_dims is deprecated and will be removed in a future version.\n",
      "Instructions for updating:\n",
      "keep_dims is deprecated, use keepdims instead\n",
      "WARNING:tensorflow:From /home/mastlab/.conda/envs/tf1-12/lib/python3.6/site-packages/cleverhans/utils_tf.py:37: softmax_cross_entropy_with_logits (from tensorflow.python.ops.nn_ops) is deprecated and will be removed in a future version.\n",
      "Instructions for updating:\n",
      "\n",
      "Future major versions of TensorFlow will allow gradients to flow\n",
      "into the labels input on backprop by default.\n",
      "\n",
      "See `tf.nn.softmax_cross_entropy_with_logits_v2`.\n",
      "\n",
      "WARNING:tensorflow:From /home/mastlab/.conda/envs/tf1-12/lib/python3.6/site-packages/cleverhans/attacks.py:549: calling reduce_mean (from tensorflow.python.ops.math_ops) with keep_dims is deprecated and will be removed in a future version.\n",
      "Instructions for updating:\n",
      "keep_dims is deprecated, use keepdims instead\n"
     ]
    },
    {
     "data": {
      "text/plain": [
       "0.8441"
      ]
     },
     "execution_count": 6,
     "metadata": {},
     "output_type": "execute_result"
    }
   ],
   "source": [
    "# mim 0.02\n",
    "attack_iterative(sess, model_nofusion, dataset='mnist', num_classes=10, attack_method='MomentumIterativeMethod', eps_=0.05, nb_iter_=10)"
   ]
  },
  {
   "cell_type": "code",
   "execution_count": 7,
   "metadata": {},
   "outputs": [
    {
     "data": {
      "text/plain": [
       "0.1768"
      ]
     },
     "execution_count": 7,
     "metadata": {},
     "output_type": "execute_result"
    }
   ],
   "source": [
    "# mim 0.02\n",
    "attack_iterative(sess, model_nofusion, dataset='mnist', num_classes=10, attack_method='MomentumIterativeMethod', eps_=0.1, nb_iter_=10)"
   ]
  },
  {
   "cell_type": "code",
   "execution_count": 8,
   "metadata": {},
   "outputs": [
    {
     "data": {
      "text/plain": [
       "0.0941"
      ]
     },
     "execution_count": 8,
     "metadata": {},
     "output_type": "execute_result"
    }
   ],
   "source": [
    "# mim 0.02\n",
    "attack_iterative(sess, model_nofusion, dataset='mnist', num_classes=10, attack_method='MomentumIterativeMethod', eps_=0.15, nb_iter_=10)"
   ]
  },
  {
   "cell_type": "code",
   "execution_count": 9,
   "metadata": {},
   "outputs": [
    {
     "data": {
      "text/plain": [
       "0.6902"
      ]
     },
     "execution_count": 9,
     "metadata": {},
     "output_type": "execute_result"
    }
   ],
   "source": [
    "# pgd 0.02\n",
    "attack_iterative(sess, model_nofusion, dataset='mnist', num_classes=10, attack_method='MadryEtAl', eps_=0.05, nb_iter_=10)"
   ]
  },
  {
   "cell_type": "code",
   "execution_count": 10,
   "metadata": {},
   "outputs": [
    {
     "data": {
      "text/plain": [
       "0.0717"
      ]
     },
     "execution_count": 10,
     "metadata": {},
     "output_type": "execute_result"
    }
   ],
   "source": [
    "# pgd 0.02\n",
    "attack_iterative(sess, model_nofusion, dataset='mnist', num_classes=10, attack_method='MadryEtAl', eps_=0.1, nb_iter_=10)"
   ]
  },
  {
   "cell_type": "code",
   "execution_count": 11,
   "metadata": {},
   "outputs": [
    {
     "data": {
      "text/plain": [
       "0.0182"
      ]
     },
     "execution_count": 11,
     "metadata": {},
     "output_type": "execute_result"
    }
   ],
   "source": [
    "# pgd 0.02\n",
    "attack_iterative(sess, model_nofusion, dataset='mnist', num_classes=10, attack_method='MadryEtAl', eps_=0.15, nb_iter_=10)"
   ]
  },
  {
   "cell_type": "code",
   "execution_count": 6,
   "metadata": {},
   "outputs": [
    {
     "name": "stdout",
     "output_type": "stream",
     "text": [
      "num_samples: 500\n"
     ]
    },
    {
     "name": "stderr",
     "output_type": "stream",
     "text": [
      "/home/mastlab/.conda/envs/tf1-12/lib/python3.6/site-packages/cleverhans/attacks_tf.py:389: UserWarning: jsma_batch is deprecated and will be removed on 2018-06-10. Use jsma_symbolic instead.\n",
      "  warnings.warn(\"jsma_batch is deprecated and will be removed on \"\n"
     ]
    },
    {
     "name": "stdout",
     "output_type": "stream",
     "text": [
      "1404.7446401119232\n"
     ]
    },
    {
     "data": {
      "text/plain": [
       "(0.996, 0.542)"
      ]
     },
     "execution_count": 6,
     "metadata": {},
     "output_type": "execute_result"
    }
   ],
   "source": [
    "# jsma confidence 0.05 theta 0.\n",
    "# start_time = time.time()\n",
    "attack_jsma(sess, False, model_nofusion, dataset='mnist', num_classes=10, attack_method='JSMA', theta_=0.2, gamma_=0.1)\n",
    "# print(time.time()-start_time)"
   ]
  },
  {
   "cell_type": "code",
   "execution_count": 7,
   "metadata": {},
   "outputs": [
    {
     "name": "stdout",
     "output_type": "stream",
     "text": [
      "num_samples: 500\n",
      "2285.657122850418\n"
     ]
    },
    {
     "data": {
      "text/plain": [
       "(0.996, 0.324)"
      ]
     },
     "execution_count": 7,
     "metadata": {},
     "output_type": "execute_result"
    }
   ],
   "source": [
    "# jsma confidence 0.05 theta 0.\n",
    "# start_time = time.time()\n",
    "attack_jsma(sess, False, model_nofusion, dataset='mnist', num_classes=10, attack_method='JSMA', theta_=0.2, gamma_=0.2)\n",
    "# print(time.time()-start_time)"
   ]
  },
  {
   "cell_type": "code",
   "execution_count": 8,
   "metadata": {},
   "outputs": [
    {
     "name": "stdout",
     "output_type": "stream",
     "text": [
      "num_samples: 500\n",
      "3709.9095001220703\n"
     ]
    },
    {
     "data": {
      "text/plain": [
       "(0.996, 0.162)"
      ]
     },
     "execution_count": 8,
     "metadata": {},
     "output_type": "execute_result"
    }
   ],
   "source": [
    "# jsma confidence 0.05 theta 0.\n",
    "# start_time = time.time()\n",
    "attack_jsma(sess, False, model_nofusion, dataset='mnist', num_classes=10, attack_method='JSMA', theta_=0.2, gamma_=0.4)\n",
    "# print(time.time()-start_time)"
   ]
  },
  {
   "cell_type": "code",
   "execution_count": 6,
   "metadata": {},
   "outputs": [
    {
     "name": "stdout",
     "output_type": "stream",
     "text": [
      "WARNING:tensorflow:From /home/mastlab/.conda/envs/tf1-12/lib/python3.6/site-packages/cleverhans/attacks.py:216: calling reduce_max (from tensorflow.python.ops.math_ops) with keep_dims is deprecated and will be removed in a future version.\n",
      "Instructions for updating:\n",
      "keep_dims is deprecated, use keepdims instead\n"
     ]
    },
    {
     "data": {
      "text/plain": [
       "(0.9945, 0.931)"
      ]
     },
     "execution_count": 6,
     "metadata": {},
     "output_type": "execute_result"
    }
   ],
   "source": [
    "# cw2 \n",
    "attack_optimization(sess, False, model_nofusion, dataset='mnist', num_classes=10, attack_method='CarliniWagnerL2', iconst=0.1)"
   ]
  },
  {
   "cell_type": "code",
   "execution_count": 7,
   "metadata": {},
   "outputs": [
    {
     "data": {
      "text/plain": [
       "(0.9945, 0.3005)"
      ]
     },
     "execution_count": 7,
     "metadata": {},
     "output_type": "execute_result"
    }
   ],
   "source": [
    "# cw2 \n",
    "attack_optimization(sess, False, model_nofusion, dataset='mnist', num_classes=10, attack_method='CarliniWagnerL2', iconst=1)"
   ]
  },
  {
   "cell_type": "code",
   "execution_count": 8,
   "metadata": {},
   "outputs": [
    {
     "data": {
      "text/plain": [
       "(0.9945, 0.0325)"
      ]
     },
     "execution_count": 8,
     "metadata": {},
     "output_type": "execute_result"
    }
   ],
   "source": [
    "# cw2 \n",
    "attack_optimization(sess, False, model_nofusion, dataset='mnist', num_classes=10, attack_method='CarliniWagnerL2', iconst=5)"
   ]
  },
  {
   "cell_type": "code",
   "execution_count": 9,
   "metadata": {},
   "outputs": [
    {
     "name": "stderr",
     "output_type": "stream",
     "text": [
      "/home/mastlab/.conda/envs/tf1-12/lib/python3.6/site-packages/numpy/core/fromnumeric.py:3118: RuntimeWarning: Mean of empty slice.\n",
      "  out=out, **kwargs)\n",
      "/home/mastlab/.conda/envs/tf1-12/lib/python3.6/site-packages/numpy/core/_methods.py:85: RuntimeWarning: invalid value encountered in double_scalars\n",
      "  ret = ret.dtype.type(ret / rcount)\n"
     ]
    },
    {
     "data": {
      "text/plain": [
       "(0.9945, 0.983)"
      ]
     },
     "execution_count": 9,
     "metadata": {},
     "output_type": "execute_result"
    }
   ],
   "source": [
    "# EAM\n",
    "attack_optimization(sess, False, model_nofusion, dataset='mnist', num_classes=10, attack_method='ElasticNetMethod', iconst=1)"
   ]
  },
  {
   "cell_type": "code",
   "execution_count": 10,
   "metadata": {},
   "outputs": [
    {
     "data": {
      "text/plain": [
       "(0.9945, 0.6935)"
      ]
     },
     "execution_count": 10,
     "metadata": {},
     "output_type": "execute_result"
    }
   ],
   "source": [
    "# EAM\n",
    "attack_optimization(sess, False, model_nofusion, dataset='mnist', num_classes=10, attack_method='ElasticNetMethod', iconst=5)"
   ]
  },
  {
   "cell_type": "code",
   "execution_count": 11,
   "metadata": {},
   "outputs": [
    {
     "data": {
      "text/plain": [
       "(0.9945, 0.3655)"
      ]
     },
     "execution_count": 11,
     "metadata": {},
     "output_type": "execute_result"
    }
   ],
   "source": [
    "# EAM\n",
    "attack_optimization(sess, False, model_nofusion, dataset='mnist', num_classes=10, attack_method='ElasticNetMethod', iconst=10)"
   ]
  },
  {
   "cell_type": "markdown",
   "metadata": {},
   "source": [
    "# fusion_nodiversity_avg"
   ]
  },
  {
   "cell_type": "code",
   "execution_count": 4,
   "metadata": {},
   "outputs": [],
   "source": [
    "resnet_fusion_nodiversity = ResNet_v5(x_train=x_train, y_train=y_train, x_val=x_test, y_val=y_test, load_weights=False)\n",
    "resnet_fusion_nodiversity.construct()\n",
    "model_fusion_nodiversity = resnet_fusion_nodiversity._model"
   ]
  },
  {
   "cell_type": "code",
   "execution_count": 5,
   "metadata": {},
   "outputs": [],
   "source": [
    "model_fusion_nodiversity.load_weights('models/resnet_32_fusion_nodiversity_avg_weight_best.h5')"
   ]
  },
  {
   "cell_type": "code",
   "execution_count": 6,
   "metadata": {
    "scrolled": true
   },
   "outputs": [
    {
     "name": "stdout",
     "output_type": "stream",
     "text": [
      "WARNING:tensorflow:From /home/mastlab/.conda/envs/tf1-12/lib/python3.6/site-packages/cleverhans/attacks.py:216: calling reduce_max (from tensorflow.python.ops.math_ops) with keep_dims is deprecated and will be removed in a future version.\n",
      "Instructions for updating:\n",
      "keep_dims is deprecated, use keepdims instead\n",
      "WARNING:tensorflow:From /home/mastlab/.conda/envs/tf1-12/lib/python3.6/site-packages/cleverhans/attacks_tf.py:62: calling reduce_sum (from tensorflow.python.ops.math_ops) with keep_dims is deprecated and will be removed in a future version.\n",
      "Instructions for updating:\n",
      "keep_dims is deprecated, use keepdims instead\n",
      "WARNING:tensorflow:From /home/mastlab/.conda/envs/tf1-12/lib/python3.6/site-packages/cleverhans/utils_tf.py:37: softmax_cross_entropy_with_logits (from tensorflow.python.ops.nn_ops) is deprecated and will be removed in a future version.\n",
      "Instructions for updating:\n",
      "\n",
      "Future major versions of TensorFlow will allow gradients to flow\n",
      "into the labels input on backprop by default.\n",
      "\n",
      "See `tf.nn.softmax_cross_entropy_with_logits_v2`.\n",
      "\n"
     ]
    },
    {
     "data": {
      "text/plain": [
       "0.7161"
      ]
     },
     "execution_count": 6,
     "metadata": {},
     "output_type": "execute_result"
    }
   ],
   "source": [
    "# fgsm 0.02\n",
    "attack_iterative(sess, model_fusion_nodiversity, dataset='mnist', num_classes=10, attack_method='FastGradientMethod', eps_=0.1, nb_iter_=10)"
   ]
  },
  {
   "cell_type": "code",
   "execution_count": 7,
   "metadata": {},
   "outputs": [
    {
     "data": {
      "text/plain": [
       "0.2068"
      ]
     },
     "execution_count": 7,
     "metadata": {},
     "output_type": "execute_result"
    }
   ],
   "source": [
    "# fgsm 0.04\n",
    "attack_iterative(sess, model_fusion_nodiversity, dataset='mnist', num_classes=10, attack_method='FastGradientMethod', eps_=0.2, nb_iter_=10)"
   ]
  },
  {
   "cell_type": "code",
   "execution_count": 8,
   "metadata": {},
   "outputs": [
    {
     "data": {
      "text/plain": [
       "0.1165"
      ]
     },
     "execution_count": 8,
     "metadata": {},
     "output_type": "execute_result"
    }
   ],
   "source": [
    "# fgsm 0.04\n",
    "attack_iterative(sess, model_fusion_nodiversity, dataset='mnist', num_classes=10, attack_method='FastGradientMethod', eps_=0.3, nb_iter_=10)"
   ]
  },
  {
   "cell_type": "code",
   "execution_count": 9,
   "metadata": {},
   "outputs": [
    {
     "data": {
      "text/plain": [
       "0.9542"
      ]
     },
     "execution_count": 9,
     "metadata": {},
     "output_type": "execute_result"
    }
   ],
   "source": [
    "# bim 0.02\n",
    "attack_iterative(sess, model_fusion_nodiversity, dataset='mnist', num_classes=10, attack_method='BasicIterativeMethod', eps_=0.05, nb_iter_=10)"
   ]
  },
  {
   "cell_type": "code",
   "execution_count": 10,
   "metadata": {},
   "outputs": [
    {
     "data": {
      "text/plain": [
       "0.546"
      ]
     },
     "execution_count": 10,
     "metadata": {},
     "output_type": "execute_result"
    }
   ],
   "source": [
    "# bim 0.02\n",
    "attack_iterative(sess, model_fusion_nodiversity, dataset='mnist', num_classes=10, attack_method='BasicIterativeMethod', eps_=0.1, nb_iter_=10)"
   ]
  },
  {
   "cell_type": "code",
   "execution_count": 11,
   "metadata": {},
   "outputs": [
    {
     "data": {
      "text/plain": [
       "0.1088"
      ]
     },
     "execution_count": 11,
     "metadata": {},
     "output_type": "execute_result"
    }
   ],
   "source": [
    "# bim 0.02\n",
    "attack_iterative(sess, model_fusion_nodiversity, dataset='mnist', num_classes=10, attack_method='BasicIterativeMethod', eps_=0.15, nb_iter_=10)"
   ]
  },
  {
   "cell_type": "code",
   "execution_count": 6,
   "metadata": {},
   "outputs": [
    {
     "name": "stdout",
     "output_type": "stream",
     "text": [
      "WARNING:tensorflow:From /home/mastlab/.conda/envs/tf1-12/lib/python3.6/site-packages/cleverhans/attacks.py:216: calling reduce_max (from tensorflow.python.ops.math_ops) with keep_dims is deprecated and will be removed in a future version.\n",
      "Instructions for updating:\n",
      "keep_dims is deprecated, use keepdims instead\n",
      "WARNING:tensorflow:From /home/mastlab/.conda/envs/tf1-12/lib/python3.6/site-packages/cleverhans/attacks.py:529: calling reduce_sum (from tensorflow.python.ops.math_ops) with keep_dims is deprecated and will be removed in a future version.\n",
      "Instructions for updating:\n",
      "keep_dims is deprecated, use keepdims instead\n",
      "WARNING:tensorflow:From /home/mastlab/.conda/envs/tf1-12/lib/python3.6/site-packages/cleverhans/utils_tf.py:37: softmax_cross_entropy_with_logits (from tensorflow.python.ops.nn_ops) is deprecated and will be removed in a future version.\n",
      "Instructions for updating:\n",
      "\n",
      "Future major versions of TensorFlow will allow gradients to flow\n",
      "into the labels input on backprop by default.\n",
      "\n",
      "See `tf.nn.softmax_cross_entropy_with_logits_v2`.\n",
      "\n",
      "WARNING:tensorflow:From /home/mastlab/.conda/envs/tf1-12/lib/python3.6/site-packages/cleverhans/attacks.py:549: calling reduce_mean (from tensorflow.python.ops.math_ops) with keep_dims is deprecated and will be removed in a future version.\n",
      "Instructions for updating:\n",
      "keep_dims is deprecated, use keepdims instead\n"
     ]
    },
    {
     "data": {
      "text/plain": [
       "0.957"
      ]
     },
     "execution_count": 6,
     "metadata": {},
     "output_type": "execute_result"
    }
   ],
   "source": [
    "# mim 0.02\n",
    "attack_iterative(sess, model_fusion_nodiversity, dataset='mnist', num_classes=10, attack_method='MomentumIterativeMethod', eps_=0.05, nb_iter_=10)"
   ]
  },
  {
   "cell_type": "code",
   "execution_count": 7,
   "metadata": {},
   "outputs": [
    {
     "data": {
      "text/plain": [
       "0.6283"
      ]
     },
     "execution_count": 7,
     "metadata": {},
     "output_type": "execute_result"
    }
   ],
   "source": [
    "# mim 0.02\n",
    "attack_iterative(sess, model_fusion_nodiversity, dataset='mnist', num_classes=10, attack_method='MomentumIterativeMethod', eps_=0.1, nb_iter_=10)"
   ]
  },
  {
   "cell_type": "code",
   "execution_count": 8,
   "metadata": {},
   "outputs": [
    {
     "data": {
      "text/plain": [
       "0.1784"
      ]
     },
     "execution_count": 8,
     "metadata": {},
     "output_type": "execute_result"
    }
   ],
   "source": [
    "# mim 0.02\n",
    "attack_iterative(sess, model_fusion_nodiversity, dataset='mnist', num_classes=10, attack_method='MomentumIterativeMethod', eps_=0.15, nb_iter_=10)"
   ]
  },
  {
   "cell_type": "code",
   "execution_count": 9,
   "metadata": {},
   "outputs": [
    {
     "data": {
      "text/plain": [
       "0.9631"
      ]
     },
     "execution_count": 9,
     "metadata": {},
     "output_type": "execute_result"
    }
   ],
   "source": [
    "# pgd 0.02\n",
    "attack_iterative(sess, model_fusion_nodiversity, dataset='mnist', num_classes=10, attack_method='MadryEtAl', eps_=0.05, nb_iter_=10)"
   ]
  },
  {
   "cell_type": "code",
   "execution_count": 10,
   "metadata": {},
   "outputs": [
    {
     "data": {
      "text/plain": [
       "0.5102"
      ]
     },
     "execution_count": 10,
     "metadata": {},
     "output_type": "execute_result"
    }
   ],
   "source": [
    "# pgd 0.02\n",
    "attack_iterative(sess, model_fusion_nodiversity, dataset='mnist', num_classes=10, attack_method='MadryEtAl', eps_=0.1, nb_iter_=10)"
   ]
  },
  {
   "cell_type": "code",
   "execution_count": 11,
   "metadata": {},
   "outputs": [
    {
     "data": {
      "text/plain": [
       "0.0804"
      ]
     },
     "execution_count": 11,
     "metadata": {},
     "output_type": "execute_result"
    }
   ],
   "source": [
    "# pgd 0.02\n",
    "attack_iterative(sess, model_fusion_nodiversity, dataset='mnist', num_classes=10, attack_method='MadryEtAl', eps_=0.15, nb_iter_=10)"
   ]
  },
  {
   "cell_type": "code",
   "execution_count": 6,
   "metadata": {},
   "outputs": [
    {
     "name": "stdout",
     "output_type": "stream",
     "text": [
      "num_samples: 500\n"
     ]
    },
    {
     "name": "stderr",
     "output_type": "stream",
     "text": [
      "/home/mastlab/.conda/envs/tf1-12/lib/python3.6/site-packages/cleverhans/attacks_tf.py:389: UserWarning: jsma_batch is deprecated and will be removed on 2018-06-10. Use jsma_symbolic instead.\n",
      "  warnings.warn(\"jsma_batch is deprecated and will be removed on \"\n"
     ]
    },
    {
     "name": "stdout",
     "output_type": "stream",
     "text": [
      "1539.1124680042267\n"
     ]
    },
    {
     "data": {
      "text/plain": [
       "(0.996, 0.782)"
      ]
     },
     "execution_count": 6,
     "metadata": {},
     "output_type": "execute_result"
    }
   ],
   "source": [
    "# jsma confidence 0.05 theta 0.1\n",
    "# start_time = time.time()\n",
    "attack_jsma(sess, False, model_fusion_nodiversity, dataset='mnist', num_classes=10, attack_method='JSMA', theta_=0.2, gamma_=0.1)\n",
    "# print(time.time()-start_time)"
   ]
  },
  {
   "cell_type": "code",
   "execution_count": 7,
   "metadata": {},
   "outputs": [
    {
     "name": "stdout",
     "output_type": "stream",
     "text": [
      "num_samples: 500\n",
      "2815.210370540619\n"
     ]
    },
    {
     "data": {
      "text/plain": [
       "(0.996, 0.524)"
      ]
     },
     "execution_count": 7,
     "metadata": {},
     "output_type": "execute_result"
    }
   ],
   "source": [
    "# jsma confidence 0.05 theta 0.1\n",
    "# start_time = time.time()\n",
    "attack_jsma(sess, False, model_fusion_nodiversity, dataset='mnist', num_classes=10, attack_method='JSMA', theta_=0.2, gamma_=0.2)\n",
    "# print(time.time()-start_time)"
   ]
  },
  {
   "cell_type": "code",
   "execution_count": 8,
   "metadata": {},
   "outputs": [
    {
     "name": "stdout",
     "output_type": "stream",
     "text": [
      "num_samples: 500\n",
      "4680.591130971909\n"
     ]
    },
    {
     "data": {
      "text/plain": [
       "(0.996, 0.348)"
      ]
     },
     "execution_count": 8,
     "metadata": {},
     "output_type": "execute_result"
    }
   ],
   "source": [
    "# jsma confidence 0.05 theta 0.1\n",
    "# start_time = time.time()\n",
    "attack_jsma(sess, False, model_fusion_nodiversity, dataset='mnist', num_classes=10, attack_method='JSMA', theta_=0.2, gamma_=0.4)\n",
    "# print(time.time()-start_time)"
   ]
  },
  {
   "cell_type": "code",
   "execution_count": 6,
   "metadata": {},
   "outputs": [
    {
     "name": "stdout",
     "output_type": "stream",
     "text": [
      "WARNING:tensorflow:From /home/mastlab/.conda/envs/tf1-12/lib/python3.6/site-packages/cleverhans/attacks.py:216: calling reduce_max (from tensorflow.python.ops.math_ops) with keep_dims is deprecated and will be removed in a future version.\n",
      "Instructions for updating:\n",
      "keep_dims is deprecated, use keepdims instead\n"
     ]
    },
    {
     "data": {
      "text/plain": [
       "(0.993, 0.894)"
      ]
     },
     "execution_count": 6,
     "metadata": {},
     "output_type": "execute_result"
    }
   ],
   "source": [
    "# cw2 \n",
    "attack_optimization(sess, False, model_fusion_nodiversity, dataset='mnist', num_classes=10, attack_method='CarliniWagnerL2', iconst=0.1)"
   ]
  },
  {
   "cell_type": "code",
   "execution_count": 7,
   "metadata": {},
   "outputs": [
    {
     "data": {
      "text/plain": [
       "(0.993, 0.028)"
      ]
     },
     "execution_count": 7,
     "metadata": {},
     "output_type": "execute_result"
    }
   ],
   "source": [
    "# cw2 \n",
    "attack_optimization(sess, False, model_fusion_nodiversity, dataset='mnist', num_classes=10, attack_method='CarliniWagnerL2', iconst=1)"
   ]
  },
  {
   "cell_type": "code",
   "execution_count": 8,
   "metadata": {},
   "outputs": [
    {
     "data": {
      "text/plain": [
       "(0.993, 0.008)"
      ]
     },
     "execution_count": 8,
     "metadata": {},
     "output_type": "execute_result"
    }
   ],
   "source": [
    "# cw2 \n",
    "attack_optimization(sess, False, model_fusion_nodiversity, dataset='mnist', num_classes=10, attack_method='CarliniWagnerL2', iconst=5)"
   ]
  },
  {
   "cell_type": "code",
   "execution_count": 9,
   "metadata": {},
   "outputs": [
    {
     "data": {
      "text/plain": [
       "(0.993, 0.8265)"
      ]
     },
     "execution_count": 9,
     "metadata": {},
     "output_type": "execute_result"
    }
   ],
   "source": [
    "# EAM\n",
    "attack_optimization(sess, False, model_fusion_nodiversity, dataset='mnist', num_classes=10, attack_method='ElasticNetMethod', iconst=1)"
   ]
  },
  {
   "cell_type": "code",
   "execution_count": 10,
   "metadata": {},
   "outputs": [
    {
     "data": {
      "text/plain": [
       "(0.993, 0.0645)"
      ]
     },
     "execution_count": 10,
     "metadata": {},
     "output_type": "execute_result"
    }
   ],
   "source": [
    "# EAM\n",
    "attack_optimization(sess, False, model_fusion_nodiversity, dataset='mnist', num_classes=10, attack_method='ElasticNetMethod', iconst=5)"
   ]
  },
  {
   "cell_type": "code",
   "execution_count": 11,
   "metadata": {},
   "outputs": [
    {
     "data": {
      "text/plain": [
       "(0.993, 0.024)"
      ]
     },
     "execution_count": 11,
     "metadata": {},
     "output_type": "execute_result"
    }
   ],
   "source": [
    "# EAM\n",
    "attack_optimization(sess, False, model_fusion_nodiversity, dataset='mnist', num_classes=10, attack_method='ElasticNetMethod', iconst=10)"
   ]
  },
  {
   "cell_type": "markdown",
   "metadata": {},
   "source": [
    "# lessdiv"
   ]
  },
  {
   "cell_type": "code",
   "execution_count": 4,
   "metadata": {},
   "outputs": [],
   "source": [
    "resnet_lessdiv = ResNet_v12(x_train=x_train, y_train=y_train, x_val=x_test, y_val=y_test, load_weights=False)\n",
    "resnet_lessdiv.construct()\n",
    "model_lessdiv = resnet_lessdiv._model"
   ]
  },
  {
   "cell_type": "code",
   "execution_count": 5,
   "metadata": {},
   "outputs": [],
   "source": [
    "model_lessdiv.load_weights('models/resnet_32_fusion_diversity_lessdiv_strongforhigher321v2_avg_weight_best.h5')"
   ]
  },
  {
   "cell_type": "code",
   "execution_count": 6,
   "metadata": {
    "scrolled": true
   },
   "outputs": [
    {
     "name": "stdout",
     "output_type": "stream",
     "text": [
      "WARNING:tensorflow:From /home/mastlab/.conda/envs/tf1-12/lib/python3.6/site-packages/cleverhans/attacks.py:216: calling reduce_max (from tensorflow.python.ops.math_ops) with keep_dims is deprecated and will be removed in a future version.\n",
      "Instructions for updating:\n",
      "keep_dims is deprecated, use keepdims instead\n",
      "WARNING:tensorflow:From /home/mastlab/.conda/envs/tf1-12/lib/python3.6/site-packages/cleverhans/attacks_tf.py:62: calling reduce_sum (from tensorflow.python.ops.math_ops) with keep_dims is deprecated and will be removed in a future version.\n",
      "Instructions for updating:\n",
      "keep_dims is deprecated, use keepdims instead\n",
      "WARNING:tensorflow:From /home/mastlab/.conda/envs/tf1-12/lib/python3.6/site-packages/cleverhans/utils_tf.py:37: softmax_cross_entropy_with_logits (from tensorflow.python.ops.nn_ops) is deprecated and will be removed in a future version.\n",
      "Instructions for updating:\n",
      "\n",
      "Future major versions of TensorFlow will allow gradients to flow\n",
      "into the labels input on backprop by default.\n",
      "\n",
      "See `tf.nn.softmax_cross_entropy_with_logits_v2`.\n",
      "\n"
     ]
    },
    {
     "data": {
      "text/plain": [
       "0.9484"
      ]
     },
     "execution_count": 6,
     "metadata": {},
     "output_type": "execute_result"
    }
   ],
   "source": [
    "# fgsm 0.02\n",
    "attack_iterative(sess, model_lessdiv, dataset='mnist', num_classes=10, attack_method='FastGradientMethod', eps_=0.1, nb_iter_=10)"
   ]
  },
  {
   "cell_type": "code",
   "execution_count": 7,
   "metadata": {},
   "outputs": [
    {
     "data": {
      "text/plain": [
       "0.6546"
      ]
     },
     "execution_count": 7,
     "metadata": {},
     "output_type": "execute_result"
    }
   ],
   "source": [
    "# fgsm 0.04\n",
    "attack_iterative(sess, model_lessdiv, dataset='mnist', num_classes=10, attack_method='FastGradientMethod', eps_=0.2, nb_iter_=10)"
   ]
  },
  {
   "cell_type": "code",
   "execution_count": 8,
   "metadata": {},
   "outputs": [
    {
     "data": {
      "text/plain": [
       "0.2068"
      ]
     },
     "execution_count": 8,
     "metadata": {},
     "output_type": "execute_result"
    }
   ],
   "source": [
    "# fgsm 0.04\n",
    "attack_iterative(sess, model_lessdiv, dataset='mnist', num_classes=10, attack_method='FastGradientMethod', eps_=0.3, nb_iter_=10)"
   ]
  },
  {
   "cell_type": "code",
   "execution_count": 9,
   "metadata": {},
   "outputs": [
    {
     "data": {
      "text/plain": [
       "0.9576"
      ]
     },
     "execution_count": 9,
     "metadata": {},
     "output_type": "execute_result"
    }
   ],
   "source": [
    "# bim 0.02\n",
    "attack_iterative(sess, model_lessdiv, dataset='mnist', num_classes=10, attack_method='BasicIterativeMethod', eps_=0.05, nb_iter_=10)"
   ]
  },
  {
   "cell_type": "code",
   "execution_count": 10,
   "metadata": {},
   "outputs": [
    {
     "data": {
      "text/plain": [
       "0.878"
      ]
     },
     "execution_count": 10,
     "metadata": {},
     "output_type": "execute_result"
    }
   ],
   "source": [
    "# bim 0.02\n",
    "attack_iterative(sess, model_lessdiv, dataset='mnist', num_classes=10, attack_method='BasicIterativeMethod', eps_=0.1, nb_iter_=10)"
   ]
  },
  {
   "cell_type": "code",
   "execution_count": 11,
   "metadata": {},
   "outputs": [
    {
     "data": {
      "text/plain": [
       "0.7284"
      ]
     },
     "execution_count": 11,
     "metadata": {},
     "output_type": "execute_result"
    }
   ],
   "source": [
    "# bim 0.02\n",
    "attack_iterative(sess, model_lessdiv, dataset='mnist', num_classes=10, attack_method='BasicIterativeMethod', eps_=0.15, nb_iter_=10)"
   ]
  },
  {
   "cell_type": "code",
   "execution_count": 6,
   "metadata": {},
   "outputs": [
    {
     "name": "stdout",
     "output_type": "stream",
     "text": [
      "WARNING:tensorflow:From /home/mastlab/.conda/envs/tf1-12/lib/python3.6/site-packages/cleverhans/attacks.py:216: calling reduce_max (from tensorflow.python.ops.math_ops) with keep_dims is deprecated and will be removed in a future version.\n",
      "Instructions for updating:\n",
      "keep_dims is deprecated, use keepdims instead\n",
      "WARNING:tensorflow:From /home/mastlab/.conda/envs/tf1-12/lib/python3.6/site-packages/cleverhans/attacks.py:529: calling reduce_sum (from tensorflow.python.ops.math_ops) with keep_dims is deprecated and will be removed in a future version.\n",
      "Instructions for updating:\n",
      "keep_dims is deprecated, use keepdims instead\n",
      "WARNING:tensorflow:From /home/mastlab/.conda/envs/tf1-12/lib/python3.6/site-packages/cleverhans/utils_tf.py:37: softmax_cross_entropy_with_logits (from tensorflow.python.ops.nn_ops) is deprecated and will be removed in a future version.\n",
      "Instructions for updating:\n",
      "\n",
      "Future major versions of TensorFlow will allow gradients to flow\n",
      "into the labels input on backprop by default.\n",
      "\n",
      "See `tf.nn.softmax_cross_entropy_with_logits_v2`.\n",
      "\n",
      "WARNING:tensorflow:From /home/mastlab/.conda/envs/tf1-12/lib/python3.6/site-packages/cleverhans/attacks.py:549: calling reduce_mean (from tensorflow.python.ops.math_ops) with keep_dims is deprecated and will be removed in a future version.\n",
      "Instructions for updating:\n",
      "keep_dims is deprecated, use keepdims instead\n"
     ]
    },
    {
     "data": {
      "text/plain": [
       "0.9638"
      ]
     },
     "execution_count": 6,
     "metadata": {},
     "output_type": "execute_result"
    }
   ],
   "source": [
    "# mim 0.02\n",
    "attack_iterative(sess, model_lessdiv, dataset='mnist', num_classes=10, attack_method='MomentumIterativeMethod', eps_=0.05, nb_iter_=10)"
   ]
  },
  {
   "cell_type": "code",
   "execution_count": 7,
   "metadata": {},
   "outputs": [
    {
     "data": {
      "text/plain": [
       "0.9089"
      ]
     },
     "execution_count": 7,
     "metadata": {},
     "output_type": "execute_result"
    }
   ],
   "source": [
    "# mim 0.02\n",
    "attack_iterative(sess, model_lessdiv, dataset='mnist', num_classes=10, attack_method='MomentumIterativeMethod', eps_=0.1, nb_iter_=10)"
   ]
  },
  {
   "cell_type": "code",
   "execution_count": 8,
   "metadata": {},
   "outputs": [
    {
     "data": {
      "text/plain": [
       "0.7984"
      ]
     },
     "execution_count": 8,
     "metadata": {},
     "output_type": "execute_result"
    }
   ],
   "source": [
    "# mim 0.02\n",
    "attack_iterative(sess, model_lessdiv, dataset='mnist', num_classes=10, attack_method='MomentumIterativeMethod', eps_=0.15, nb_iter_=10)"
   ]
  },
  {
   "cell_type": "code",
   "execution_count": 9,
   "metadata": {},
   "outputs": [
    {
     "data": {
      "text/plain": [
       "0.9598"
      ]
     },
     "execution_count": 9,
     "metadata": {},
     "output_type": "execute_result"
    }
   ],
   "source": [
    "# pgd 0.02\n",
    "attack_iterative(sess, model_lessdiv, dataset='mnist', num_classes=10, attack_method='MadryEtAl', eps_=0.05, nb_iter_=10)"
   ]
  },
  {
   "cell_type": "code",
   "execution_count": 10,
   "metadata": {},
   "outputs": [
    {
     "data": {
      "text/plain": [
       "0.7589"
      ]
     },
     "execution_count": 10,
     "metadata": {},
     "output_type": "execute_result"
    }
   ],
   "source": [
    "# pgd 0.02\n",
    "attack_iterative(sess, model_lessdiv, dataset='mnist', num_classes=10, attack_method='MadryEtAl', eps_=0.1, nb_iter_=10)"
   ]
  },
  {
   "cell_type": "code",
   "execution_count": 11,
   "metadata": {},
   "outputs": [
    {
     "data": {
      "text/plain": [
       "0.3861"
      ]
     },
     "execution_count": 11,
     "metadata": {},
     "output_type": "execute_result"
    }
   ],
   "source": [
    "# pgd 0.02\n",
    "attack_iterative(sess, model_lessdiv, dataset='mnist', num_classes=10, attack_method='MadryEtAl', eps_=0.15, nb_iter_=10)"
   ]
  },
  {
   "cell_type": "code",
   "execution_count": 6,
   "metadata": {},
   "outputs": [
    {
     "name": "stdout",
     "output_type": "stream",
     "text": [
      "num_samples: 500\n"
     ]
    },
    {
     "name": "stderr",
     "output_type": "stream",
     "text": [
      "/home/mastlab/.conda/envs/tf1-12/lib/python3.6/site-packages/cleverhans/attacks_tf.py:389: UserWarning: jsma_batch is deprecated and will be removed on 2018-06-10. Use jsma_symbolic instead.\n",
      "  warnings.warn(\"jsma_batch is deprecated and will be removed on \"\n"
     ]
    },
    {
     "name": "stdout",
     "output_type": "stream",
     "text": [
      "1535.2198116779327\n"
     ]
    },
    {
     "data": {
      "text/plain": [
       "(0.994, 0.868)"
      ]
     },
     "execution_count": 6,
     "metadata": {},
     "output_type": "execute_result"
    }
   ],
   "source": [
    "# jsma confidence 0.05 theta 0.1\n",
    "# start_time = time.time()\n",
    "attack_jsma(sess, False, model_lessdiv, dataset='mnist', num_classes=10, attack_method='JSMA', theta_=0.2, gamma_=0.1)\n",
    "# print(time.time()-start_time)"
   ]
  },
  {
   "cell_type": "code",
   "execution_count": 7,
   "metadata": {},
   "outputs": [
    {
     "name": "stdout",
     "output_type": "stream",
     "text": [
      "num_samples: 500\n",
      "2781.985255718231\n"
     ]
    },
    {
     "data": {
      "text/plain": [
       "(0.994, 0.62)"
      ]
     },
     "execution_count": 7,
     "metadata": {},
     "output_type": "execute_result"
    }
   ],
   "source": [
    "# jsma confidence 0.05 theta 0.1\n",
    "# start_time = time.time()\n",
    "attack_jsma(sess, False, model_lessdiv, dataset='mnist', num_classes=10, attack_method='JSMA', theta_=0.2, gamma_=0.2)\n",
    "# print(time.time()-start_time)"
   ]
  },
  {
   "cell_type": "code",
   "execution_count": 8,
   "metadata": {},
   "outputs": [
    {
     "name": "stdout",
     "output_type": "stream",
     "text": [
      "num_samples: 500\n",
      "4358.237201929092\n"
     ]
    },
    {
     "data": {
      "text/plain": [
       "(0.994, 0.306)"
      ]
     },
     "execution_count": 8,
     "metadata": {},
     "output_type": "execute_result"
    }
   ],
   "source": [
    "# jsma confidence 0.05 theta 0.1\n",
    "# start_time = time.time()\n",
    "attack_jsma(sess, False, model_lessdiv, dataset='mnist', num_classes=10, attack_method='JSMA', theta_=0.2, gamma_=0.4)\n",
    "# print(time.time()-start_time)"
   ]
  },
  {
   "cell_type": "code",
   "execution_count": 6,
   "metadata": {},
   "outputs": [
    {
     "name": "stdout",
     "output_type": "stream",
     "text": [
      "WARNING:tensorflow:From /home/mastlab/.conda/envs/tf1-12/lib/python3.6/site-packages/cleverhans/attacks.py:216: calling reduce_max (from tensorflow.python.ops.math_ops) with keep_dims is deprecated and will be removed in a future version.\n",
      "Instructions for updating:\n",
      "keep_dims is deprecated, use keepdims instead\n"
     ]
    },
    {
     "name": "stderr",
     "output_type": "stream",
     "text": [
      "/home/mastlab/.conda/envs/tf1-12/lib/python3.6/site-packages/numpy/core/fromnumeric.py:3118: RuntimeWarning: Mean of empty slice.\n",
      "  out=out, **kwargs)\n",
      "/home/mastlab/.conda/envs/tf1-12/lib/python3.6/site-packages/numpy/core/_methods.py:85: RuntimeWarning: invalid value encountered in double_scalars\n",
      "  ret = ret.dtype.type(ret / rcount)\n"
     ]
    },
    {
     "data": {
      "text/plain": [
       "(0.994, 0.974)"
      ]
     },
     "execution_count": 6,
     "metadata": {},
     "output_type": "execute_result"
    }
   ],
   "source": [
    "# cw2 0.1\n",
    "attack_optimization(sess, False, model_lessdiv, dataset='mnist', num_classes=10, attack_method='CarliniWagnerL2', iconst=0.1)"
   ]
  },
  {
   "cell_type": "code",
   "execution_count": 7,
   "metadata": {},
   "outputs": [
    {
     "data": {
      "text/plain": [
       "(0.994, 0.8755)"
      ]
     },
     "execution_count": 7,
     "metadata": {},
     "output_type": "execute_result"
    }
   ],
   "source": [
    "# cw2 0.1\n",
    "attack_optimization(sess, False, model_lessdiv, dataset='mnist', num_classes=10, attack_method='CarliniWagnerL2', iconst=1)"
   ]
  },
  {
   "cell_type": "code",
   "execution_count": 8,
   "metadata": {},
   "outputs": [
    {
     "data": {
      "text/plain": [
       "(0.994, 0.3835)"
      ]
     },
     "execution_count": 8,
     "metadata": {},
     "output_type": "execute_result"
    }
   ],
   "source": [
    "# cw2 0.1\n",
    "attack_optimization(sess, False, model_lessdiv, dataset='mnist', num_classes=10, attack_method='CarliniWagnerL2', iconst=5)"
   ]
  },
  {
   "cell_type": "code",
   "execution_count": 9,
   "metadata": {},
   "outputs": [
    {
     "data": {
      "text/plain": [
       "(0.994, 0.988)"
      ]
     },
     "execution_count": 9,
     "metadata": {},
     "output_type": "execute_result"
    }
   ],
   "source": [
    "# EAM 5\n",
    "attack_optimization(sess, False, model_lessdiv, dataset='mnist', num_classes=10, attack_method='ElasticNetMethod', iconst=1)"
   ]
  },
  {
   "cell_type": "code",
   "execution_count": 10,
   "metadata": {},
   "outputs": [
    {
     "data": {
      "text/plain": [
       "(0.994, 0.9535)"
      ]
     },
     "execution_count": 10,
     "metadata": {},
     "output_type": "execute_result"
    }
   ],
   "source": [
    "# EAM 5\n",
    "attack_optimization(sess, False, model_lessdiv, dataset='mnist', num_classes=10, attack_method='ElasticNetMethod', iconst=5)"
   ]
  },
  {
   "cell_type": "code",
   "execution_count": 11,
   "metadata": {},
   "outputs": [
    {
     "data": {
      "text/plain": [
       "(0.994, 0.9305)"
      ]
     },
     "execution_count": 11,
     "metadata": {},
     "output_type": "execute_result"
    }
   ],
   "source": [
    "# EAM 5\n",
    "attack_optimization(sess, False, model_lessdiv, dataset='mnist', num_classes=10, attack_method='ElasticNetMethod', iconst=10)"
   ]
  },
  {
   "cell_type": "markdown",
   "metadata": {},
   "source": [
    "# lessdiv_strongforhigher"
   ]
  },
  {
   "cell_type": "code",
   "execution_count": 6,
   "metadata": {},
   "outputs": [],
   "source": [
    "resnet_lessdiv_strongforhigher = ResNet_v12(x_train=x_train, y_train=y_train, x_val=x_test, y_val=y_test, load_weights=False)\n",
    "resnet_lessdiv_strongforhigher.construct()\n",
    "model_lessdiv_strongforhigher = resnet_lessdiv_strongforhigher._model"
   ]
  },
  {
   "cell_type": "code",
   "execution_count": 7,
   "metadata": {},
   "outputs": [],
   "source": [
    "model_lessdiv_strongforhigher.load_weights('models/resnet_32_fusion_diversity_lessdiv_strongforhigher321v2_avg_weight_best.h5')"
   ]
  },
  {
   "cell_type": "code",
   "execution_count": 6,
   "metadata": {
    "scrolled": true
   },
   "outputs": [
    {
     "name": "stdout",
     "output_type": "stream",
     "text": [
      "WARNING:tensorflow:From /home/mastlab/.conda/envs/tf1-12/lib/python3.6/site-packages/cleverhans/attacks.py:216: calling reduce_max (from tensorflow.python.ops.math_ops) with keep_dims is deprecated and will be removed in a future version.\n",
      "Instructions for updating:\n",
      "keep_dims is deprecated, use keepdims instead\n",
      "WARNING:tensorflow:From /home/mastlab/.conda/envs/tf1-12/lib/python3.6/site-packages/cleverhans/attacks_tf.py:62: calling reduce_sum (from tensorflow.python.ops.math_ops) with keep_dims is deprecated and will be removed in a future version.\n",
      "Instructions for updating:\n",
      "keep_dims is deprecated, use keepdims instead\n",
      "WARNING:tensorflow:From /home/mastlab/.conda/envs/tf1-12/lib/python3.6/site-packages/cleverhans/utils_tf.py:37: softmax_cross_entropy_with_logits (from tensorflow.python.ops.nn_ops) is deprecated and will be removed in a future version.\n",
      "Instructions for updating:\n",
      "\n",
      "Future major versions of TensorFlow will allow gradients to flow\n",
      "into the labels input on backprop by default.\n",
      "\n",
      "See `tf.nn.softmax_cross_entropy_with_logits_v2`.\n",
      "\n"
     ]
    },
    {
     "data": {
      "text/plain": [
       "0.9484"
      ]
     },
     "execution_count": 6,
     "metadata": {},
     "output_type": "execute_result"
    }
   ],
   "source": [
    "# fgsm 0.02\n",
    "attack_iterative(sess, model_lessdiv_strongforhigher, dataset='mnist', num_classes=10, attack_method='FastGradientMethod', eps_=0.1, nb_iter_=10)"
   ]
  },
  {
   "cell_type": "code",
   "execution_count": 7,
   "metadata": {},
   "outputs": [
    {
     "data": {
      "text/plain": [
       "0.6546"
      ]
     },
     "execution_count": 7,
     "metadata": {},
     "output_type": "execute_result"
    }
   ],
   "source": [
    "# fgsm 0.04\n",
    "attack_iterative(sess, model_lessdiv_strongforhigher, dataset='mnist', num_classes=10, attack_method='FastGradientMethod', eps_=0.2, nb_iter_=10)"
   ]
  },
  {
   "cell_type": "code",
   "execution_count": 8,
   "metadata": {},
   "outputs": [
    {
     "data": {
      "text/plain": [
       "0.7283"
      ]
     },
     "execution_count": 8,
     "metadata": {},
     "output_type": "execute_result"
    }
   ],
   "source": [
    "# bim 0.02\n",
    "attack_iterative(sess, model_lessdiv_strongforhigher, dataset='mnist', num_classes=10, attack_method='BasicIterativeMethod', eps_=0.15, nb_iter_=10)"
   ]
  },
  {
   "cell_type": "code",
   "execution_count": 9,
   "metadata": {},
   "outputs": [
    {
     "name": "stdout",
     "output_type": "stream",
     "text": [
      "WARNING:tensorflow:From /home/mastlab/.conda/envs/tf1-12/lib/python3.6/site-packages/cleverhans/attacks.py:549: calling reduce_mean (from tensorflow.python.ops.math_ops) with keep_dims is deprecated and will be removed in a future version.\n",
      "Instructions for updating:\n",
      "keep_dims is deprecated, use keepdims instead\n"
     ]
    },
    {
     "data": {
      "text/plain": [
       "0.7984"
      ]
     },
     "execution_count": 9,
     "metadata": {},
     "output_type": "execute_result"
    }
   ],
   "source": [
    "# mim 0.02\n",
    "attack_iterative(sess, model_lessdiv_strongforhigher, dataset='mnist', num_classes=10, attack_method='MomentumIterativeMethod', eps_=0.15, nb_iter_=10)"
   ]
  },
  {
   "cell_type": "code",
   "execution_count": 10,
   "metadata": {},
   "outputs": [
    {
     "data": {
      "text/plain": [
       "0.38"
      ]
     },
     "execution_count": 10,
     "metadata": {},
     "output_type": "execute_result"
    }
   ],
   "source": [
    "# pgd 0.02\n",
    "attack_iterative(sess, model_lessdiv_strongforhigher, dataset='mnist', num_classes=10, attack_method='MadryEtAl', eps_=0.15, nb_iter_=10)"
   ]
  },
  {
   "cell_type": "code",
   "execution_count": 8,
   "metadata": {},
   "outputs": [
    {
     "name": "stdout",
     "output_type": "stream",
     "text": [
      "num_samples: 1000\n",
      "5646.558261632919\n"
     ]
    },
    {
     "data": {
      "text/plain": [
       "(0.994, 0.627)"
      ]
     },
     "execution_count": 8,
     "metadata": {},
     "output_type": "execute_result"
    }
   ],
   "source": [
    "# jsma confidence 0.05 theta 0.1\n",
    "# start_time = time.time()\n",
    "attack_jsma(sess, False, model_lessdiv_strongforhigher, dataset='mnist', num_classes=10, attack_method='JSMA', theta_=0.2, gamma_=0.1)\n",
    "# print(time.time()-start_time)"
   ]
  },
  {
   "cell_type": "code",
   "execution_count": 8,
   "metadata": {},
   "outputs": [
    {
     "name": "stdout",
     "output_type": "stream",
     "text": [
      "num_samples: 1000\n",
      "5646.558261632919\n"
     ]
    },
    {
     "data": {
      "text/plain": [
       "(0.994, 0.627)"
      ]
     },
     "execution_count": 8,
     "metadata": {},
     "output_type": "execute_result"
    }
   ],
   "source": [
    "# jsma confidence 0.05 theta 0.1\n",
    "# start_time = time.time()\n",
    "attack_jsma(sess, False, model_lessdiv_strongforhigher, dataset='mnist', num_classes=10, attack_method='JSMA', theta_=0.2, gamma_=0.2)\n",
    "# print(time.time()-start_time)"
   ]
  },
  {
   "cell_type": "code",
   "execution_count": 8,
   "metadata": {},
   "outputs": [
    {
     "name": "stdout",
     "output_type": "stream",
     "text": [
      "num_samples: 1000\n",
      "5646.558261632919\n"
     ]
    },
    {
     "data": {
      "text/plain": [
       "(0.994, 0.627)"
      ]
     },
     "execution_count": 8,
     "metadata": {},
     "output_type": "execute_result"
    }
   ],
   "source": [
    "# jsma confidence 0.05 theta 0.1\n",
    "# start_time = time.time()\n",
    "attack_jsma(sess, False, model_lessdiv_strongforhigher, dataset='mnist', num_classes=10, attack_method='JSMA', theta_=0.2, gamma_=0.4)\n",
    "# print(time.time()-start_time)"
   ]
  },
  {
   "cell_type": "code",
   "execution_count": 6,
   "metadata": {},
   "outputs": [
    {
     "name": "stdout",
     "output_type": "stream",
     "text": [
      "WARNING:tensorflow:From /home/mastlab/.conda/envs/tf1-12/lib/python3.6/site-packages/cleverhans/attacks.py:216: calling reduce_max (from tensorflow.python.ops.math_ops) with keep_dims is deprecated and will be removed in a future version.\n",
      "Instructions for updating:\n",
      "keep_dims is deprecated, use keepdims instead\n"
     ]
    },
    {
     "data": {
      "text/plain": [
       "(0.994, 0.88)"
      ]
     },
     "execution_count": 6,
     "metadata": {},
     "output_type": "execute_result"
    }
   ],
   "source": [
    "# cw2 0.1\n",
    "attack_optimization(sess, False, model_lessdiv_strongforhigher, dataset='mnist', num_classes=10, attack_method='CarliniWagnerL2')"
   ]
  },
  {
   "cell_type": "code",
   "execution_count": 7,
   "metadata": {},
   "outputs": [
    {
     "data": {
      "text/plain": [
       "(0.994, 0.956)"
      ]
     },
     "execution_count": 7,
     "metadata": {},
     "output_type": "execute_result"
    }
   ],
   "source": [
    "# EAM 5\n",
    "attack_optimization(sess, False, model_lessdiv_strongforhigher, dataset='mnist', num_classes=10, attack_method='ElasticNetMethod')"
   ]
  },
  {
   "cell_type": "code",
   "execution_count": null,
   "metadata": {},
   "outputs": [],
   "source": []
  }
 ],
 "metadata": {
  "kernelspec": {
   "display_name": "Python 3",
   "language": "python",
   "name": "python3"
  },
  "language_info": {
   "codemirror_mode": {
    "name": "ipython",
    "version": 3
   },
   "file_extension": ".py",
   "mimetype": "text/x-python",
   "name": "python",
   "nbconvert_exporter": "python",
   "pygments_lexer": "ipython3",
   "version": "3.6.8"
  }
 },
 "nbformat": 4,
 "nbformat_minor": 2
}
