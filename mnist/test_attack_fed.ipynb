{
 "cells": [
  {
   "cell_type": "code",
   "execution_count": 1,
   "metadata": {},
   "outputs": [
    {
     "name": "stderr",
     "output_type": "stream",
     "text": [
      "/home/mastlab/.conda/envs/wf1-12/lib/python3.6/site-packages/tensorflow/python/framework/dtypes.py:523: FutureWarning: Passing (type, 1) or '1type' as a synonym of type is deprecated; in a future version of numpy, it will be understood as (type, (1,)) / '(1,)type'.\n",
      "  _np_qint8 = np.dtype([(\"qint8\", np.int8, 1)])\n",
      "/home/mastlab/.conda/envs/wf1-12/lib/python3.6/site-packages/tensorflow/python/framework/dtypes.py:524: FutureWarning: Passing (type, 1) or '1type' as a synonym of type is deprecated; in a future version of numpy, it will be understood as (type, (1,)) / '(1,)type'.\n",
      "  _np_quint8 = np.dtype([(\"quint8\", np.uint8, 1)])\n",
      "/home/mastlab/.conda/envs/wf1-12/lib/python3.6/site-packages/tensorflow/python/framework/dtypes.py:525: FutureWarning: Passing (type, 1) or '1type' as a synonym of type is deprecated; in a future version of numpy, it will be understood as (type, (1,)) / '(1,)type'.\n",
      "  _np_qint16 = np.dtype([(\"qint16\", np.int16, 1)])\n",
      "/home/mastlab/.conda/envs/wf1-12/lib/python3.6/site-packages/tensorflow/python/framework/dtypes.py:526: FutureWarning: Passing (type, 1) or '1type' as a synonym of type is deprecated; in a future version of numpy, it will be understood as (type, (1,)) / '(1,)type'.\n",
      "  _np_quint16 = np.dtype([(\"quint16\", np.uint16, 1)])\n",
      "/home/mastlab/.conda/envs/wf1-12/lib/python3.6/site-packages/tensorflow/python/framework/dtypes.py:527: FutureWarning: Passing (type, 1) or '1type' as a synonym of type is deprecated; in a future version of numpy, it will be understood as (type, (1,)) / '(1,)type'.\n",
      "  _np_qint32 = np.dtype([(\"qint32\", np.int32, 1)])\n",
      "/home/mastlab/.conda/envs/wf1-12/lib/python3.6/site-packages/tensorflow/python/framework/dtypes.py:532: FutureWarning: Passing (type, 1) or '1type' as a synonym of type is deprecated; in a future version of numpy, it will be understood as (type, (1,)) / '(1,)type'.\n",
      "  np_resource = np.dtype([(\"resource\", np.ubyte, 1)])\n",
      "Using TensorFlow backend.\n"
     ]
    }
   ],
   "source": [
    "import tensorflow as tf\n",
    "import keras as keras\n",
    "import keras.backend as K\n",
    "from resnet_keras_feature_fusion_v12_deconv import ResNet_v12_deconv\n",
    "from resnet_keras_feature_fusion_v12_bi import ResNet_v12_bi\n",
    "from resnet_keras_feature_fusion_v12 import ResNet_v12\n",
    "from resnet_keras import ResNet\n",
    "from test_cifar_iterative import attack_iterative\n",
    "from test_cifar_jsma import attack_jsma\n",
    "from test_cifar_optimization import attack_optimization\n",
    "import mnist\n",
    "import time"
   ]
  },
  {
   "cell_type": "code",
   "execution_count": 2,
   "metadata": {},
   "outputs": [],
   "source": [
    "x_train, y_train, x_test, y_test = mnist.get_data()"
   ]
  },
  {
   "cell_type": "code",
   "execution_count": 3,
   "metadata": {},
   "outputs": [],
   "source": [
    "# sess = tf.Session()\n",
    "# for jsma\n",
    "sess = tf.Session(config=tf.ConfigProto(allow_soft_placement=True))\n",
    "K.set_session(sess)"
   ]
  },
  {
   "cell_type": "markdown",
   "metadata": {},
   "source": [
    "# lessdiv_strongforhigher"
   ]
  },
  {
   "cell_type": "code",
   "execution_count": 4,
   "metadata": {},
   "outputs": [],
   "source": [
    "resnet_lessdiv_strongforhigher = ResNet_v12(x_train=x_train, y_train=y_train, x_val=x_test, y_val=y_test, load_weights=False)\n",
    "resnet_lessdiv_strongforhigher.construct()\n",
    "model_lessdiv_strongforhigher = resnet_lessdiv_strongforhigher._model"
   ]
  },
  {
   "cell_type": "code",
   "execution_count": 5,
   "metadata": {},
   "outputs": [],
   "source": [
    "model_lessdiv_strongforhigher.load_weights('models/mnist_fl_10_1_64_mean.h5')"
   ]
  },
  {
   "cell_type": "code",
   "execution_count": 6,
   "metadata": {
    "scrolled": true
   },
   "outputs": [
    {
     "name": "stdout",
     "output_type": "stream",
     "text": [
      "WARNING:tensorflow:From /home/mastlab/.conda/envs/wf1-12/lib/python3.6/site-packages/cleverhans/attacks.py:216: calling reduce_max (from tensorflow.python.ops.math_ops) with keep_dims is deprecated and will be removed in a future version.\n",
      "Instructions for updating:\n",
      "keep_dims is deprecated, use keepdims instead\n",
      "WARNING:tensorflow:From /home/mastlab/.conda/envs/wf1-12/lib/python3.6/site-packages/cleverhans/attacks_tf.py:62: calling reduce_sum (from tensorflow.python.ops.math_ops) with keep_dims is deprecated and will be removed in a future version.\n",
      "Instructions for updating:\n",
      "keep_dims is deprecated, use keepdims instead\n",
      "WARNING:tensorflow:From /home/mastlab/.conda/envs/wf1-12/lib/python3.6/site-packages/cleverhans/utils_tf.py:37: softmax_cross_entropy_with_logits (from tensorflow.python.ops.nn_ops) is deprecated and will be removed in a future version.\n",
      "Instructions for updating:\n",
      "\n",
      "Future major versions of TensorFlow will allow gradients to flow\n",
      "into the labels input on backprop by default.\n",
      "\n",
      "See `tf.nn.softmax_cross_entropy_with_logits_v2`.\n",
      "\n"
     ]
    },
    {
     "data": {
      "text/plain": [
       "0.7944"
      ]
     },
     "execution_count": 6,
     "metadata": {},
     "output_type": "execute_result"
    }
   ],
   "source": [
    "# fgsm 0.02\n",
    "attack_iterative(sess, model_lessdiv_strongforhigher, dataset='mnist', num_classes=10, attack_method='FastGradientMethod', eps_=0.1, nb_iter_=10)"
   ]
  },
  {
   "cell_type": "code",
   "execution_count": 7,
   "metadata": {},
   "outputs": [
    {
     "data": {
      "text/plain": [
       "0.3398"
      ]
     },
     "execution_count": 7,
     "metadata": {},
     "output_type": "execute_result"
    }
   ],
   "source": [
    "# fgsm 0.04\n",
    "attack_iterative(sess, model_lessdiv_strongforhigher, dataset='mnist', num_classes=10, attack_method='FastGradientMethod', eps_=0.2, nb_iter_=10)"
   ]
  },
  {
   "cell_type": "code",
   "execution_count": 8,
   "metadata": {},
   "outputs": [
    {
     "data": {
      "text/plain": [
       "0.1935"
      ]
     },
     "execution_count": 8,
     "metadata": {},
     "output_type": "execute_result"
    }
   ],
   "source": [
    "# fgsm 0.04\n",
    "attack_iterative(sess, model_lessdiv_strongforhigher, dataset='mnist', num_classes=10, attack_method='FastGradientMethod', eps_=0.3, nb_iter_=10)"
   ]
  },
  {
   "cell_type": "code",
   "execution_count": null,
   "metadata": {},
   "outputs": [],
   "source": [
    "# bim 0.02\n",
    "attack_iterative(sess, model_lessdiv_strongforhigher, dataset='mnist', num_classes=10, attack_method='BasicIterativeMethod', eps_=0.05, nb_iter_=10)"
   ]
  },
  {
   "cell_type": "code",
   "execution_count": null,
   "metadata": {},
   "outputs": [],
   "source": [
    "# bim 0.02\n",
    "attack_iterative(sess, model_lessdiv_strongforhigher, dataset='mnist', num_classes=10, attack_method='BasicIterativeMethod', eps_=0.1, nb_iter_=10)"
   ]
  },
  {
   "cell_type": "code",
   "execution_count": null,
   "metadata": {},
   "outputs": [],
   "source": [
    "# bim 0.02\n",
    "attack_iterative(sess, model_lessdiv_strongforhigher, dataset='mnist', num_classes=10, attack_method='BasicIterativeMethod', eps_=0.15, nb_iter_=10)"
   ]
  },
  {
   "cell_type": "code",
   "execution_count": null,
   "metadata": {},
   "outputs": [],
   "source": [
    "# mim 0.02\n",
    "attack_iterative(sess, model_lessdiv_strongforhigher, dataset='mnist', num_classes=10, attack_method='MomentumIterativeMethod', eps_=0.05, nb_iter_=10)"
   ]
  },
  {
   "cell_type": "code",
   "execution_count": null,
   "metadata": {},
   "outputs": [],
   "source": [
    "# mim 0.02\n",
    "attack_iterative(sess, model_lessdiv_strongforhigher, dataset='mnist', num_classes=10, attack_method='MomentumIterativeMethod', eps_=0.1, nb_iter_=10)"
   ]
  },
  {
   "cell_type": "code",
   "execution_count": null,
   "metadata": {},
   "outputs": [],
   "source": [
    "# mim 0.02\n",
    "attack_iterative(sess, model_lessdiv_strongforhigher, dataset='mnist', num_classes=10, attack_method='MomentumIterativeMethod', eps_=0.15, nb_iter_=10)"
   ]
  },
  {
   "cell_type": "code",
   "execution_count": null,
   "metadata": {},
   "outputs": [
    {
     "data": {
      "text/plain": [
       "0.9264"
      ]
     },
     "execution_count": 15,
     "metadata": {},
     "output_type": "execute_result"
    }
   ],
   "source": [
    "# pgd 0.02\n",
    "attack_iterative(sess, model_lessdiv_strongforhigher, dataset='mnist', num_classes=10, attack_method='MadryEtAl', eps_=0.05, nb_iter_=10)"
   ]
  },
  {
   "cell_type": "code",
   "execution_count": 6,
   "metadata": {},
   "outputs": [
    {
     "name": "stdout",
     "output_type": "stream",
     "text": [
      "WARNING:tensorflow:From /home/mastlab/.conda/envs/tf1-12/lib/python3.6/site-packages/cleverhans/attacks.py:216: calling reduce_max (from tensorflow.python.ops.math_ops) with keep_dims is deprecated and will be removed in a future version.\n",
      "Instructions for updating:\n",
      "keep_dims is deprecated, use keepdims instead\n",
      "WARNING:tensorflow:From /home/mastlab/.conda/envs/tf1-12/lib/python3.6/site-packages/cleverhans/utils_tf.py:37: softmax_cross_entropy_with_logits (from tensorflow.python.ops.nn_ops) is deprecated and will be removed in a future version.\n",
      "Instructions for updating:\n",
      "\n",
      "Future major versions of TensorFlow will allow gradients to flow\n",
      "into the labels input on backprop by default.\n",
      "\n",
      "See `tf.nn.softmax_cross_entropy_with_logits_v2`.\n",
      "\n"
     ]
    },
    {
     "data": {
      "text/plain": [
       "0.3324"
      ]
     },
     "execution_count": 6,
     "metadata": {},
     "output_type": "execute_result"
    }
   ],
   "source": [
    "# pgd 0.02\n",
    "attack_iterative(sess, model_lessdiv_strongforhigher, dataset='mnist', num_classes=10, attack_method='MadryEtAl', eps_=0.1, nb_iter_=10)"
   ]
  },
  {
   "cell_type": "code",
   "execution_count": 7,
   "metadata": {},
   "outputs": [
    {
     "data": {
      "text/plain": [
       "0.0484"
      ]
     },
     "execution_count": 7,
     "metadata": {},
     "output_type": "execute_result"
    }
   ],
   "source": [
    "# pgd 0.02\n",
    "attack_iterative(sess, model_lessdiv_strongforhigher, dataset='mnist', num_classes=10, attack_method='MadryEtAl', eps_=0.15, nb_iter_=10)"
   ]
  },
  {
   "cell_type": "code",
   "execution_count": 8,
   "metadata": {},
   "outputs": [
    {
     "name": "stdout",
     "output_type": "stream",
     "text": [
      "num_samples: 1000\n",
      "5646.558261632919\n"
     ]
    },
    {
     "data": {
      "text/plain": [
       "(0.994, 0.627)"
      ]
     },
     "execution_count": 8,
     "metadata": {},
     "output_type": "execute_result"
    }
   ],
   "source": [
    "# jsma confidence 0.05 theta 0.1\n",
    "# start_time = time.time()\n",
    "attack_jsma(sess, False, model_lessdiv_strongforhigher, dataset='mnist', num_classes=10, attack_method='JSMA', theta_=0.2, gamma_=0.1)\n",
    "# print(time.time()-start_time)"
   ]
  },
  {
   "cell_type": "code",
   "execution_count": 8,
   "metadata": {},
   "outputs": [
    {
     "name": "stdout",
     "output_type": "stream",
     "text": [
      "num_samples: 1000\n",
      "5646.558261632919\n"
     ]
    },
    {
     "data": {
      "text/plain": [
       "(0.994, 0.627)"
      ]
     },
     "execution_count": 8,
     "metadata": {},
     "output_type": "execute_result"
    }
   ],
   "source": [
    "# jsma confidence 0.05 theta 0.1\n",
    "# start_time = time.time()\n",
    "attack_jsma(sess, False, model_lessdiv_strongforhigher, dataset='mnist', num_classes=10, attack_method='JSMA', theta_=0.2, gamma_=0.2)\n",
    "# print(time.time()-start_time)"
   ]
  },
  {
   "cell_type": "code",
   "execution_count": 8,
   "metadata": {},
   "outputs": [
    {
     "name": "stdout",
     "output_type": "stream",
     "text": [
      "num_samples: 1000\n",
      "5646.558261632919\n"
     ]
    },
    {
     "data": {
      "text/plain": [
       "(0.994, 0.627)"
      ]
     },
     "execution_count": 8,
     "metadata": {},
     "output_type": "execute_result"
    }
   ],
   "source": [
    "# jsma confidence 0.05 theta 0.1\n",
    "# start_time = time.time()\n",
    "attack_jsma(sess, False, model_lessdiv_strongforhigher, dataset='mnist', num_classes=10, attack_method='JSMA', theta_=0.2, gamma_=0.4)\n",
    "# print(time.time()-start_time)"
   ]
  },
  {
   "cell_type": "code",
   "execution_count": 6,
   "metadata": {},
   "outputs": [
    {
     "name": "stdout",
     "output_type": "stream",
     "text": [
      "WARNING:tensorflow:From /home/mastlab/.conda/envs/tf1-12/lib/python3.6/site-packages/cleverhans/attacks.py:216: calling reduce_max (from tensorflow.python.ops.math_ops) with keep_dims is deprecated and will be removed in a future version.\n",
      "Instructions for updating:\n",
      "keep_dims is deprecated, use keepdims instead\n"
     ]
    },
    {
     "data": {
      "text/plain": [
       "(0.994, 0.88)"
      ]
     },
     "execution_count": 6,
     "metadata": {},
     "output_type": "execute_result"
    }
   ],
   "source": [
    "# cw2 0.1\n",
    "attack_optimization(sess, False, model_lessdiv_strongforhigher, dataset='mnist', num_classes=10, attack_method='CarliniWagnerL2')"
   ]
  },
  {
   "cell_type": "code",
   "execution_count": 6,
   "metadata": {},
   "outputs": [
    {
     "name": "stdout",
     "output_type": "stream",
     "text": [
      "WARNING:tensorflow:From /home/mastlab/.conda/envs/tf1-12/lib/python3.6/site-packages/cleverhans/attacks.py:216: calling reduce_max (from tensorflow.python.ops.math_ops) with keep_dims is deprecated and will be removed in a future version.\n",
      "Instructions for updating:\n",
      "keep_dims is deprecated, use keepdims instead\n"
     ]
    },
    {
     "data": {
      "text/plain": [
       "(0.9895, 0.909)"
      ]
     },
     "execution_count": 6,
     "metadata": {},
     "output_type": "execute_result"
    }
   ],
   "source": [
    "# EAM 5\n",
    "attack_optimization(sess, False, model_lessdiv_strongforhigher, dataset='mnist', num_classes=10, attack_method='ElasticNetMethod', iconst=5)"
   ]
  },
  {
   "cell_type": "code",
   "execution_count": null,
   "metadata": {},
   "outputs": [],
   "source": []
  }
 ],
 "metadata": {
  "kernelspec": {
   "display_name": "Python 3",
   "language": "python",
   "name": "python3"
  },
  "language_info": {
   "codemirror_mode": {
    "name": "ipython",
    "version": 3
   },
   "file_extension": ".py",
   "mimetype": "text/x-python",
   "name": "python",
   "nbconvert_exporter": "python",
   "pygments_lexer": "ipython3",
   "version": "3.6.9"
  }
 },
 "nbformat": 4,
 "nbformat_minor": 2
}
